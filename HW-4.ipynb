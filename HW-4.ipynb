{
  "nbformat": 4,
  "nbformat_minor": 0,
  "metadata": {
    "kernelspec": {
      "display_name": "Python 3 (ipykernel)",
      "language": "python",
      "name": "python3"
    },
    "language_info": {
      "codemirror_mode": {
        "name": "ipython",
        "version": 3
      },
      "file_extension": ".py",
      "mimetype": "text/x-python",
      "name": "python",
      "nbconvert_exporter": "python",
      "pygments_lexer": "ipython3",
      "version": "3.9.7"
    },
    "colab": {
      "name": "homework-practice-04-classification-KosovskayaAnna.ipynb",
      "provenance": [],
      "collapsed_sections": []
    }
  },
  "cells": [
    {
      "cell_type": "markdown",
      "metadata": {
        "id": "tlEKmNl1zwyj"
      },
      "source": [
        "# Машинное обучение, ФКН ВШЭ\n",
        "\n",
        "## Практическое задание 4. Классификация. \n",
        "\n",
        "### Общая информация\n",
        "Дата выдачи: 29.10.2021\n",
        "\n",
        "Мягкий дедлайн: 23:59MSK 10.11.2021 (за каждый день просрочки снимается 1 балл)\n",
        "\n",
        "Жесткий дедлайн: 23:59MSK 13.11.2021"
      ]
    },
    {
      "cell_type": "markdown",
      "metadata": {
        "id": "ISoUCZyIzwyl"
      },
      "source": [
        "### О задании\n",
        "\n",
        "В этом задании вы:\n",
        "- ознакомитесь с тем, что происходит \"внутри\" метода опорных векторов и логистической регрессии\n",
        "- познакомитесь с калибровкой вероятности\n",
        "- изучите методы трансформации переменных и методы отбора признаков\n",
        "- попробуете оценить экономический эффект модели\n",
        "\n",
        "\n",
        "### Оценивание и штрафы\n",
        "Каждая из задач имеет определенную «стоимость» (указана в скобках около задачи). Максимально допустимая оценка за работу — 10 баллов.\n",
        "\n",
        "Сдавать задание после указанного срока сдачи нельзя. При выставлении неполного балла за задание в связи с наличием ошибок на усмотрение проверяющего предусмотрена возможность исправить работу на указанных в ответном письме условиях.\n",
        "\n",
        "Задание выполняется самостоятельно. «Похожие» решения считаются плагиатом и все задействованные студенты (в том числе те, у кого списали) не могут получить за него больше 0 баллов (подробнее о плагиате см. на странице курса). Если вы нашли решение какого-то из заданий (или его часть) в открытом источнике, необходимо указать ссылку на этот источник в отдельном блоке в конце вашей работы (скорее всего вы будете не единственным, кто это нашел, поэтому чтобы исключить подозрение в плагиате, необходима ссылка на источник).\n",
        "\n",
        "Неэффективная реализация кода может негативно отразиться на оценке.\n",
        "\n",
        "\n",
        "### Формат сдачи\n",
        "Для сдачи задания переименуйте получившийся файл *.ipynb в соответствии со следующим форматом: homework-practice-04-classification-Username.ipynb, где Username — ваша фамилия и имя на латинице именно в таком порядке (например, homework-practice-04-classification-IvanovIvan.ipynb).\n",
        "\n",
        "Для удобства проверки самостоятельно посчитайте свою максимальную оценку (исходя из набора решенных задач) и укажите ниже.\n",
        "\n",
        "**Оценка**: "
      ]
    },
    {
      "cell_type": "code",
      "metadata": {
        "id": "2J4Yy-5Jzwym"
      },
      "source": [
        "import numpy as np\n",
        "import pandas as pd\n",
        "import matplotlib.pyplot as plt\n",
        "%matplotlib inline\n",
        "from sklearn.metrics import roc_auc_score\n",
        "from sklearn.calibration import CalibratedClassifierCV\n",
        "from sklearn.svm import SVC\n",
        "from sklearn.linear_model import LogisticRegression\n",
        "from sklearn.metrics import precision_recall_curve\n",
        "import matplotlib.pyplot as plt\n",
        "from sklearn.metrics import roc_curve, auc\n",
        "from sklearn.svm import LinearSVC\n",
        "from sklearn.model_selection import GridSearchCV\n",
        "from sklearn.preprocessing import StandardScaler\n",
        "from sklearn.model_selection import train_test_split\n",
        "from sklearn.metrics import average_precision_score\n",
        "from sklearn.compose import ColumnTransformer\n",
        "from sklearn.pipeline import Pipeline\n",
        "from sklearn.base import BaseEstimator, TransformerMixin\n",
        "from sklearn.metrics import make_scorer\n",
        "import time\n",
        "\n",
        "pd.set_option('display.max_rows', 100)\n",
        "pd.set_option('display.max_columns', 100)"
      ],
      "execution_count": 205,
      "outputs": []
    },
    {
      "cell_type": "markdown",
      "metadata": {
        "id": "8rjvEHrozwyn"
      },
      "source": [
        "# Часть 0. SVM, LR и калибровка вероятностей. "
      ]
    },
    {
      "cell_type": "markdown",
      "metadata": {
        "id": "Gd9TgwyQzwyn"
      },
      "source": [
        "Сгенерируем синтетические данные."
      ]
    },
    {
      "cell_type": "code",
      "metadata": {
        "id": "nCiUqTpezwyn"
      },
      "source": [
        "from sklearn.datasets import make_classification\n",
        "from sklearn.model_selection import train_test_split\n",
        "\n",
        "X, y = make_classification(\n",
        "    n_samples=10000, n_features=10, n_informative=5, n_redundant=5,\n",
        "    random_state=42)\n",
        "\n",
        "X_train, X_test, y_train, y_test = train_test_split(\n",
        "    X, y, test_size=0.3, random_state=42)"
      ],
      "execution_count": 271,
      "outputs": []
    },
    {
      "cell_type": "markdown",
      "metadata": {
        "id": "EBIqKlI7zwyn"
      },
      "source": [
        "__Задание 1.__ Обучение и применение метода опорных векторов и логистической регрессии.\n",
        "\n",
        "__(1 балл)__\n",
        "\n",
        "Обучите метод опорных векторов. На занятиях мы проходили линейный вариант без ядрового перехода, что соответствует линейному ядру (`LinearSVC` или же `SVC(kernel='linear')` в `sklearn.svm`). Подберите параметр регуляризации `C` (можете воспользоваться кросс-валидацией или отделить валидационную выборку от обучающей). __Здесь и далее, если не сказано иначе, подбирайте оптимальные гиперпараметры с точки зрения AUC-PR.__"
      ]
    },
    {
      "cell_type": "code",
      "metadata": {
        "id": "5zLiRQd-OGM9"
      },
      "source": [
        "# сначала отнормируем данные\n",
        "\n",
        "scaler = StandardScaler()\n",
        "\n",
        "X_train = scaler.fit_transform(X_train)\n",
        "X_test = scaler.transform(X_test)"
      ],
      "execution_count": 273,
      "outputs": []
    },
    {
      "cell_type": "code",
      "metadata": {
        "colab": {
          "base_uri": "https://localhost:8080/"
        },
        "id": "m-42uIpl1-Aj",
        "outputId": "88156f62-1b40-408a-8ea2-a38169b9842c"
      },
      "source": [
        "# подберем по кросс-валидации параметр регуляризации\n",
        "\n",
        "C = np.logspace(-6, 2, 9)\n",
        "\n",
        "searcher = GridSearchCV(LinearSVC(max_iter=200000), [{\"C\": C}], scoring='average_precision', cv=3)\n",
        "searcher.fit(X_train, y_train)\n",
        "\n",
        "best_C = searcher.best_params_[\"C\"]\n",
        "print(\"Best SVC C = %.4f\" % best_C)"
      ],
      "execution_count": null,
      "outputs": [
        {
          "output_type": "stream",
          "name": "stdout",
          "text": [
            "Best SVC C = 0.0010\n"
          ]
        }
      ]
    },
    {
      "cell_type": "markdown",
      "metadata": {
        "id": "zac0skGYzwyo"
      },
      "source": [
        "На тестовой части постройте ROC и PR кривые, а также посчитайте AUC-ROC, AUC-PR с точностью до 5 знаков. Сравните AUC-ROC и AUC-PR для вашей модели с этими же метриками для случайного классификатора (который на каждом объекте выдаёт один из двух классов с равными вероятностями)."
      ]
    },
    {
      "cell_type": "code",
      "metadata": {
        "id": "6Q5ivAbKh1Da"
      },
      "source": [
        "model = LinearSVC(C=best_C, max_iter=200000)\n",
        "model.fit(X_train, y_train)\n",
        "y_pred = model.decision_function(X_test)"
      ],
      "execution_count": null,
      "outputs": []
    },
    {
      "cell_type": "markdown",
      "metadata": {
        "id": "tk_X4-iItO_i"
      },
      "source": [
        "Я код ниже вот [отсюда](https://stackoverflow.com/questions/25009284/how-to-plot-roc-curve-in-python) взяла. Это строю ROC-кривую."
      ]
    },
    {
      "cell_type": "code",
      "metadata": {
        "colab": {
          "base_uri": "https://localhost:8080/",
          "height": 295
        },
        "id": "CeVJ2vFtjqET",
        "outputId": "fc6e4cc1-a8f5-43e3-9c2e-a1262c00035f"
      },
      "source": [
        "# fpr -- false positive rate, tpr -- true positive rate\n",
        "fpr, tpr, threshold = roc_curve(y_test, y_pred)\n",
        "roc_auc = auc(fpr, tpr)\n",
        "\n",
        "plt.title('ROC-curve')\n",
        "plt.plot(fpr, tpr, 'b', label = 'ROC-curve: AUC = %0.5f' % roc_auc)\n",
        "plt.legend(loc = 'lower right')\n",
        "# plt.plot([0, 1], [0, 1],'r--')\n",
        "plt.xlim([0, 1])\n",
        "plt.ylim([0, 1])\n",
        "plt.ylabel('True Positive Rate')\n",
        "plt.xlabel('False Positive Rate')\n",
        "plt.show()"
      ],
      "execution_count": null,
      "outputs": [
        {
          "output_type": "display_data",
          "data": {
            "image/png": "[encoded data removed]",
            "text/plain": [
              "<Figure size 432x288 with 1 Axes>"
            ]
          },
          "metadata": {
            "needs_background": "light"
          }
        }
      ]
    },
    {
      "cell_type": "markdown",
      "metadata": {
        "id": "_pPXeaPpuFUU"
      },
      "source": [
        "А следующий код --- [отсюда](https://stackoverflow.com/questions/29656550/how-to-plot-pr-curve-over-10-folds-of-cross-validation-in-scikit-learn). Это PR-кривая."
      ]
    },
    {
      "cell_type": "code",
      "metadata": {
        "colab": {
          "base_uri": "https://localhost:8080/",
          "height": 313
        },
        "id": "7bKnm5IEuE1P",
        "outputId": "8a5d55f1-8f2c-4737-dd10-f840107e0e96"
      },
      "source": [
        "f, axes = plt.subplots()\n",
        "precision, recall, _ = precision_recall_curve(y_test, y_pred)\n",
        "pr_auc = auc(recall, precision)\n",
        "lab = 'PR-curve: AUC=%.5f' % (pr_auc)\n",
        "plt.title('PR-curve')\n",
        "axes.step(recall, precision, label=lab, lw=2, color='black')\n",
        "axes.set_xlabel('Recall')\n",
        "axes.set_ylabel('Precision')\n",
        "axes.legend(loc='lower left', fontsize='small')"
      ],
      "execution_count": null,
      "outputs": [
        {
          "output_type": "execute_result",
          "data": {
            "text/plain": [
              "<matplotlib.legend.Legend at 0x7fe20d965450>"
            ]
          },
          "metadata": {},
          "execution_count": 11
        },
        {
          "output_type": "display_data",
          "data": {
            "image/png": "[encoded data removed]",
            "text/plain": [
              "<Figure size 432x288 with 1 Axes>"
            ]
          },
          "metadata": {
            "needs_background": "light"
          }
        }
      ]
    },
    {
      "cell_type": "code",
      "metadata": {
        "colab": {
          "base_uri": "https://localhost:8080/"
        },
        "id": "6fr4nReKu-y1",
        "outputId": "fc233e38-0ce9-41b7-d15f-0a0241d4735d"
      },
      "source": [
        "# выведем AUC-ROC и PR-ROC с точностью до 5 знаков\n",
        "\n",
        "print('PR-AUC = %.5f' % (pr_auc), '\\nROC-AUC = %0.5f' % roc_auc)"
      ],
      "execution_count": null,
      "outputs": [
        {
          "output_type": "stream",
          "name": "stdout",
          "text": [
            "PR-AUC = 0.82929 \n",
            "ROC-AUC = 0.84742\n"
          ]
        }
      ]
    },
    {
      "cell_type": "code",
      "metadata": {
        "colab": {
          "base_uri": "https://localhost:8080/"
        },
        "id": "BkV-_qzo0884",
        "outputId": "adc76194-2bc7-4295-f737-bb6a68b2d602"
      },
      "source": [
        "# посчитаем AUC-ROC и PR-ROC для случайного классификатора\n",
        "\n",
        "# генерируем ответы для случайного классификатора\n",
        "y_random = np.random.choice([0, 1], len(y_test))\n",
        "\n",
        "fpr_random, tpr_random, _ = roc_curve(y_test, y_random)\n",
        "precision_random, recall_random, _ = precision_recall_curve(y_test, y_random)\n",
        "\n",
        "random_roc = auc(fpr_random, tpr_random)\n",
        "random_pr = auc(recall_random, precision_random)\n",
        "\n",
        "print('PR-AUC for random = %.5f' % random_pr, '\\nROC-AUC for random = %0.5f' % random_roc)"
      ],
      "execution_count": null,
      "outputs": [
        {
          "output_type": "stream",
          "name": "stdout",
          "text": [
            "PR-AUC for random = 0.64155 \n",
            "ROC-AUC for random = 0.51391\n"
          ]
        }
      ]
    },
    {
      "cell_type": "markdown",
      "metadata": {
        "id": "Hwq_xZ3l2x7R"
      },
      "source": [
        "Видим, что SVM работает все же лучше случайного классификатора))"
      ]
    },
    {
      "cell_type": "markdown",
      "metadata": {
        "id": "TXcX24Ofzwyo"
      },
      "source": [
        "А теперь проделайте все то же самое для логистической регрессии (LR) — обучение, подбор параметра регуляризации (используйте L2-регуляризацию), вычисление всех метрик и построение кривых. Сравните результаты LR и SVM с точки зрения всех вычисленных критериев качества, объясните различия (если они есть)."
      ]
    },
    {
      "cell_type": "code",
      "metadata": {
        "id": "YOz0BA2ozwyp",
        "colab": {
          "base_uri": "https://localhost:8080/"
        },
        "outputId": "9c696441-f065-4818-b6db-fd77b8ef4afd"
      },
      "source": [
        "# подберем по кросс-валидации параметр регуляризации. l2 по дефолту\n",
        "C = np.logspace(-6, 2, 9)\n",
        "\n",
        "searcher = GridSearchCV(LogisticRegression(max_iter=200000), [{\"C\": C}], scoring='average_precision', cv=3)\n",
        "searcher.fit(X_train, y_train)\n",
        "\n",
        "best_C_LR = searcher.best_params_[\"C\"]\n",
        "print(\"Best SVC C = %.4f\" % best_C_LR)"
      ],
      "execution_count": null,
      "outputs": [
        {
          "output_type": "stream",
          "name": "stdout",
          "text": [
            "Best SVC C = 0.0100\n"
          ]
        }
      ]
    },
    {
      "cell_type": "code",
      "metadata": {
        "id": "qZ_f6Sew40e6"
      },
      "source": [
        "# обучение с лучшим параметром регуляризации\n",
        "model = LogisticRegression(C=best_C_LR, max_iter=200000)\n",
        "model.fit(X_train, y_train)\n",
        "y_pred = model.predict_proba(X_test)"
      ],
      "execution_count": null,
      "outputs": []
    },
    {
      "cell_type": "code",
      "metadata": {
        "colab": {
          "base_uri": "https://localhost:8080/",
          "height": 591
        },
        "id": "CTx1obLE4tcu",
        "outputId": "481236f4-d5e8-4db2-8323-2b3127b943f9"
      },
      "source": [
        "fpr, tpr, threshold = roc_curve(y_test, y_pred[:, 1])\n",
        "roc_auc = auc(fpr, tpr)\n",
        "\n",
        "plt.title('ROC-curve')\n",
        "plt.plot(fpr, tpr, 'b', label = 'AUC = %0.5f' % roc_auc)\n",
        "plt.legend(loc = 'lower right')\n",
        "# plt.plot([0, 1], [0, 1],'r--')\n",
        "plt.xlim([0, 1])\n",
        "plt.ylim([0, 1])\n",
        "plt.ylabel('True Positive Rate')\n",
        "plt.xlabel('False Positive Rate')\n",
        "plt.show()\n",
        "\n",
        "f, axes = plt.subplots()\n",
        "precision, recall, _ = precision_recall_curve(y_test, y_pred[:, 1])\n",
        "pr_auc = auc(recall, precision)\n",
        "lab = 'Overall AUC=%.5f' % (pr_auc)\n",
        "plt.title('PR-curve')\n",
        "axes.step(recall, precision, label=lab, lw=2, color='black')\n",
        "axes.set_xlabel('Recall')\n",
        "axes.set_ylabel('Precision')\n",
        "axes.legend(loc='lower left', fontsize='small')"
      ],
      "execution_count": null,
      "outputs": [
        {
          "output_type": "display_data",
          "data": {
            "image/png": "[encoded data removed]",
            "text/plain": [
              "<Figure size 432x288 with 1 Axes>"
            ]
          },
          "metadata": {
            "needs_background": "light"
          }
        },
        {
          "output_type": "execute_result",
          "data": {
            "text/plain": [
              "<matplotlib.legend.Legend at 0x7fe2000b2150>"
            ]
          },
          "metadata": {},
          "execution_count": 27
        },
        {
          "output_type": "display_data",
          "data": {
            "image/png": "[encoded data removed]",
            "text/plain": [
              "<Figure size 432x288 with 1 Axes>"
            ]
          },
          "metadata": {
            "needs_background": "light"
          }
        }
      ]
    },
    {
      "cell_type": "code",
      "metadata": {
        "colab": {
          "base_uri": "https://localhost:8080/"
        },
        "id": "ZkRuHfd15SI2",
        "outputId": "434fed36-cee7-4ff0-f11a-7e0536ad6411"
      },
      "source": [
        "print('PR-AUC = %.5f' % (pr_auc), '\\nROC-AUC = %0.5f' % roc_auc)"
      ],
      "execution_count": null,
      "outputs": [
        {
          "output_type": "stream",
          "name": "stdout",
          "text": [
            "PR-AUC = 0.83042 \n",
            "ROC-AUC = 0.77035\n"
          ]
        }
      ]
    },
    {
      "cell_type": "markdown",
      "metadata": {
        "id": "0e-R6wUP5iv9"
      },
      "source": [
        "Различия есть, но некритичные, на третьем знаке после запятой. На наших данных методы работают почти одинаково хорошо."
      ]
    },
    {
      "cell_type": "markdown",
      "metadata": {
        "id": "6f4aHyLuzwyp"
      },
      "source": [
        "В названии метода опорных векторов присутствуют некоторые \"опорные векторы\". Сгенерируйте синтетические данные с помощью `make_classification` с 2 признаками, обучите на нём метод опорных векторов. Визуализируйте разделяющую прямую, все объекты и выделите опорные векторы (атрибут `support_vectors_`). В этот раз, если необходимо, вместо `LinearSVC` воспользуйтесь `SVC(kernel='linear')`, так как только в нём есть информация об опорных векторах."
      ]
    },
    {
      "cell_type": "code",
      "metadata": {
        "id": "yhFOTf-0Wu2F"
      },
      "source": [
        "X, y = make_classification(n_samples=1000, n_features=2, n_informative=2, n_redundant=0, \n",
        "                          n_classes=2, class_sep=2,flip_y=0,\n",
        "                          random_state=42)\n",
        "\n",
        "X_train, X_test, y_train, y_test = train_test_split(\n",
        "    X, y, test_size=0.3, random_state=42)\n",
        "\n",
        "scaler = StandardScaler()\n",
        "\n",
        "X_train = scaler.fit_transform(X_train)\n",
        "X_test = scaler.transform(X_test)"
      ],
      "execution_count": null,
      "outputs": []
    },
    {
      "cell_type": "code",
      "metadata": {
        "colab": {
          "base_uri": "https://localhost:8080/"
        },
        "id": "a1eSTj06Ww2G",
        "outputId": "0435038d-eaba-481d-a4a2-a58290cf461b"
      },
      "source": [
        "C = np.logspace(-6, 2, 9)\n",
        "\n",
        "searcher = GridSearchCV(SVC(kernel='linear', max_iter=200000), [{\"C\": C}], scoring='average_precision', cv=3)\n",
        "searcher.fit(X_train, y_train)\n",
        "\n",
        "best_C = searcher.best_params_[\"C\"]\n",
        "print(\"Best SVC C = %.4f\" % best_C)"
      ],
      "execution_count": null,
      "outputs": [
        {
          "output_type": "stream",
          "name": "stdout",
          "text": [
            "Best SVC C = 0.1000\n"
          ]
        }
      ]
    },
    {
      "cell_type": "code",
      "metadata": {
        "id": "a-A9FcKb-M2B",
        "colab": {
          "base_uri": "https://localhost:8080/"
        },
        "outputId": "822f7f45-8878-4f0b-cb17-a2091d43f09c"
      },
      "source": [
        "model = SVC(kernel='linear', C=best_C)\n",
        "model.fit(X_train, y_train)"
      ],
      "execution_count": null,
      "outputs": [
        {
          "output_type": "execute_result",
          "data": {
            "text/plain": [
              "SVC(C=0.1, break_ties=False, cache_size=200, class_weight=None, coef0=0.0,\n",
              "    decision_function_shape='ovr', degree=3, gamma='scale', kernel='linear',\n",
              "    max_iter=-1, probability=False, random_state=None, shrinking=True,\n",
              "    tol=0.001, verbose=False)"
            ]
          },
          "metadata": {},
          "execution_count": 33
        }
      ]
    },
    {
      "cell_type": "markdown",
      "metadata": {
        "id": "3q-O-sS3_XUh"
      },
      "source": [
        "Код посмотрела [тут](https://medium.com/swlh/visualizing-svm-with-python-4b4b238a7a92)."
      ]
    },
    {
      "cell_type": "code",
      "metadata": {
        "colab": {
          "base_uri": "https://localhost:8080/",
          "height": 281
        },
        "id": "cVtjdx_ZUOv3",
        "outputId": "bcfc0b5f-0cdb-4507-aeb0-785e8a0f06bd"
      },
      "source": [
        "ax = plt.gca()\n",
        "plt.scatter(X_test[:, 0], X_test[:, 1], c=y_test, s=50, cmap='autumn')\n",
        "xlim = ax.get_xlim()\n",
        "ylim = ax.get_ylim()\n",
        "\n",
        "xx = np.linspace(xlim[0], xlim[1], 70)\n",
        "yy = np.linspace(ylim[0], ylim[1], 70)\n",
        "YY, XX = np.meshgrid(yy, xx)\n",
        "xy = np.vstack([XX.ravel(), YY.ravel()]).T\n",
        "Z = model.decision_function(xy).reshape(XX.shape)\n",
        "\n",
        "ax.contour(XX, YY, Z, colors=\"k\", levels=[0], alpha=0.5, linestyles=[\"-\"])\n",
        "\n",
        "ax.scatter(model.support_vectors_[:, 0], model.support_vectors_[:, 1], s=100,\n",
        "           linewidth=1, facecolors='none', edgecolors='k')\n",
        "\n",
        "plt.title('Визуализация SVC')\n",
        "plt.show()"
      ],
      "execution_count": null,
      "outputs": [
        {
          "output_type": "display_data",
          "data": {
            "image/png": "[encoded data removed]",
            "text/plain": [
              "<Figure size 432x288 with 1 Axes>"
            ]
          },
          "metadata": {
            "needs_background": "light"
          }
        }
      ]
    },
    {
      "cell_type": "markdown",
      "metadata": {
        "id": "i8iDgE8fzwyp"
      },
      "source": [
        "В отличие от метода опорных векторов, логистическая регрессия не пытается построить разделяющую гиперплоскость с максимальным отступом, а приближает в каждой точке пространства объектов вероятность положительных ответов $p(y=+1|x)$. Попробуйте нарисовать это распределение на плоскости, не забудьте отметить на ней все объекты. Вам может помочь функция `plt.pcolor`."
      ]
    },
    {
      "cell_type": "code",
      "metadata": {
        "id": "SFJuYbbEzwyq",
        "colab": {
          "base_uri": "https://localhost:8080/"
        },
        "outputId": "1400d8c1-c913-48f4-ff91-7460a3fc0f9e"
      },
      "source": [
        "searcher = GridSearchCV(LogisticRegression(max_iter=200000), [{\"C\": C}], scoring='average_precision', cv=3)\n",
        "searcher.fit(X_train, y_train)\n",
        "\n",
        "best_C = searcher.best_params_[\"C\"]\n",
        "print(\"Best SVC C = %.4f\" % best_C)"
      ],
      "execution_count": null,
      "outputs": [
        {
          "output_type": "stream",
          "name": "stdout",
          "text": [
            "Best SVC C = 1.0000\n"
          ]
        }
      ]
    },
    {
      "cell_type": "code",
      "metadata": {
        "id": "1Vymm9nDslIF"
      },
      "source": [
        "model = LogisticRegression(C=best_C)\n",
        "model.fit(X_train, y_train)"
      ],
      "execution_count": null,
      "outputs": []
    },
    {
      "cell_type": "markdown",
      "metadata": {
        "id": "btfCxu656R6T"
      },
      "source": [
        "Я сначала не поняла совсем, что здесь надо делать, страдала четыре часа, а потом случайно на ответ наткнулась на стэке. Взяла код [оттуда](https://stackoverflow.com/questions/28256058/plotting-decision-boundary-of-logistic-regression), раз такое дело!"
      ]
    },
    {
      "cell_type": "code",
      "metadata": {
        "colab": {
          "base_uri": "https://localhost:8080/",
          "height": 413
        },
        "id": "idPY_lcFyGPD",
        "outputId": "069a51fc-3ae9-4899-c3c6-8e967c4f3b8b"
      },
      "source": [
        "xx, yy = np.mgrid[-5:5:.01, -5:5:.01]\n",
        "grid = np.c_[xx.ravel(), yy.ravel()]\n",
        "probs = model.predict_proba(grid)[:, 1].reshape(xx.shape)\n",
        "\n",
        "f, ax = plt.subplots(figsize=(8, 6))\n",
        "contour = ax.contourf(xx, yy, probs, 25, cmap=\"RdBu\",\n",
        "                      vmin=0, vmax=1)\n",
        "ax_c = f.colorbar(contour)\n",
        "ax_c.set_label(\"$P(y = 1)$\")\n",
        "ax_c.set_ticks([0, .25, .5, .75, 1])\n",
        "\n",
        "ax.scatter(X_test[:,0], X_test[:, 1], c=y_test[:], s=50,\n",
        "           cmap=\"RdBu\", vmin=-.2, vmax=1.2,\n",
        "           edgecolor=\"white\", linewidth=1)\n",
        "\n",
        "ax.set(aspect=\"equal\",\n",
        "       xlim=(-5, 5), ylim=(-5, 5),\n",
        "       xlabel=\"$X_1$\", ylabel=\"$X_2$\")"
      ],
      "execution_count": null,
      "outputs": [
        {
          "output_type": "execute_result",
          "data": {
            "text/plain": [
              "[(-5.0, 5.0), Text(0, 0.5, '$X_2$'), (-5.0, 5.0), Text(0.5, 0, '$X_1$'), None]"
            ]
          },
          "metadata": {},
          "execution_count": 23
        },
        {
          "output_type": "display_data",
          "data": {
            "image/png": "[encoded data removed]",
            "text/plain": [
              "<Figure size 576x432 with 2 Axes>"
            ]
          },
          "metadata": {
            "needs_background": "light"
          }
        }
      ]
    },
    {
      "cell_type": "markdown",
      "metadata": {
        "id": "JS9fi_tUzwyq"
      },
      "source": [
        "__Задание 2.__ Калибровка вероятностей.\n",
        "\n",
        "__(1 балл)__\n",
        "\n",
        "Перейдём к оценке качества выдаваемых алгоритмами вероятностей. Начнём с калибровочных кривых. \n",
        "\n",
        "Допустим, алгоритм возвращает некоторые числа от нуля до единицы. Хорошо ли они оценивают вероятность? Для этого разобьем отрезок $[0, 1]$ на несколько маленьких отрезков одинаковой длины. Рассмотрим $i$-й отрезок с границами $[a_i, b_i]$ и предсказания $p_1, p_2, \\dots, p_k$, которые попали в него. Пусть им соответствуют истинные ответы $y_1, y_2, \\dots, y_k$. Если алгоритм выдает корректные вероятности, то среди этих истинных ответов должно быть примерно $(a_i + b_i) / 2$ единиц. Иными словами, если нарисовать кривую, у которой по оси X отложены центры отрезков, а по оси Y — доли единичных ответов этих в отрезках, то она должна оказаться диагональной. Ниже приведена функция, которая должна рисовать такие кривые. В ней допущено две ошибки — найдите и исправьте их."
      ]
    },
    {
      "cell_type": "code",
      "metadata": {
        "id": "6UeCSVaMzwyq"
      },
      "source": [
        "def plot_calibration_curve(y_test, preds):\n",
        "    bin_middle_points = []\n",
        "    bin_real_ratios = []\n",
        "    n_bins = 10\n",
        "    for i in range(n_bins):\n",
        "        l = 1.0 / n_bins * i\n",
        "        r = 1.0 / n_bins * (i + 1)\n",
        "        bin_middle_points.append((l + r) / 2)\n",
        "        sec = y_test[(preds >= l) & (preds < r)]\n",
        "        bin_real_ratios.append(np.sum(sec == 1)/len(sec))\n",
        "    plt.figure(figsize=(6,6))\n",
        "    plt.plot(bin_middle_points, bin_real_ratios)\n",
        "    plt.ylim([-0.05, 1.05])\n",
        "    plt.grid()"
      ],
      "execution_count": null,
      "outputs": []
    },
    {
      "cell_type": "markdown",
      "metadata": {
        "id": "FcDxFXW5zwyr"
      },
      "source": [
        "Сгенерируйте синтетические данные аналогично использованным в самом первом задании. Постройте калибровочные кривые на тестовой части для логистической регрессии и метода опорных векторов (не забудьте перевести его предсказания в $[0;1]$). Изучите распределение ответов классификаторов (постройте гистограммы с помощью `plt.hist`). Чем они различаются? Чем вы можете объяснить это?"
      ]
    },
    {
      "cell_type": "code",
      "metadata": {
        "id": "Z3uv0p2xzwyr"
      },
      "source": [
        "# генерируем данные\n",
        "X, y = make_classification(\n",
        "    n_samples=10000, n_features=10, n_informative=5, n_redundant=5,\n",
        "    random_state=42)\n",
        "\n",
        "X_train, X_test, y_train, y_test = train_test_split(\n",
        "    X, y, test_size=0.3, random_state=42)\n",
        "\n",
        "scaler = StandardScaler()\n",
        "\n",
        "X_train = scaler.fit_transform(X_train)\n",
        "X_test = scaler.transform(X_test)"
      ],
      "execution_count": null,
      "outputs": []
    },
    {
      "cell_type": "code",
      "metadata": {
        "colab": {
          "base_uri": "https://localhost:8080/",
          "height": 374
        },
        "id": "pXb7vw1r8KYz",
        "outputId": "3751ff6f-6e65-4582-b2c1-0cbfed6a7762"
      },
      "source": [
        "# для логистической регрессии\n",
        "model = LogisticRegression(C=1, max_iter=200000)\n",
        "model.fit(X_train, y_train)\n",
        "y_pred_log = model.predict_proba(X_test)[:, 1]\n",
        "\n",
        "plot_calibration_curve(y_test, y_pred_log)"
      ],
      "execution_count": null,
      "outputs": [
        {
          "output_type": "display_data",
          "data": {
            "image/png": "[encoded data removed]",
            "text/plain": [
              "<Figure size 432x432 with 1 Axes>"
            ]
          },
          "metadata": {
            "needs_background": "light"
          }
        }
      ]
    },
    {
      "cell_type": "code",
      "metadata": {
        "colab": {
          "base_uri": "https://localhost:8080/",
          "height": 374
        },
        "id": "XbMunh7lZxwQ",
        "outputId": "cf1abe7a-f0e1-47f3-80d9-1b520e5f69d6"
      },
      "source": [
        "# для метода опорных векторов\n",
        "model = SVC(kernel='linear', C=0.1)\n",
        "model.fit(X_train, y_train)\n",
        "y_pred = model.decision_function(X_test)\n",
        "# видимо, тут пока нужно просто перевести в [0, 1] значения без хитростей => отмасштабируем min-max\n",
        "y_pred = (y_pred - y_pred.min()) / (y_pred.max() - y_pred.min())\n",
        "\n",
        "plot_calibration_curve(y_test, y_pred)"
      ],
      "execution_count": null,
      "outputs": [
        {
          "output_type": "display_data",
          "data": {
            "image/png": "[encoded data removed]",
            "text/plain": [
              "<Figure size 432x432 with 1 Axes>"
            ]
          },
          "metadata": {
            "needs_background": "light"
          }
        }
      ]
    },
    {
      "cell_type": "code",
      "metadata": {
        "colab": {
          "base_uri": "https://localhost:8080/",
          "height": 352
        },
        "id": "2RqrpnhQa5gh",
        "outputId": "d93488d2-8230-4800-ccdb-f991eecc07e9"
      },
      "source": [
        "# теперь построим распределения ответов классификаторов\n",
        "plt.hist(y_pred_log)"
      ],
      "execution_count": null,
      "outputs": [
        {
          "output_type": "execute_result",
          "data": {
            "text/plain": [
              "(array([374., 310., 279., 283., 246., 270., 242., 292., 356., 348.]),\n",
              " array([0.00219664, 0.10165933, 0.20112203, 0.30058472, 0.40004741,\n",
              "        0.4995101 , 0.59897279, 0.69843549, 0.79789818, 0.89736087,\n",
              "        0.99682356]),\n",
              " <a list of 10 Patch objects>)"
            ]
          },
          "metadata": {},
          "execution_count": 28
        },
        {
          "output_type": "display_data",
          "data": {
            "image/png": "[encoded data removed]",
            "text/plain": [
              "<Figure size 432x288 with 1 Axes>"
            ]
          },
          "metadata": {
            "needs_background": "light"
          }
        }
      ]
    },
    {
      "cell_type": "code",
      "metadata": {
        "colab": {
          "base_uri": "https://localhost:8080/",
          "height": 317
        },
        "id": "Hp4YXJUibLbA",
        "outputId": "30f18365-b802-4064-b20f-ba96c6577ed0"
      },
      "source": [
        "plt.hist(y_pred)"
      ],
      "execution_count": null,
      "outputs": [
        {
          "output_type": "execute_result",
          "data": {
            "text/plain": [
              "(array([  8.,  38., 165., 387., 624., 715., 628., 336.,  91.,   8.]),\n",
              " array([0. , 0.1, 0.2, 0.3, 0.4, 0.5, 0.6, 0.7, 0.8, 0.9, 1. ]),\n",
              " <a list of 10 Patch objects>)"
            ]
          },
          "metadata": {},
          "execution_count": 29
        },
        {
          "output_type": "display_data",
          "data": {
            "image/png": "[encoded data removed]",
            "text/plain": [
              "<Figure size 432x288 with 1 Axes>"
            ]
          },
          "metadata": {
            "needs_background": "light"
          }
        }
      ]
    },
    {
      "cell_type": "markdown",
      "metadata": {
        "id": "saV_PwUBbdAN"
      },
      "source": [
        "Заметим, что SVM предсказывает не вероятности: SVM предсказывал уверенности в ответе, а мы эти уверенности отнормировали. Вероятностями они от этого не стали. Но мы исходные уверенности отнормировали --- и, как видим, распределение ответов SVM в итоге очень похоже на нормальное. С ответами логрегрессии мы ничего такого не делали, но логрегрессия, как мы знаем, действительно предсказывает вероятности. Т.к. модели в результате предсказывают совершенно разное (логрегрессия --- вероятности, SVM --- отнормированные уверенности), понятно, что и графики распределений ответов совсем разные."
      ]
    },
    {
      "cell_type": "markdown",
      "metadata": {
        "id": "DAGL4_Gdzwyr"
      },
      "source": [
        "Воспользуйтесь `CalibratedClassifierCV` из `sklearn` для калибровки вероятностей метода опорных векторов на обучении и постройте с его помощью предсказания для тестовой выборки. Нарисуйте для них калибровочную кривую. Улучшилась ли она?"
      ]
    },
    {
      "cell_type": "code",
      "metadata": {
        "colab": {
          "base_uri": "https://localhost:8080/",
          "height": 374
        },
        "id": "-kz1OYW1zVTN",
        "outputId": "69338f28-f0e3-457d-8d8d-4e30500da3b9"
      },
      "source": [
        "model = SVC(kernel='linear', C=1)\n",
        "calibrated_clf = CalibratedClassifierCV(base_estimator=model)\n",
        "calibrated_clf.fit(X_train, y_train)\n",
        "y_calibrated = calibrated_clf.predict_proba(X_test)\n",
        "\n",
        "plot_calibration_curve(y_test, y_calibrated[:, 1])"
      ],
      "execution_count": null,
      "outputs": [
        {
          "output_type": "display_data",
          "data": {
            "image/png": "[encoded data removed]",
            "text/plain": [
              "<Figure size 432x432 with 1 Axes>"
            ]
          },
          "metadata": {
            "needs_background": "light"
          }
        }
      ]
    },
    {
      "cell_type": "markdown",
      "metadata": {
        "id": "93tNEMVfgbaf"
      },
      "source": [
        "Да, значительно улучшилась. Как мы поняли из объяснений сверху, вероятности предсказываются тем лучше, чем ближе калибровочная кривая к к графику y = x. Очевидно, что полученная кривая гораздо ближе к графику y = x, чем та, что мы получили простым нормированием ответов."
      ]
    },
    {
      "cell_type": "markdown",
      "metadata": {
        "id": "t0zg5bXTzwyr"
      },
      "source": [
        "__Бонусное задание (0.5 балла).__ Реализуйте свою функцию для калибровки вероятностей. Опишите ваш подход и продемонстрируйте результаты. Ключевые слова для вдохновения: `Platt`, `Isotonic`."
      ]
    },
    {
      "cell_type": "markdown",
      "metadata": {
        "id": "Uf9sCxylhOg4"
      },
      "source": [
        "Заглянем в семинар по калибровке вероятностей и увидим калибровку Платта и изотоническую регрессию. Калибровка Платта для модели b(x) выглядит чуть приятнее, поэтому, чтобы остались силы на дальнейшие задания, реализуем ее. \n",
        "\n",
        "$$p(y = +1 \\mid b(x)) = \\dfrac{1}{1 + \\exp(A \\cdot b(x) + C)},$$ \n",
        "\n",
        "где A и C --- гиперпараметры. Т.е. нам нужно написать функцию, которая будет брать ответы b(x), подбирать лучшие A и C, и выдавать по формуле выше ответ. Сделаем."
      ]
    },
    {
      "cell_type": "code",
      "metadata": {
        "id": "6bUzMoPNv2aO"
      },
      "source": [
        "# создаем чистенькие данные\n",
        "X, y = make_classification(n_samples=1000, n_features=2, n_informative=2, n_redundant=0, \n",
        "                          n_classes=2, class_sep=2,flip_y=0,\n",
        "                          random_state=42)\n",
        "\n",
        "X_train, X_test, y_train, y_test = train_test_split(\n",
        "    X, y, test_size=0.3, random_state=42)\n",
        "\n",
        "X_val, X_test, y_val, y_test = train_test_split(\n",
        "    X, y, test_size=0.5, random_state=42)\n",
        "\n",
        "scaler = StandardScaler()\n",
        "\n",
        "X_train = scaler.fit_transform(X_train)\n",
        "X_val = scaler.transform(X_val)\n",
        "X_test = scaler.transform(X_test)"
      ],
      "execution_count": null,
      "outputs": []
    },
    {
      "cell_type": "code",
      "metadata": {
        "id": "gClhaOb7wHUw"
      },
      "source": [
        "# обучаем модель, чтобы получить предсказание, которое и будем превращать в вероятности\n",
        "model = SVC(kernel='linear', C=1)\n",
        "model.fit(X_train, y_train)\n",
        "\n",
        "y_pred = model.decision_function(X_val)"
      ],
      "execution_count": null,
      "outputs": []
    },
    {
      "cell_type": "markdown",
      "metadata": {
        "id": "13hYCFXjH3Mu"
      },
      "source": [
        "Для начала подумаем (пробовала сначала сделать, но результат так себе вышел). \n",
        "\n",
        "$$p = \\frac{1}{1 + \\exp(A \\cdot b(x) + C)}$$\n",
        "$$ $$\n",
        "$$1 + \\exp(A \\cdot b(x) + C) = \\frac{1}{p}$$\n",
        "$$ $$\n",
        "$$A \\cdot b(x) + C = \\ln \\left(\\frac{1}{p} - 1 \\right)$$\n",
        "$$ $$\n",
        "$$\\bullet \\; p \\leq \\frac{1}{2} \\Rightarrow \\ln\\left(\\frac{1}{p} - 1\\right) \\geq 0$$\n",
        "$$ $$\n",
        "$$\\bullet \\; p > \\frac{1}{2} \\Rightarrow \\ln\\left(\\frac{1}{p} - 1\\right) < 0$$\n",
        "\n",
        "Если p > 1/2, то правильный ответ --- скорее 1, а если p <= 1/2 --- то скорее -1 (или 0, если не переобозначили класс 0 за -1). Т.е. p и правильный ответ разных знаков. Поэтому нам, скорее всего, нужно умножить b(x) на какое-то отрицательное число где-то от -50 (потыкала разные нижние границы и увидела, что если делать ее меньше, то лучшее А все еще меньше -27, --- видимо, число очень маленьким становится) и прибавить какое-то небольшое положительное/отрицательное. Может быть, C --- какое-то большое отрицательное, а A --- маленькое положительное, но сначала попробую поискать с отрицательным или небольшим положительным A."
      ]
    },
    {
      "cell_type": "code",
      "metadata": {
        "id": "D3i_0Jeds11l"
      },
      "source": [
        "def platt(A, C, sigm_pred):\n",
        "  return 1/(1 + np.exp(A * sigm_pred + C))"
      ],
      "execution_count": null,
      "outputs": []
    },
    {
      "cell_type": "code",
      "metadata": {
        "colab": {
          "base_uri": "https://localhost:8080/"
        },
        "id": "qhugsb9hwXGy",
        "outputId": "ad8e7d61-59df-474e-a1fd-c9f0996a48f7"
      },
      "source": [
        "A = np.linspace(-50, 0.1, 50)\n",
        "C = np.linspace(-0.2, 0.2, 20)\n",
        "best_auc = -1\n",
        "best_A = 0\n",
        "best_C = 0\n",
        "\n",
        "for a in A:\n",
        "  for c in C:\n",
        "    res = platt(a, c, y_pred)\n",
        "    if roc_auc_score(y_val, res) > best_auc:\n",
        "      best_auc = roc_auc_score(y_val, res)\n",
        "      best_A = a\n",
        "      best_C = c\n",
        "\n",
        "print(\"Лучшее A:\", best_A, \"\\nЛучшее C:\", best_C, \"\\nЛучший ROC-AUC\", best_auc)"
      ],
      "execution_count": null,
      "outputs": [
        {
          "output_type": "stream",
          "name": "stdout",
          "text": [
            "Лучшее A: -26.483673469387753 \n",
            "Лучшее C: 0.1157894736842105 \n",
            "Лучший ROC-AUC 0.9973759580153282\n"
          ]
        }
      ]
    },
    {
      "cell_type": "markdown",
      "metadata": {
        "id": "wrK_RrQGtqL5"
      },
      "source": [
        "Такие вот результаты: качество очень высокое получилось!"
      ]
    },
    {
      "cell_type": "markdown",
      "metadata": {
        "id": "knBXqeA7zwys"
      },
      "source": [
        "# Часть 1. Работа с переменными."
      ]
    },
    {
      "cell_type": "markdown",
      "metadata": {
        "id": "HZkoP-KSzwys"
      },
      "source": [
        "В этой части мы научимся обрабатывать категориальные переменные, так как закодировать их в виде чисел недостаточно (это задаёт некоторый порядок, которого на категориальных переменных может и не быть). Существует два основных способа обработки категориальных значений:\n",
        "- One-hot-кодирование\n",
        "- Счётчики (CTR, mean-target кодирование, ...) — каждый категориальный признак заменяется на среднее значение целевой переменной по всем объектам, имеющим одинаковое значение в этом признаке.\n",
        "\n",
        "Начнём с one-hot-кодирования. Допустим наш категориальный признак $f_j(x)$ принимает значения из множества $C=\\{c_1, \\dots, c_m\\}$. Заменим его на $m$ бинарных признаков $b_1(x), \\dots, b_m(x)$, каждый из которых является индикатором одного из возможных категориальных значений:\n",
        "$$\n",
        "b_i(x) = [f_j(x) = c_i]\n",
        "$$"
      ]
    },
    {
      "cell_type": "markdown",
      "metadata": {
        "id": "TEQTlseVzwys"
      },
      "source": [
        "__Подготовка данных.__\n",
        "\n",
        "Загрузим данные [UCI Bank Marketing Dataset](https://archive.ics.uci.edu/ml/datasets/bank+marketing). Этот датасет содержит информацию о банковском телефонном маркетинге, объектом в нем является телефонный звонок потенциальному клиенту с предложением некоторой услуги (утверждается, что это краткосрочный депозит), целевой переменной - ответ клиента (согласился ли он открыть депозит?). В качестве признакового описания используются характеристики клиента (образование, брак и т.д.), данные о звонке и различные экономические индикаторы - более подробная информация представлена в файле `bank-additional-names.txt`."
      ]
    },
    {
      "cell_type": "code",
      "metadata": {
        "id": "c_T4f3jWzwys",
        "colab": {
          "base_uri": "https://localhost:8080/"
        },
        "outputId": "479b2f0e-d88e-47fe-e4e1-f6cc42fef8ac"
      },
      "source": [
        "!wget https://archive.ics.uci.edu/ml/machine-learning-databases/00222/bank-additional.zip\n",
        "!unzip bank-additional.zip\n",
        "df = pd.read_csv('bank-additional/bank-additional-full.csv', sep=';')"
      ],
      "execution_count": null,
      "outputs": [
        {
          "output_type": "stream",
          "name": "stdout",
          "text": [
            "--2021-11-15 14:07:04--  https://archive.ics.uci.edu/ml/machine-learning-databases/00222/bank-additional.zip\n",
            "Resolving archive.ics.uci.edu (archive.ics.uci.edu)... 128.195.10.252\n",
            "Connecting to archive.ics.uci.edu (archive.ics.uci.edu)|128.195.10.252|:443... connected.\n",
            "HTTP request sent, awaiting response... 200 OK\n",
            "Length: 444572 (434K) [application/x-httpd-php]\n",
            "Saving to: ‘bank-additional.zip.1’\n",
            "\n",
            "bank-additional.zip 100%[===================>] 434.15K  1.24MB/s    in 0.3s    \n",
            "\n",
            "2021-11-15 14:07:05 (1.24 MB/s) - ‘bank-additional.zip.1’ saved [444572/444572]\n",
            "\n",
            "Archive:  bank-additional.zip\n",
            "replace bank-additional/.DS_Store? [y]es, [n]o, [A]ll, [N]one, [r]ename: y\n",
            "  inflating: bank-additional/.DS_Store  \n",
            "replace __MACOSX/bank-additional/._.DS_Store? [y]es, [n]o, [A]ll, [N]one, [r]ename: y\n",
            "  inflating: __MACOSX/bank-additional/._.DS_Store  \n",
            "replace bank-additional/.Rhistory? [y]es, [n]o, [A]ll, [N]one, [r]ename: yy\n",
            "  inflating: bank-additional/.Rhistory  \n",
            "replace bank-additional/bank-additional-full.csv? [y]es, [n]o, [A]ll, [N]one, [r]ename: y\n",
            "  inflating: bank-additional/bank-additional-full.csv  \n",
            "replace bank-additional/bank-additional-names.txt? [y]es, [n]o, [A]ll, [N]one, [r]ename: y\n",
            "  inflating: bank-additional/bank-additional-names.txt  \n",
            "replace bank-additional/bank-additional.csv? [y]es, [n]o, [A]ll, [N]one, [r]ename: y\n",
            "  inflating: bank-additional/bank-additional.csv  \n",
            "replace __MACOSX/._bank-additional? [y]es, [n]o, [A]ll, [N]one, [r]ename: y\n",
            "  inflating: __MACOSX/._bank-additional  \n"
          ]
        }
      ]
    },
    {
      "cell_type": "code",
      "metadata": {
        "id": "NycXlTWDzwys",
        "colab": {
          "base_uri": "https://localhost:8080/",
          "height": 226
        },
        "outputId": "3668e515-90e5-4316-ada3-d4b88df9372b"
      },
      "source": [
        "df.head()"
      ],
      "execution_count": null,
      "outputs": [
        {
          "output_type": "execute_result",
          "data": {
            "text/html": [
              "<div>\n",
              "<style scoped>\n",
              "    .dataframe tbody tr th:only-of-type {\n",
              "        vertical-align: middle;\n",
              "    }\n",
              "\n",
              "    .dataframe tbody tr th {\n",
              "        vertical-align: top;\n",
              "    }\n",
              "\n",
              "    .dataframe thead th {\n",
              "        text-align: right;\n",
              "    }\n",
              "</style>\n",
              "<table border=\"1\" class=\"dataframe\">\n",
              "  <thead>\n",
              "    <tr style=\"text-align: right;\">\n",
              "      <th></th>\n",
              "      <th>age</th>\n",
              "      <th>job</th>\n",
              "      <th>marital</th>\n",
              "      <th>education</th>\n",
              "      <th>default</th>\n",
              "      <th>housing</th>\n",
              "      <th>loan</th>\n",
              "      <th>contact</th>\n",
              "      <th>month</th>\n",
              "      <th>day_of_week</th>\n",
              "      <th>duration</th>\n",
              "      <th>campaign</th>\n",
              "      <th>pdays</th>\n",
              "      <th>previous</th>\n",
              "      <th>poutcome</th>\n",
              "      <th>emp.var.rate</th>\n",
              "      <th>cons.price.idx</th>\n",
              "      <th>cons.conf.idx</th>\n",
              "      <th>euribor3m</th>\n",
              "      <th>nr.employed</th>\n",
              "      <th>y</th>\n",
              "    </tr>\n",
              "  </thead>\n",
              "  <tbody>\n",
              "    <tr>\n",
              "      <th>0</th>\n",
              "      <td>56</td>\n",
              "      <td>housemaid</td>\n",
              "      <td>married</td>\n",
              "      <td>basic.4y</td>\n",
              "      <td>no</td>\n",
              "      <td>no</td>\n",
              "      <td>no</td>\n",
              "      <td>telephone</td>\n",
              "      <td>may</td>\n",
              "      <td>mon</td>\n",
              "      <td>261</td>\n",
              "      <td>1</td>\n",
              "      <td>999</td>\n",
              "      <td>0</td>\n",
              "      <td>nonexistent</td>\n",
              "      <td>1.1</td>\n",
              "      <td>93.994</td>\n",
              "      <td>-36.4</td>\n",
              "      <td>4.857</td>\n",
              "      <td>5191.0</td>\n",
              "      <td>no</td>\n",
              "    </tr>\n",
              "    <tr>\n",
              "      <th>1</th>\n",
              "      <td>57</td>\n",
              "      <td>services</td>\n",
              "      <td>married</td>\n",
              "      <td>high.school</td>\n",
              "      <td>unknown</td>\n",
              "      <td>no</td>\n",
              "      <td>no</td>\n",
              "      <td>telephone</td>\n",
              "      <td>may</td>\n",
              "      <td>mon</td>\n",
              "      <td>149</td>\n",
              "      <td>1</td>\n",
              "      <td>999</td>\n",
              "      <td>0</td>\n",
              "      <td>nonexistent</td>\n",
              "      <td>1.1</td>\n",
              "      <td>93.994</td>\n",
              "      <td>-36.4</td>\n",
              "      <td>4.857</td>\n",
              "      <td>5191.0</td>\n",
              "      <td>no</td>\n",
              "    </tr>\n",
              "    <tr>\n",
              "      <th>2</th>\n",
              "      <td>37</td>\n",
              "      <td>services</td>\n",
              "      <td>married</td>\n",
              "      <td>high.school</td>\n",
              "      <td>no</td>\n",
              "      <td>yes</td>\n",
              "      <td>no</td>\n",
              "      <td>telephone</td>\n",
              "      <td>may</td>\n",
              "      <td>mon</td>\n",
              "      <td>226</td>\n",
              "      <td>1</td>\n",
              "      <td>999</td>\n",
              "      <td>0</td>\n",
              "      <td>nonexistent</td>\n",
              "      <td>1.1</td>\n",
              "      <td>93.994</td>\n",
              "      <td>-36.4</td>\n",
              "      <td>4.857</td>\n",
              "      <td>5191.0</td>\n",
              "      <td>no</td>\n",
              "    </tr>\n",
              "    <tr>\n",
              "      <th>3</th>\n",
              "      <td>40</td>\n",
              "      <td>admin.</td>\n",
              "      <td>married</td>\n",
              "      <td>basic.6y</td>\n",
              "      <td>no</td>\n",
              "      <td>no</td>\n",
              "      <td>no</td>\n",
              "      <td>telephone</td>\n",
              "      <td>may</td>\n",
              "      <td>mon</td>\n",
              "      <td>151</td>\n",
              "      <td>1</td>\n",
              "      <td>999</td>\n",
              "      <td>0</td>\n",
              "      <td>nonexistent</td>\n",
              "      <td>1.1</td>\n",
              "      <td>93.994</td>\n",
              "      <td>-36.4</td>\n",
              "      <td>4.857</td>\n",
              "      <td>5191.0</td>\n",
              "      <td>no</td>\n",
              "    </tr>\n",
              "    <tr>\n",
              "      <th>4</th>\n",
              "      <td>56</td>\n",
              "      <td>services</td>\n",
              "      <td>married</td>\n",
              "      <td>high.school</td>\n",
              "      <td>no</td>\n",
              "      <td>no</td>\n",
              "      <td>yes</td>\n",
              "      <td>telephone</td>\n",
              "      <td>may</td>\n",
              "      <td>mon</td>\n",
              "      <td>307</td>\n",
              "      <td>1</td>\n",
              "      <td>999</td>\n",
              "      <td>0</td>\n",
              "      <td>nonexistent</td>\n",
              "      <td>1.1</td>\n",
              "      <td>93.994</td>\n",
              "      <td>-36.4</td>\n",
              "      <td>4.857</td>\n",
              "      <td>5191.0</td>\n",
              "      <td>no</td>\n",
              "    </tr>\n",
              "  </tbody>\n",
              "</table>\n",
              "</div>"
            ],
            "text/plain": [
              "   age        job  marital    education  default housing loan    contact  \\\n",
              "0   56  housemaid  married     basic.4y       no      no   no  telephone   \n",
              "1   57   services  married  high.school  unknown      no   no  telephone   \n",
              "2   37   services  married  high.school       no     yes   no  telephone   \n",
              "3   40     admin.  married     basic.6y       no      no   no  telephone   \n",
              "4   56   services  married  high.school       no      no  yes  telephone   \n",
              "\n",
              "  month day_of_week  duration  campaign  pdays  previous     poutcome  \\\n",
              "0   may         mon       261         1    999         0  nonexistent   \n",
              "1   may         mon       149         1    999         0  nonexistent   \n",
              "2   may         mon       226         1    999         0  nonexistent   \n",
              "3   may         mon       151         1    999         0  nonexistent   \n",
              "4   may         mon       307         1    999         0  nonexistent   \n",
              "\n",
              "   emp.var.rate  cons.price.idx  cons.conf.idx  euribor3m  nr.employed   y  \n",
              "0           1.1          93.994          -36.4      4.857       5191.0  no  \n",
              "1           1.1          93.994          -36.4      4.857       5191.0  no  \n",
              "2           1.1          93.994          -36.4      4.857       5191.0  no  \n",
              "3           1.1          93.994          -36.4      4.857       5191.0  no  \n",
              "4           1.1          93.994          -36.4      4.857       5191.0  no  "
            ]
          },
          "metadata": {},
          "execution_count": 84
        }
      ]
    },
    {
      "cell_type": "markdown",
      "metadata": {
        "id": "O7MN57DGzwyt"
      },
      "source": [
        "__Задание 3 (0.5 балла).__ Разделите выборку на обучающую и тестовую в соотношении 3:1. Зафиксируйте `random_state=777`, также используйте `stratify`. Один из столбцов в данных не несет информации для решения задачи — какой? Отбросьте его. \n",
        "\n"
      ]
    },
    {
      "cell_type": "code",
      "metadata": {
        "id": "vzLWoK1BFQAi"
      },
      "source": [
        "df = df.drop(columns=['duration'])  # в описании признаков написано, что для обучения стоит удалить + это информация о последнем звонке, т.е.\n",
        "# на который как раз есть ответ. в действительности нам неизвестно, сколько будет длиться звонок, который мы думаем, стоит ли сделать"
      ],
      "execution_count": null,
      "outputs": []
    },
    {
      "cell_type": "code",
      "metadata": {
        "id": "_xmwNaeyExVk"
      },
      "source": [
        "X = df.iloc[:, :-1]\n",
        "y = df.iloc[:, -1]"
      ],
      "execution_count": 293,
      "outputs": []
    },
    {
      "cell_type": "code",
      "metadata": {
        "id": "nzjE7t1zzwyt"
      },
      "source": [
        "X_train, X_test, y_train, y_test = train_test_split(X, y, test_size=0.25, random_state=777, stratify=y)"
      ],
      "execution_count": 294,
      "outputs": []
    },
    {
      "cell_type": "markdown",
      "metadata": {
        "id": "MmTivnf0zwyt"
      },
      "source": [
        "Закодируйте категориальные признаки с помощью `OrdinalEncoder`. Посчитайте качество (в этом задании будем работать c `AUC-PR`) при применении логистической регрессии. Замерьте время, потребовавшееся на обучение модели (с учетом кодирования признаков).\n",
        "\n",
        "__Вопрос__: почему в данном задании мы выбрали метрикой именно `AUC-PR`, а не, к примеру, `AUC-ROC`?\n",
        "\n",
        "__Ваш ответ__: как видим ниже, классы в выборке сильно не сбалансированы (ответов 'yes' всего 11%). Знаем, что тогда AUC-ROC не всегда дает адекватные результаты, в то время как AUC-PR устойчив к дисбалансу классов."
      ]
    },
    {
      "cell_type": "code",
      "metadata": {
        "id": "k0eTtQ3-2rOZ"
      },
      "source": [
        "cat = [\"job\", \"marital\", \"education\", \"default\", \"housing\", \"loan\", \"contact\", \"month\", \"day_of_week\", \"poutcome\"]\n",
        "num = X_train.columns[~X_train.columns.isin(cat)]\n",
        "\n",
        "# по-моему, education можно будет попробовать рассматривать, как порядковый. но пока двигаемся по заданию"
      ],
      "execution_count": 268,
      "outputs": []
    },
    {
      "cell_type": "code",
      "metadata": {
        "id": "LfOdHaYoFwWr"
      },
      "source": [
        "# заменяем yes/no на 1/-1, чтобы можно было считать метрики\n",
        "y_train = y_train.replace({'no': -1, 'yes': 1})\n",
        "y_test = y_test.replace({'no': -1, 'yes': 1})"
      ],
      "execution_count": 295,
      "outputs": []
    },
    {
      "cell_type": "code",
      "metadata": {
        "colab": {
          "base_uri": "https://localhost:8080/"
        },
        "id": "C_onb4-6L0U-",
        "outputId": "5789b195-7b58-4fea-f3cc-37f5376404a7"
      },
      "source": [
        "# посмотрим на баланс классов\n",
        "sum(y_train == 1)/len(y_train)"
      ],
      "execution_count": null,
      "outputs": [
        {
          "output_type": "execute_result",
          "data": {
            "text/plain": [
              "0.11265417111780131"
            ]
          },
          "metadata": {},
          "execution_count": 42
        }
      ]
    },
    {
      "cell_type": "code",
      "metadata": {
        "colab": {
          "base_uri": "https://localhost:8080/"
        },
        "id": "X2nsK6kr8laV",
        "outputId": "4b4dd7ea-321a-4086-d54f-68af16544a27"
      },
      "source": [
        "from sklearn.preprocessing import OrdinalEncoder\n",
        "from sklearn.compose import ColumnTransformer\n",
        "from sklearn.pipeline import Pipeline\n",
        "import time\n",
        "\n",
        "column_transformer = ColumnTransformer([\n",
        "    ('ord', OrdinalEncoder(), cat)\n",
        "])\n",
        "\n",
        "pipeline = Pipeline(steps=[\n",
        "    ('ohe', column_transformer),\n",
        "    ('regression', LogisticRegression(max_iter=20000))\n",
        "])\n",
        "\n",
        "start_time = time.time()\n",
        "model = pipeline.fit(X_train, y_train)\n",
        "print(\"Времени на обучение понадобилось в секундах:\", time.time() - start_time)\n",
        "\n",
        "y_pred = model.decision_function(X_test)\n",
        "\n",
        "precision, recall, _ = precision_recall_curve(y_test, y_pred)\n",
        "pr_auc = auc(recall, precision)\n",
        "\n",
        "print(\"AUC-PR:\", pr_auc)"
      ],
      "execution_count": null,
      "outputs": [
        {
          "output_type": "stream",
          "name": "stdout",
          "text": [
            "Времени на обучение понадобилось в секундах: 0.6945977210998535\n",
            "AUC-PR: 0.4418413631248986\n"
          ]
        }
      ]
    },
    {
      "cell_type": "markdown",
      "metadata": {
        "id": "_PZasszOzwyt"
      },
      "source": [
        "__Задание 4 (0.5 балла).__ Закодируйте все категориальные признаки с помощью one-hot-кодирования. Обучите логистическую регрессию и посмотрите, как изменилось качество модели (с тем, что было до кодирования). Измерьте время, потребовавшееся на кодирование категориальных признаков и обучение модели.\n",
        "\n"
      ]
    },
    {
      "cell_type": "code",
      "metadata": {
        "id": "6-BhqFGMzwyt",
        "colab": {
          "base_uri": "https://localhost:8080/"
        },
        "outputId": "254ff117-14a0-4f85-a5f6-f0310a0fb8a4"
      },
      "source": [
        "# с кодированием\n",
        "from sklearn.preprocessing import OneHotEncoder\n",
        "\n",
        "column_transformer = ColumnTransformer([\n",
        "    ('ohe', OneHotEncoder(), cat)\n",
        "])\n",
        "\n",
        "pipeline = Pipeline(steps=[\n",
        "    ('ohe', column_transformer),\n",
        "    ('regression', LogisticRegression(max_iter=20000))\n",
        "])\n",
        "\n",
        "start_time = time.time()\n",
        "model = pipeline.fit(X_train, y_train)\n",
        "y_pred_OHE = model.decision_function(X_test)\n",
        "print(\"Времени на обучение понадобилось в секундах:\", time.time() - start_time)\n",
        "\n",
        "precision, recall, _ = precision_recall_curve(y_test, y_pred_OHE)\n",
        "pr_auc = auc(recall, precision)\n",
        "\n",
        "print(\"AUC-PR:\", pr_auc)"
      ],
      "execution_count": null,
      "outputs": [
        {
          "output_type": "stream",
          "name": "stdout",
          "text": [
            "Времени на обучение понадобилось в секундах: 1.9906682968139648\n",
            "AUC-PR: 0.4492292264820701\n"
          ]
        }
      ]
    },
    {
      "cell_type": "code",
      "metadata": {
        "colab": {
          "base_uri": "https://localhost:8080/"
        },
        "id": "WgI3naOtUVJf",
        "outputId": "575210a0-f093-4b71-9f75-c7185faa923e"
      },
      "source": [
        "# без кодирования\n",
        "\n",
        "pipeline = Pipeline(steps=[\n",
        "    ('regression', LogisticRegression(max_iter=20000))\n",
        "])\n",
        "\n",
        "start_time = time.time()\n",
        "model = pipeline.fit(X_train, y_train)\n",
        "print(\"Времени на обучение понадобилось в секундах:\", time.time() - start_time)\n",
        "y_pred = model.decision_function(X_test)\n",
        "\n",
        "precision, recall, _ = precision_recall_curve(y_test, y_pred)\n",
        "pr_auc = auc(recall, precision)\n",
        "\n",
        "print(\"AUC-PR:\", pr_auc)"
      ],
      "execution_count": null,
      "outputs": [
        {
          "output_type": "stream",
          "name": "stdout",
          "text": [
            "Времени на обучение понадобилось в секундах: 0.1427295207977295\n",
            "AUC-PR: 0.42340813703483005\n"
          ]
        }
      ]
    },
    {
      "cell_type": "markdown",
      "metadata": {
        "id": "oNCfjqz-3cP-"
      },
      "source": [
        "Видим, что качество улучшилось на две сотые (по-моему, тоже неплохо! Почти бесплатное для нас улучшение, всяко лучшее никакого)."
      ]
    },
    {
      "cell_type": "markdown",
      "metadata": {
        "id": "b9X9k-OCzwyt"
      },
      "source": [
        "Как можно было заменить, one-hot-кодирование может сильно увеличивать количество признаков, что сказывается на памяти, особенно, если некоторый признак имеет большое количество значений. Эту проблему решает другой способ кодирования категориальных признаков — mean-target encoding (для простоты будем называть это счётчиками). Основная идея в том, что нам важны не сами категории, а значения целевой переменной, которые имеют объекты этой категории. Каждый категориальный признак мы заменим средним значением целевой переменной по всем объектам этой же категории:\n",
        "$$\n",
        "g_j(x, X) = \\frac{\\sum_{i=1}^{l} [f_j(x) = f_j(x_i)][y_i = +1]}{\\sum_{i=1}^{l} [f_j(x) = f_j(x_i)]}\n",
        "$$\n",
        "\n",
        "вопрос в пустоту: что такое j? что такое f?.................\n",
        "\n",
        "__Задание 5 (1 балл).__ Закодируйте категориальные переменные с помощью счётчиков (ровно так, как описано выше без каких-либо хитростей). Обучите логистическую регрессию и посмотрите на качество модели на тестовом множестве. Сравните время обучения с предыдущими экспериментами (с учетом кодирования признаков). Заметили ли вы что-то интересное?\n"
      ]
    },
    {
      "cell_type": "markdown",
      "metadata": {
        "id": "IYviC42P7pvE"
      },
      "source": [
        "Как кодируем: берем категориальный признак, смотрим, какие у него есть значения. Для каждого значения считаем среднее таргета. Получилось  соответствие (значение категориального признака) <-> число. Это и есть mean-target-кодирование. Так мы сделаем на обучающей выборке.\n",
        "\n",
        "Тогда, чтобы делать кодирование для тестовой выборки, нам нужно знать для каждого значения категории вычисленное среднее таргета. Т.е. нам стоит хранить словарь с названиями категорий, где каждой категории будет соответствовать еще один список. В этом списке будет название значения категории, а соответствовать ему будет среднее таргета."
      ]
    },
    {
      "cell_type": "code",
      "metadata": {
        "id": "hSKXbYIeSOqQ"
      },
      "source": [
        "import warnings\n",
        "warnings.filterwarnings(\"ignore\")\n",
        "\n",
        "starting_code_time = time.time()\n",
        "# кодируем по обучающей выборке\n",
        "cat_dict = dict.fromkeys(cat)\n",
        "\n",
        "# перебираем по категориям\n",
        "for cat_ in cat:\n",
        "  # создадим для категории словарь с значениями-ключами\n",
        "  cat_dict[cat_] = dict.fromkeys(X_train[cat_].unique())\n",
        "  # кодируем\n",
        "  for val in X_train[cat_].unique():\n",
        "    # g_j(x, X) --- это среднее таргета по всем объектам категории\n",
        "    g = np.mean(y_train[X_train[cat_] == val])\n",
        "    cat_dict[cat_][val] = g\n",
        "    X_train.loc[(X_train[cat_] == val), cat_] = g\n",
        "code_time = time.time() - starting_code_time"
      ],
      "execution_count": 240,
      "outputs": []
    },
    {
      "cell_type": "code",
      "metadata": {
        "id": "nnpq9W9x0kwI"
      },
      "source": [
        "# теперь закодируем категориальные признаки в тестовой выборке\n",
        "test_code_starting_time = time.time()\n",
        "\n",
        "for cat_ in cat:\n",
        "  for val in X_test[cat_].unique():\n",
        "    X_test.loc[(X_test[cat_] == val), cat_] = cat_dict[cat_][val]\n",
        "\n",
        "test_code_time = time.time() - test_code_starting_time"
      ],
      "execution_count": 241,
      "outputs": []
    },
    {
      "cell_type": "code",
      "metadata": {
        "colab": {
          "base_uri": "https://localhost:8080/"
        },
        "id": "0EcnUI9OGUqR",
        "outputId": "c2aa3419-87dc-4a20-d855-d5026bbd8eff"
      },
      "source": [
        "fit_start_time = time.time()\n",
        "\n",
        "model = LogisticRegression(max_iter = 200000)\n",
        "model.fit(X_train, y_train)\n",
        "\n",
        "fit_time = time.time() - fit_start_time\n",
        "final_time = code_time + test_code_time + fit_time\n",
        "\n",
        "print(\"Время обучения + кодирования:\", final_time)\n",
        "print(\"AUC-PR:\", average_precision_score(y_test, model.decision_function(X_test)))"
      ],
      "execution_count": null,
      "outputs": [
        {
          "output_type": "stream",
          "name": "stdout",
          "text": [
            "Время обучения + кодирования: 1.4904639720916748\n",
            "AUC-PR: 0.4281656759581016\n"
          ]
        }
      ]
    },
    {
      "cell_type": "markdown",
      "metadata": {
        "id": "1vL5TkbAKzAg"
      },
      "source": [
        "Училось дольше, чем для OrdinalEncoder, но быстрее, чем для OHE. Качество упало (стало чуть лучше качества случайного классификатора)). Так что интересного ничего не заметила: выше мы получали качество лучше и время работы лучше."
      ]
    },
    {
      "cell_type": "markdown",
      "metadata": {
        "id": "Wbt4EFHi4gY1"
      },
      "source": [
        "__Бонус (1 балл)__: Здесь и далее реализуйте вычисление счетчиков с помощью трансформера (наследуйтесь от классов `BaseEstimator, TransformerMixin` из `sklearn.base`). Обратите внимание, что все вычисления должны быть векторизованными, трансформер не должен модифицировать передаваемую ему выборку inplace, а все необходимые статистики нужно считать только по обучающей выборке в методе `fit`. Ваш трансформер должен принимать при инициализации список из категориальных признаков и изменять только их. "
      ]
    },
    {
      "cell_type": "code",
      "metadata": {
        "id": "lfzA8JVsIBWw"
      },
      "source": [
        "class CatTransformer(BaseEstimator, TransformerMixin):\n",
        "    def __init__(self, cat):\n",
        "        self.cat = cat\n",
        "\n",
        "    def fit(self, X, y):\n",
        "        self.cat_dict = dict.fromkeys(cat)\n",
        "        for cat_ in self.cat:\n",
        "          self.cat_dict[cat_] = dict.fromkeys(X[cat_].unique())\n",
        "          for val in X[cat_].unique():\n",
        "            g = np.mean(y[X[cat_] == val])\n",
        "            self.cat_dict[cat_][val] = g\n",
        "        return self\n",
        "\n",
        "    def transform(self, X, y=None):\n",
        "        X_transformed = X.copy()\n",
        "        for cat_ in self.cat:\n",
        "          for val in X_transformed[cat_].unique():\n",
        "            X_transformed.loc[(X_transformed[cat_] == val), cat_] = self.cat_dict[cat_][val]\n",
        "        return X_transformed"
      ],
      "execution_count": null,
      "outputs": []
    },
    {
      "cell_type": "code",
      "metadata": {
        "colab": {
          "base_uri": "https://localhost:8080/"
        },
        "id": "J9bNJ11WNc7w",
        "outputId": "397741a9-9bcc-4906-8803-2e39c9e19dad"
      },
      "source": [
        "# перед запуском сделала повторный запуск ячеек с разделением на трейн и тест и преобразованием таргета\n",
        "column_transformer = ColumnTransformer([\n",
        "                                        ('CT', CatTransformer(cat), cat)\n",
        "                                        ], remainder='passthrough')\n",
        "\n",
        "pipeline = Pipeline(steps=[\n",
        "            ('CT', column_transformer),\n",
        "            ('regression', LogisticRegression(max_iter = 200000))\n",
        "        ])\n",
        "\n",
        "start_time = time.time()\n",
        "model = pipeline.fit(X_train, y_train)\n",
        "print(\"AUC-PR:\", average_precision_score(y_test, model.decision_function(X_test)))\n",
        "print(\"Время обучения + кодирования:\", time.time() - start_time)"
      ],
      "execution_count": null,
      "outputs": [
        {
          "output_type": "stream",
          "name": "stdout",
          "text": [
            "AUC-PR: 0.42087405094686753\n",
            "Время обучения + кодирования: 1.0452163219451904\n"
          ]
        }
      ]
    },
    {
      "cell_type": "markdown",
      "metadata": {
        "id": "jm10URnyzwyu"
      },
      "source": [
        "Отметим, что такие признаки сами по себе являются классификаторами и, обучаясь на них, мы допускаем \"утечку\" целевой переменной в признаки. Это ведёт к переобучению, поэтому считать такие признаки необходимо таким образом, чтобы при вычислении для конкретного объекта его целевая метка не использовалась. Это можно делать следующими способами:\n",
        "1. Вычислять значение счётчика по всем объектам расположенным выше в датасете (например, если у нас выборка отсортирована по времени).\n",
        "2. Вычислять по фолдам, то есть делить выборку на некоторое количество частей и подсчитывать значение признаков по всем фолдам кроме текущего (как делается в кросс-валидации).\n",
        "3. Внесение некоторого шума в посчитанные признаки. \n",
        "\n",
        "__Задание 6.__ Реализуйте корректное вычисление счётчиков самым простым способом — добавление шума к значениям (постарайтесь найти баланс между борьбой с переобучением и сохранением полезности признаков). Снова обучите логистическую регрессию, оцените качество. Сделайте выводы.\n",
        "\n",
        "__(0.5 балла)__"
      ]
    },
    {
      "cell_type": "code",
      "metadata": {
        "id": "s_EHWBRhzwyu"
      },
      "source": [
        "from sklearn.base import BaseEstimator, TransformerMixin\n",
        "\n",
        "class CatTransformer(BaseEstimator, TransformerMixin):\n",
        "    def __init__(self, cat):\n",
        "        self.cat = cat\n",
        "\n",
        "    def fit(self, X, y):\n",
        "        self.cat_dict = dict.fromkeys(cat)\n",
        "        for cat_ in self.cat:\n",
        "          self.cat_dict[cat_] = dict.fromkeys(X[cat_].unique())\n",
        "          for val in X[cat_].unique():\n",
        "            g = np.mean(y[X[cat_] == val])\n",
        "            self.cat_dict[cat_][val] = g\n",
        "        return self\n",
        "\n",
        "    def transform(self, X, y=None):\n",
        "        X_transformed = X.copy()\n",
        "        for cat_ in self.cat:\n",
        "          for val in X_transformed[cat_].unique():\n",
        "            noise = np.random.normal(0, 0.01, len(X_transformed.loc[(X_transformed[cat_] == val), cat_]))\n",
        "            X_transformed.loc[(X_transformed[cat_] == val), cat_] = self.cat_dict[cat_][val] + noise\n",
        "        return X_transformed"
      ],
      "execution_count": null,
      "outputs": []
    },
    {
      "cell_type": "code",
      "metadata": {
        "colab": {
          "base_uri": "https://localhost:8080/"
        },
        "id": "HHjtXkYJQJb9",
        "outputId": "f0e67be2-e800-413a-ae9e-c0b1b5a93f46"
      },
      "source": [
        "column_transformer = ColumnTransformer([\n",
        "                                        ('CT', CatTransformer(cat), cat)\n",
        "                                        ], remainder='passthrough')\n",
        "\n",
        "pipeline = Pipeline(steps=[\n",
        "            ('CT', column_transformer),\n",
        "            ('regression', LogisticRegression(max_iter = 200000))\n",
        "        ])\n",
        "\n",
        "model = pipeline.fit(X_train, y_train)\n",
        "print(\"AUC-PR:\", average_precision_score(y_test, model.decision_function(X_test)))"
      ],
      "execution_count": null,
      "outputs": [
        {
          "output_type": "stream",
          "name": "stdout",
          "text": [
            "AUC-PR: 0.409455638260196\n"
          ]
        }
      ]
    },
    {
      "cell_type": "markdown",
      "metadata": {
        "id": "4IBDEfqhR1-0"
      },
      "source": [
        "Вывод: метод конкретно тут бесполезный и даже вредный."
      ]
    },
    {
      "cell_type": "markdown",
      "metadata": {
        "id": "ijue3wqgzwyu"
      },
      "source": [
        "__(Бонусная часть, 0.5 балла)__ Посчитайте корректные счётчики первым или вторым способов из описанных выше (не забудьте добавить и шум). \n",
        "\n"
      ]
    },
    {
      "cell_type": "code",
      "metadata": {
        "id": "srgrDAXJV7m-"
      },
      "source": [
        "# сделаем с помощью кода выше столбцы для каждой категории с результатом кодирования (заменим исходные на них)\n",
        "# кодируем по обучающей выборке\n",
        "cat_dict = dict.fromkeys(cat)\n",
        "\n",
        "# перебираем по категориям\n",
        "for cat_ in cat:\n",
        "  for val in X_train[cat_].unique():\n",
        "    g = np.mean(y_train[X_train[cat_] == val])\n",
        "    X_train[cat_ + 'Old'] = X_train[cat_]\n",
        "    X_train.loc[(X_train[cat_] == val), cat_] = g"
      ],
      "execution_count": 296,
      "outputs": []
    },
    {
      "cell_type": "code",
      "metadata": {
        "id": "LA46lBmRX-Pf"
      },
      "source": [
        "# реализуем первый способ. Сначала отсортируем по pdays --- число дней, прошедшее с последнего контакта\n",
        "X_train = X_train.sort_values(by='pdays')\n",
        "X_test = X_test.sort_values(by='pdays')\n",
        "\n",
        "# кодируем тестовую\n",
        "for cat_ in cat:\n",
        "  for val in X_train[cat_].unique():\n",
        "    noise = np.random.normal(0, 0.01, len(X_train.loc[(X_train[cat_] == val), cat_]))\n",
        "    X_train[\"cat_higher\"] = X_train.groupby(cat_ + 'Old')[cat_].cumsum() + noise\n",
        "\n",
        "# кодируем тренировочную\n",
        "for cat_ in cat:\n",
        "  for val in X_test[cat_].unique():\n",
        "    noise = np.random.normal(0, 0.01, len(X_test.loc[(X_test[cat_] == val), cat_]))\n",
        "    X_test[\"cat_higher\"] = X_test.groupby(val)[cat_].cumsum() + noise"
      ],
      "execution_count": null,
      "outputs": []
    },
    {
      "cell_type": "code",
      "metadata": {
        "id": "OKb5c2z4XNgZ"
      },
      "source": [
        "model = LogisticRegression(max_iter = 200000)\n",
        "model.fit(X_train, y_train)\n",
        "print(\"AUC-PR:\", average_precision_score(y_test, model.decision_function(X_test)))"
      ],
      "execution_count": null,
      "outputs": []
    },
    {
      "cell_type": "markdown",
      "metadata": {
        "id": "jSjw88fWzwyu"
      },
      "source": [
        "А теперь ответьте на следующий вопрос: что будет, если некоторая категория встречается в выборке всего несколько раз? По этой причине производится сглаживание счётчиков. Например, на практике хорошие результаты показывает использование сглаживания средним по всей выборке:\n",
        "$$\n",
        "g_j(x, X) = \\frac{\\sum_{i=1}^{\\ell} [f_j(x) = f_j(x_i)][y_i = +1] + C \\times global\\_mean}{\\sum_{i=1}^{\\ell} [f_j(x) = f_j(x_i)] + C}\n",
        "$$\n",
        "где $global\\_mean$ — доля объектов положительного класса в выборке, $C$ — параметр, определяющий степень сглаживания (например, можно использовать 10 или подобрать для каждого признака свой). Основная идея в том, что мы \"разбавляем\" среднее значение по некоторой категории глобальным средним значением. И тем меньше, чем большее количество объектов этой категории встречается в выборке. \n",
        "\n",
        "Однако для сглаживания вместо среднего значения целевой переменной можно использовать любое другое значение от 0 до 1 (этот параметр иногда называют $prior$). Можно сделать несколько признаков с разными значениями параметра. На практике в задачах бинарной классификации полезными бывают даже отрицательные значения!\n"
      ]
    },
    {
      "cell_type": "markdown",
      "metadata": {
        "id": "XvORIncZzwyv"
      },
      "source": [
        "__Задание 7 (1 балл).__ Добавьте сглаживание, описанное выше и повторите эксперименты."
      ]
    },
    {
      "cell_type": "code",
      "metadata": {
        "id": "qf0XMqz2ScJr"
      },
      "source": [
        "beg_time = time.time()\n",
        "\n",
        "# кодируем на обучающей выборке + кодируем ее\n",
        "cat_dict = dict.fromkeys(cat)\n",
        "for cat_ in cat:\n",
        "  cat_dict[cat_] = dict.fromkeys(X_train[cat_].unique())\n",
        "  for val in X_train[cat_].unique():\n",
        "    g = (((y_train[X_train[cat_] == val] == 1).sum() + 10 * y_train.mean())/\n",
        "        ((y_train[X_train[cat_] == val] == 1).sum() + 10))\n",
        "    cat_dict[cat_][val] = g\n",
        "    X_train.loc[(X_train[cat_] == val), cat_] = cat_dict[cat_][val]\n",
        "\n",
        "code_time = time.time() - beg_time"
      ],
      "execution_count": 247,
      "outputs": []
    },
    {
      "cell_type": "code",
      "metadata": {
        "colab": {
          "base_uri": "https://localhost:8080/"
        },
        "id": "z0RmR1Jifevw",
        "outputId": "a00089a0-e03b-4cbc-a6aa-d27d61fe95a9"
      },
      "source": [
        "start_test_time = time.time()\n",
        "\n",
        "# кодируем тестовую выборку\n",
        "for cat_ in cat:\n",
        "  for val in X_test[cat_].unique():\n",
        "    X_test.loc[(X_test[cat_] == val), cat_] = cat_dict[cat_][val]\n",
        "\n",
        "# обучаем модель\n",
        "model = LogisticRegression(max_iter = 200000)\n",
        "model.fit(X_train, y_train)\n",
        "\n",
        "test_time = time.time() - start_test_time\n",
        "print(\"С global mean\\n-----\")\n",
        "print(\"Время на обучение + кодирование\", code_time + test_time)\n",
        "print(\"AUC-PR:\", average_precision_score(y_test, model.decision_function(X_test)))"
      ],
      "execution_count": 248,
      "outputs": [
        {
          "output_type": "stream",
          "name": "stdout",
          "text": [
            "С global mean\n",
            "-----\n",
            "Время на обучение + кодирование 1.4401872158050537\n",
            "AUC-PR: 0.5554109588857628\n"
          ]
        }
      ]
    },
    {
      "cell_type": "markdown",
      "metadata": {
        "id": "ydAJwHB1g8l5"
      },
      "source": [
        "Лучше других методов не стало. Попробуем с другим prior."
      ]
    },
    {
      "cell_type": "code",
      "metadata": {
        "id": "HBJJ3LqgajKR"
      },
      "source": [
        "beg_time = time.time()\n",
        "\n",
        "# кодируем на обучающей выборке + кодируем ее\n",
        "cat_dict = dict.fromkeys(cat)\n",
        "for cat_ in cat:\n",
        "  cat_dict[cat_] = dict.fromkeys(X_train[cat_].unique())\n",
        "  for val in X_train[cat_].unique():\n",
        "    g = (((y_train[X_train[cat_] == val] == 1).sum() + 10 * 0.01)/\n",
        "        ((y_train[X_train[cat_] == val] == 1).sum() + 10))\n",
        "    cat_dict[cat_][val] = g\n",
        "    X_train.loc[(X_train[cat_] == val), cat_] = cat_dict[cat_][val]\n",
        "\n",
        "code_time = time.time() - beg_time"
      ],
      "execution_count": 253,
      "outputs": []
    },
    {
      "cell_type": "code",
      "metadata": {
        "colab": {
          "base_uri": "https://localhost:8080/"
        },
        "id": "ZSmeTObWhxxy",
        "outputId": "5db6363d-ea3e-4072-a78c-3674f50cc66f"
      },
      "source": [
        "start_test_time = time.time()\n",
        "\n",
        "# кодируем тестовую выборку\n",
        "for cat_ in cat:\n",
        "  for val in X_test[cat_].unique():\n",
        "    X_test.loc[(X_test[cat_] == val), cat_] = cat_dict[cat_][val]\n",
        "\n",
        "# обучаем модель\n",
        "model = LogisticRegression(max_iter = 200000)\n",
        "model.fit(X_train, y_train)\n",
        "\n",
        "test_time = time.time() - start_test_time\n",
        "print(\"С global mean\\n-----\")\n",
        "print(\"Время на обучение + кодирование\", code_time + test_time)\n",
        "print(\"AUC-PR:\", average_precision_score(y_test, model.decision_function(X_test)))"
      ],
      "execution_count": 254,
      "outputs": [
        {
          "output_type": "stream",
          "name": "stdout",
          "text": [
            "С global mean\n",
            "-----\n",
            "Время на обучение + кодирование 1.5717592239379883\n",
            "AUC-PR: 0.5566493968518744\n"
          ]
        }
      ]
    },
    {
      "cell_type": "markdown",
      "metadata": {
        "id": "IBHOmDDMh8Cc"
      },
      "source": [
        "Тоже лучше не стало. Хорошо, что узнали, что такой метод есть, но нам не пригодился))"
      ]
    },
    {
      "cell_type": "markdown",
      "metadata": {
        "id": "r0F0w2M2zwyv"
      },
      "source": [
        "__Задание 8 (0.5 балла).__ В данных имеется признак \"возраст клиента\". Сейчас мы интерпретируем его как числовой, что в общем случае для линейной модели может быть неверной гипотезой. Тем не менее, у этого признака есть довольно много уникальных значений (сколько?), поэтому применять к нему one-hot кодирование может оказаться излишним. Попробуйте закодировать возраст с помощью счетчиков. Стало ли лучше?\n",
        "\n"
      ]
    },
    {
      "cell_type": "code",
      "metadata": {
        "id": "I2Vuw7Vlzwyv",
        "colab": {
          "base_uri": "https://localhost:8080/"
        },
        "outputId": "3955c5ad-fb80-4c25-aab8-5b9e75c40bf3"
      },
      "source": [
        "print(\"Уникальных значений признака Возраст клиента:\", len(df[\"age\"].unique()))"
      ],
      "execution_count": null,
      "outputs": [
        {
          "output_type": "stream",
          "name": "stdout",
          "text": [
            "Уникальных значений признака Возраст клиента: 78\n"
          ]
        }
      ]
    },
    {
      "cell_type": "code",
      "metadata": {
        "id": "B7hWevaov9cK"
      },
      "source": [
        "cat.append('age')\n",
        "num = X_train.columns[~X_train.columns.isin(cat)]"
      ],
      "execution_count": 257,
      "outputs": []
    },
    {
      "cell_type": "code",
      "metadata": {
        "id": "O-Ngym6gwNAR"
      },
      "source": [
        "# делаем сглаживание средним (давало лучшие результаты для счетчиков). кодируем на обучающей выборке + кодируем ее\n",
        "cat_dict = dict.fromkeys(cat)\n",
        "for cat_ in cat:\n",
        "  cat_dict[cat_] = dict.fromkeys(X_train[cat_].unique())\n",
        "  for val in X_train[cat_].unique():\n",
        "    g = (((y_train[X_train[cat_] == val] == 1).sum() + 10 * y_train.mean())/\n",
        "        ((y_train[X_train[cat_] == val] == 1).sum() + 10))\n",
        "    cat_dict[cat_][val] = g\n",
        "    X_train.loc[(X_train[cat_] == val), cat_] = cat_dict[cat_][val]"
      ],
      "execution_count": 258,
      "outputs": []
    },
    {
      "cell_type": "code",
      "metadata": {
        "id": "0YPjJxGbcI41"
      },
      "source": [
        "# кодируем тестовую выборку\n",
        "for cat_ in cat:\n",
        "  for val in X_test[cat_].unique():\n",
        "    if val not in cat_dict[cat_].keys():\n",
        "      cat_dict[cat_][val] = 0\n",
        "    X_test.loc[(X_test[cat_] == val), cat_] = cat_dict[cat_][val]"
      ],
      "execution_count": 259,
      "outputs": []
    },
    {
      "cell_type": "code",
      "metadata": {
        "colab": {
          "base_uri": "https://localhost:8080/"
        },
        "id": "LokN9mp4ykwI",
        "outputId": "8a182b61-150a-48ed-e5c2-c5aa826ec627"
      },
      "source": [
        "# обучаем модель\n",
        "model = LogisticRegression(max_iter = 200000)\n",
        "model.fit(X_train, y_train)\n",
        "\n",
        "print(\"AUC-PR:\", average_precision_score(y_test, model.decision_function(X_test)))"
      ],
      "execution_count": null,
      "outputs": [
        {
          "output_type": "stream",
          "name": "stdout",
          "text": [
            "AUC-PR: 0.4261659497360639\n"
          ]
        }
      ]
    },
    {
      "cell_type": "markdown",
      "metadata": {
        "id": "VJq2FWIZy4iJ"
      },
      "source": [
        "Нет, для OHE по-прежнему лучший результат. Хотя для счетчиков этот результат лучший."
      ]
    },
    {
      "cell_type": "markdown",
      "metadata": {
        "id": "lrrp5gcLzwyv"
      },
      "source": [
        "Можно пойти и в обратную сторону. У нас есть признаки \"месяц и день недели\" для звонка. Попробуйте интерпретировать их как числовые (месяц от 0 до 12, дни недели от 0 до 4). Стало ли лучше в этот раз?"
      ]
    },
    {
      "cell_type": "code",
      "metadata": {
        "id": "Myw5FHqnzwyv",
        "colab": {
          "base_uri": "https://localhost:8080/"
        },
        "outputId": "b46da80f-363e-4821-cfeb-514aee882fb3"
      },
      "source": [
        "# снова обновила X_train. можно было не портить на каждом шаге, а делать копию, конечно...\n",
        "# посмотрим, как записаны месяцы\n",
        "print(X_train['month'].values, X_train['day_of_week'].values)"
      ],
      "execution_count": null,
      "outputs": [
        {
          "output_type": "stream",
          "name": "stdout",
          "text": [
            "['aug' 'jun' 'jun' ... 'jun' 'may' 'aug'] ['wed' 'tue' 'fri' ... 'fri' 'wed' 'fri']\n"
          ]
        }
      ]
    },
    {
      "cell_type": "code",
      "metadata": {
        "id": "sSRR-1xEz1bX"
      },
      "source": [
        "# создадим словарь с соответствиями месяцев и дней их порядковому номеру\n",
        "months = {'jan': 0, 'feb': 1, 'mar': 2, 'apr':3, 'may': 4, 'jun': 5, 'jul': 6, 'aug': 7, 'sep': 8, 'oct': 9, 'nov': 10, 'dec': 11}\n",
        "days = {'mon': 0, 'tue': 1, 'wed': 2, 'thu': 3, 'fri': 4}"
      ],
      "execution_count": 263,
      "outputs": []
    },
    {
      "cell_type": "code",
      "metadata": {
        "colab": {
          "base_uri": "https://localhost:8080/"
        },
        "id": "U5kFbF8UTISN",
        "outputId": "51bec947-b7cf-4ac1-a932-36e6c6b68406"
      },
      "source": [
        "# трансформируем в X_train\n",
        "X_train['month'] = X_train['month'].apply(lambda m: months[m])\n",
        "X_train['day_of_week'] = X_train['day_of_week'].apply(lambda d: days[d])\n",
        "\n",
        "# трансформируем в X_test\n",
        "X_test['month'] = X_test['month'].apply(lambda m: months[m])\n",
        "X_test['day_of_week'] = X_test['day_of_week'].apply(lambda x: days[x])\n",
        "\n",
        "cat = [\"age\", \"job\", \"marital\", \"education\", \"default\", \"housing\", \"loan\", \"contact\", \"poutcome\"]\n",
        "\n",
        "# кодируем + кодируем обучающую выборку\n",
        "cat_dict = dict.fromkeys(cat)\n",
        "for cat_ in cat:\n",
        "  cat_dict[cat_] = dict.fromkeys(X_train[cat_].unique())\n",
        "  for val in X_train[cat_].unique():\n",
        "    g = (((y_train[X_train[cat_] == val] == 1).sum() + 10 * y_train.mean())/\n",
        "        ((y_train[X_train[cat_] == val] == 1).sum() + 10))\n",
        "    cat_dict[cat_][val] = g\n",
        "    X_train.loc[(X_train[cat_] == val), cat_] = cat_dict[cat_][val]\n",
        "\n",
        "# кодируем тестовую\n",
        "for cat_ in cat:\n",
        "  for val in X_test[cat_].unique():\n",
        "    if val not in cat_dict[cat_].keys():\n",
        "      cat_dict[cat_][val] = 0\n",
        "    X_test.loc[(X_test[cat_] == val), cat_] = cat_dict[cat_][val]\n",
        "  \n",
        "# обучаем модель\n",
        "model = LogisticRegression(max_iter = 200000)\n",
        "model.fit(X_train, y_train)\n",
        "\n",
        "print(\"AUC-PR:\", average_precision_score(y_test, model.decision_function(X_test)))"
      ],
      "execution_count": 270,
      "outputs": [
        {
          "output_type": "stream",
          "name": "stdout",
          "text": [
            "AUC-PR: 0.4230690086542928\n"
          ]
        }
      ]
    },
    {
      "cell_type": "markdown",
      "metadata": {
        "id": "sJGAPd2F7e5B"
      },
      "source": [
        "Стало чуть хуже (видимо, потому что для нас все же нет порядка, что пятница лучше понедельника и т.д.)"
      ]
    },
    {
      "cell_type": "markdown",
      "metadata": {
        "id": "COiJdOhJzwyv"
      },
      "source": [
        "__Замечание.__ Усложнение методов вычисления счётчиков не делают результаты модели гарантированно лучше. Особенно с учётом того, что логистическая регрессия не такая сложная модель, чтобы переобучаться. Поэтому вы необязательно должны были получать на каждом шаге всё лучшие и лучшие результаты (но необходимые результаты у вас должны были получиться).\n",
        "\n",
        "Как вы должны были заметить, счётчики являются хорошей альтернативой one-hot-кодированию. Напишите, какие плюсы и минусы использования счётчиков по сравнению с one-hot-кодированием вы заметили.\n",
        "\n",
        "__Ответ:__ \n",
        "\n",
        "\\+ обучение быстрее\n",
        "\n",
        "\\+ признаков меньше\n",
        "\n",
        "\\- качество ниже"
      ]
    },
    {
      "cell_type": "markdown",
      "metadata": {
        "id": "cAUPpkSVzwyw"
      },
      "source": [
        "# Часть 2. Отбор признаков"
      ]
    },
    {
      "cell_type": "markdown",
      "metadata": {
        "id": "OT84CSRgzwyw"
      },
      "source": [
        "Важной частью процесса построения модели является отбор признаков. На практике многие признаки оказывают малое влияние на модель (при этом их расчёт занимает время) или даже негативно сказываются на качестве модели. Попробуем несколько подходов отбора признаков, оценим, как они влияют на качество модели и сколько времени занимают.\n",
        "\n",
        "Обратимся к тем же данным про банковский телефонный маркетинг."
      ]
    },
    {
      "cell_type": "code",
      "metadata": {
        "id": "2yYTIO9fzwyw"
      },
      "source": [
        "df = pd.read_csv('bank-additional/bank-additional-full.csv', sep=';')\n",
        "\n",
        "X = df.drop(columns=['duration', 'y'])\n",
        "y = (df.y == 'yes')\n",
        "\n",
        "X_train, X_test, y_train, y_test = train_test_split(X, y, test_size=0.2, random_state=777, stratify=y)"
      ],
      "execution_count": 189,
      "outputs": []
    },
    {
      "cell_type": "markdown",
      "metadata": {
        "id": "o8WXcKuJzwyw"
      },
      "source": [
        "Как вы помните, в данных много категориальных признаков (сейчас давайте интерпретировать возраст как числовой). Давайте закодируем их с помощью one-hot кодирования. Исходные колонки с категориальными признаками можно удалить. Сколько признаков мы получили?"
      ]
    },
    {
      "cell_type": "code",
      "metadata": {
        "id": "YOHSYfLxAmLP",
        "colab": {
          "base_uri": "https://localhost:8080/"
        },
        "outputId": "b0b0752e-1770-4d92-a563-75ae598832f1"
      },
      "source": [
        "from sklearn.preprocessing import OneHotEncoder\n",
        "from sklearn.preprocessing import StandardScaler\n",
        "\n",
        "print(\"Было признаков:\", X_train.shape[1])\n",
        "\n",
        "cat = [\"job\", \"marital\", \"education\", \"default\", \"housing\", \"loan\", \"contact\", \"month\", \"day_of_week\", \"poutcome\"]\n",
        "column_transformer = ColumnTransformer([\n",
        "    ('ohe', OneHotEncoder(), cat)],\n",
        "    remainder='passthrough'\n",
        ")\n",
        "\n",
        "X_train = column_transformer.fit_transform(X_train)\n",
        "print(\"Число признаков после OHE:\", X_train.shape[1])"
      ],
      "execution_count": null,
      "outputs": [
        {
          "output_type": "stream",
          "name": "stdout",
          "text": [
            "Было признаков: 19\n",
            "Число признаков после OHE 62\n"
          ]
        }
      ]
    },
    {
      "cell_type": "markdown",
      "metadata": {
        "id": "MvzZyeO4zwyw"
      },
      "source": [
        "В качестве основной модели будем использовать логистическую регрессию, а целевой метрики — `AUC-PR`. Обучите модель и посчитайте качество на тестовой выборке. Давайте запомним полученное значение."
      ]
    },
    {
      "cell_type": "code",
      "metadata": {
        "id": "XRLjutm1BL24"
      },
      "source": [
        "X_test = column_transformer.transform(X_test)"
      ],
      "execution_count": 98,
      "outputs": []
    },
    {
      "cell_type": "code",
      "metadata": {
        "id": "4BvQmDtOzwyw",
        "colab": {
          "base_uri": "https://localhost:8080/"
        },
        "outputId": "7d0f37e5-f3cf-4449-c7ed-d6bcf271fbaf"
      },
      "source": [
        "model = LogisticRegression(max_iter = 200000)\n",
        "model.fit(X_train, y_train)\n",
        "AUC_PR_OHE = average_precision_score(y_test, model.decision_function(X_test))\n",
        "\n",
        "print(\"AUC-PR:\", AUC_PR_OHE)"
      ],
      "execution_count": 186,
      "outputs": [
        {
          "output_type": "stream",
          "name": "stdout",
          "text": [
            "AUC-PR: 0.4395049540942016\n"
          ]
        }
      ]
    },
    {
      "cell_type": "markdown",
      "metadata": {
        "id": "ZKK0H41Czwyw"
      },
      "source": [
        "### Встроенные методы"
      ]
    },
    {
      "cell_type": "markdown",
      "metadata": {
        "id": "NHfX8krYzwyx"
      },
      "source": [
        "Допустим, мы хотим оставить только 40 лучших признаков. Попробуем сделать это несколькими способами.\n",
        "\n",
        "Начнём с отборам признаков с помощью линейной модели. Как известно, веса линейной модели означают вклад каждого признака в предсказание модели, а значит, модуль этого вклада можно интерпретировать как важность признаков. Такой метод отбора называются встроенным или embedded method, так как он заложен в особенности модели.\n",
        "\n",
        "__Задание 8 (0.5 балла).__ Оставьте 40 признаков с наибольшим модулем соответствующего параметра линейной модели. Обучите модели заново и оцените её качество. Замерьте скорость такого отбора признаков.\n",
        "\n",
        "Изменилось ли качество? Как?\n",
        "\n"
      ]
    },
    {
      "cell_type": "code",
      "metadata": {
        "colab": {
          "base_uri": "https://localhost:8080/"
        },
        "id": "gOI51vJpGWC_",
        "outputId": "afd02310-e057-4482-ed04-5f9f4ca8865b"
      },
      "source": [
        "beg_time = time.time()\n",
        "ind = np.argsort(abs(model.coef_))[-40:]  # индексы признаков с наибольшими по модулю весами\n",
        "print(\"Время отбора признаков:\", time.time() - beg_time)\n",
        "\n",
        "model.fit(X_train[:, ind[0]], y_train)\n",
        "print(\"AUC-PR:\", average_precision_score(y_test, model.decision_function(X_test[:, ind[0]])))"
      ],
      "execution_count": 112,
      "outputs": [
        {
          "output_type": "stream",
          "name": "stdout",
          "text": [
            "Время отбора признаков: 0.0011892318725585938\n",
            "AUC-PR: 0.44620178131336435\n"
          ]
        }
      ]
    },
    {
      "cell_type": "markdown",
      "metadata": {
        "id": "rPEyzAZjJFQF"
      },
      "source": [
        "Качество улучшилось на две тысячные! Мелочь, а приятно."
      ]
    },
    {
      "cell_type": "markdown",
      "metadata": {
        "id": "7kwKyibBzwyx"
      },
      "source": [
        "А теперь давайте подумаем, что мы не учли. Мы предположили, что признаки вносят вклад равномерно, но не учли их масштаба. Если мы умножим один из признаков в 100 раз, то без учёта регуляризации его вес уменьшится в эти же 100 раз. А мы на основе этого отбираем признаки! Давайте сначала отмасштабируем признаки одним из способов, а только потом будем удалять признаки. \n",
        "\n",
        "Кстати, в таком случае надо пересчитать качество на всех признаках (сделайте это ниже). Если вы сделали нормирование признаков в самом начале, то попробуйте отобрать признаки на неотмасштабированных данных.\n",
        "\n",
        "Что получилось?"
      ]
    },
    {
      "cell_type": "code",
      "metadata": {
        "id": "EH1NhHKKzwyx",
        "colab": {
          "base_uri": "https://localhost:8080/"
        },
        "outputId": "5c4decc6-c6ab-455b-d6f4-0f7781a7f2de"
      },
      "source": [
        "# сгенерировала заново X_train\n",
        "\n",
        "num = X_train.columns[~X_train.columns.isin(cat)]\n",
        "\n",
        "column_transformer = ColumnTransformer([\n",
        "    ('ohe', OneHotEncoder(handle_unknown=\"ignore\"), cat),\n",
        "    ('scaling', StandardScaler(), num)\n",
        "])\n",
        "\n",
        "pipeline = Pipeline(steps=[\n",
        "            ('ohe', column_transformer),\n",
        "            ('regression', LogisticRegression(max_iter=200000))\n",
        "        ])\n",
        "\n",
        "model = pipeline.fit(X_train, y_train)\n",
        "\n",
        "beg_time = time.time()\n",
        "index = np.argsort(abs(model.steps[1][1].coef_))[0][-40:]\n",
        "print(\"Время отбора признаков:\", time.time() - beg_time)\n",
        "\n",
        "# т.к. отобранные признаки --- в закодированном\n",
        "X_train = column_transformer.fit_transform(X_train)\n",
        "X_test = column_transformer.transform(X_test)\n",
        "\n",
        "pipeline = Pipeline(steps=[\n",
        "            ('regression', LogisticRegression(max_iter=200000))\n",
        "        ])\n",
        "\n",
        "model = pipeline.fit(X_train[:, index], y_train)\n",
        "print(\"AUC-PR:\", average_precision_score(y_test, model.decision_function(X_test[:, index])))"
      ],
      "execution_count": 131,
      "outputs": [
        {
          "output_type": "stream",
          "name": "stdout",
          "text": [
            "Время отбора признаков: 0.00018978118896484375\n",
            "AUC-PR: 0.448593281472265\n"
          ]
        }
      ]
    },
    {
      "cell_type": "markdown",
      "metadata": {
        "id": "WV8yDuzrRuuy"
      },
      "source": [
        "Еще лучше стало! И отбор признаков на заранее отнормированном гораздо быстрее."
      ]
    },
    {
      "cell_type": "markdown",
      "metadata": {
        "id": "HJRoKyCKzwyx"
      },
      "source": [
        "Вопрос на засыпку: one-hot кодирование возвращает нам единичные признаки-индикаторы. Попробуйте также отскалировать их, как и обычные числовые, и снова выбрать 40 главных по вкладу признаков. Изменился ли их список? Изменится ли качество?"
      ]
    },
    {
      "cell_type": "code",
      "metadata": {
        "id": "-TcC4qfMzwyx",
        "colab": {
          "base_uri": "https://localhost:8080/"
        },
        "outputId": "c3b1fc09-fc90-4585-e69d-f34e4b58d0c1"
      },
      "source": [
        "column_transformer = ColumnTransformer([\n",
        "    ('ohe', OneHotEncoder(handle_unknown=\"ignore\"), cat)],\n",
        "    remainder='passthrough')\n",
        "\n",
        "pipeline = Pipeline(steps=[\n",
        "            ('regression', LogisticRegression(max_iter=1000))\n",
        "        ])\n",
        "\n",
        "scaler = StandardScaler()\n",
        "\n",
        "X_train = column_transformer.fit_transform(X_train)  # применили OHE\n",
        "X_train = scaler.fit_transform(X_train)  # масштабируем все признаки\n",
        "model = pipeline.fit(X_train, y_train)\n",
        "index_scaled_all = np.argsort(abs(model.steps[0][1].coef_))[0][-40:]  # отобрали лучшие веса\n",
        "\n",
        "model = pipeline.fit(X_train[:, index_scaled_all], y_train)  # учимся на лучших весах\n",
        "X_test = column_transformer.transform(X_test)  # применили OHE к тесту\n",
        "X_test = scaler.transform(X_test)  # отмасштабировали\n",
        "\n",
        "print(\"AUC-PR:\", average_precision_score(y_test, model.decision_function(X_test[:, index_scaled_all])))"
      ],
      "execution_count": 126,
      "outputs": [
        {
          "output_type": "stream",
          "name": "stdout",
          "text": [
            "AUC-PR: 0.4486752805205054\n"
          ]
        }
      ]
    },
    {
      "cell_type": "markdown",
      "metadata": {
        "id": "Jv-ozJp5ZEYk"
      },
      "source": [
        "Качество выросло в четвертом знаке после запятой)"
      ]
    },
    {
      "cell_type": "code",
      "metadata": {
        "colab": {
          "base_uri": "https://localhost:8080/"
        },
        "id": "AQ11biFmSr9U",
        "outputId": "309396d5-c78f-4d7d-e047-767e06cb428d"
      },
      "source": [
        "set(index_scaled_all) == set(index)\n",
        "\n",
        "# список признаков изменился"
      ],
      "execution_count": 138,
      "outputs": [
        {
          "output_type": "execute_result",
          "data": {
            "text/plain": [
              "False"
            ]
          },
          "metadata": {},
          "execution_count": 138
        }
      ]
    },
    {
      "cell_type": "markdown",
      "metadata": {
        "id": "pTL-erDxzwyy"
      },
      "source": [
        "### Методы фильтрации\n",
        "\n",
        "\n",
        "Давайте отбирать признаки умнее, а именно через подсчёт некоторой функции для каждого признака. На основании значений этой функции будем оставлять наиболее важные признаки. Методы этого семейства называют фильтрующими или  filter methods. \n",
        "\n",
        "В качестве такой функции будем считать t-статистику:\n",
        "\n",
        "$$t(j) = \\frac{|\\mu_+ - \\mu_-|}{\\sqrt{\\frac{n_+ \\sigma^2_+ + n_- \\sigma^2_-}{n_+ + n_-}}},$$\n",
        "\n",
        "где $\\mu$, $\\sigma$, $n$ соответственно среднее, стандартное отклонение и количество объектов каждого из классов.\n",
        "\n",
        "__Задание 9 (0.5 балла).__ Оставьте 40 признаков с наибольшим значением $t$ и замерьте качество. Не забудьте замерить скорость отбора признаков в этом случае.\n",
        "\n"
      ]
    },
    {
      "cell_type": "code",
      "metadata": {
        "id": "CDP4LH-Bzwyy",
        "colab": {
          "base_uri": "https://localhost:8080/"
        },
        "outputId": "b1b8db03-ce84-41ff-85e3-8ae3e06da386"
      },
      "source": [
        "# снова загрузила заново X_train\n",
        "\n",
        "column_transformer = ColumnTransformer([\n",
        "    ('ohe', OneHotEncoder(handle_unknown=\"ignore\"), cat),\n",
        "    ('scaling', StandardScaler(), num)\n",
        "])\n",
        "\n",
        "X_train = column_transformer.fit_transform(X_train)\n",
        "X_test = column_transformer.transform(X_test)\n",
        "\n",
        "t = []\n",
        "beg_time = time.time()\n",
        "n_samples, n_features = X_train.shape\n",
        "\n",
        "for feat in range(n_features):\n",
        "    n_plus = y_train.sum()\n",
        "    n_minus = n_samples - n_plus\n",
        "    mu_plus = (X_train[:, feat][y_train == 1]).mean()\n",
        "    mu_minus = (X_train[:, feat][y_train == 0]).mean()\n",
        "    sigma_plus = (X_train[:, feat][y_train == 1]).var()\n",
        "    sigma_minus = (X_train[:, feat][y_train == 0]).var()\n",
        "    t.append(abs(mu_plus - mu_minus) / np.sqrt((n_plus * sigma_plus + n_minus * sigma_minus) / n_plus + n_minus))\n",
        "\n",
        "best_t = np.argsort(t)[-40:]\n",
        "print(\"Время отбора признаков:\", time.time() - beg_time)\n",
        "\n",
        "pipeline = Pipeline(steps=[\n",
        "            ('regression', LogisticRegression(max_iter=200000))\n",
        "        ])\n",
        "\n",
        "model = pipeline.fit(X_train[:, best_t], y_train)\n",
        "print(\"AUC-PR:\", average_precision_score(y_test, model.decision_function(X_test[:, best_t])))"
      ],
      "execution_count": 148,
      "outputs": [
        {
          "output_type": "stream",
          "name": "stdout",
          "text": [
            "Время отбора признаков: 0.22461152076721191\n",
            "AUC-PR: 0.4522411598716828\n"
          ]
        }
      ]
    },
    {
      "cell_type": "markdown",
      "metadata": {
        "id": "4twgS6bzeHK7"
      },
      "source": [
        "И еще немножко качество выросло!"
      ]
    },
    {
      "cell_type": "markdown",
      "metadata": {
        "id": "2rJ4lHjSzwyy"
      },
      "source": [
        "### Методы-обёртки\n",
        "\n",
        "__Задание 10 (1 балл).__ \n",
        "\n",
        "Третий из рассматриваемых нами методов работает следующим образом: мы исключаем по очереди один из признаков и смотрим, как это влияет на качество. Удаляем признаки таким жадным способом, пока не окажется выполненым некоторое условие (количество признаков или ухудшение качества).\n",
        "\n",
        "Заметим, что нельзя оценивать качество по тестовой выборке, иначе мы можем переобучиться, как, например, при настройке гиперпараметров. Разделите обучающую выборку на 2 части, на одной из них обучайте модель без одного из признаков,  на второй части оценивайте качество. Исходную тестовую выборку стоит использовать только для финальной оценки качества.\n",
        "\n",
        "Снова оставьте только 40 признаков и оцените качество на тестовой выборке. Сколько времени занял такой отбор признаков?"
      ]
    },
    {
      "cell_type": "code",
      "metadata": {
        "id": "Y5TxyRFevHLU"
      },
      "source": [
        "X_train, X_val, y_train, y_val = train_test_split(X_train, y_train, test_size=0.5, random_state=777, stratify=y_train)\n",
        "\n",
        "column_transformer = ColumnTransformer([\n",
        "    ('ohe', OneHotEncoder(handle_unknown=\"ignore\"), cat),\n",
        "    ('scaling', StandardScaler(), num)\n",
        "])\n",
        "\n",
        "X_train = column_transformer.fit_transform(X_train)\n",
        "X_val = column_transformer.transform(X_val)\n",
        "\n",
        "X_test = column_transformer.transform(X_test)\n",
        "feats = [i for i in range(X_train.shape[1])]\n",
        "pipeline = Pipeline(steps=[\n",
        "            ('regression', LogisticRegression(max_iter=200000))\n",
        "        ])\n",
        "\n",
        "start_time = time.time()\n",
        "\n",
        "# остановимся, когда останется только 40 признаков\n",
        "while len(feats) != 40:\n",
        "  cv = np.zeros(len(t))\n",
        "  for i in range(len(t)):\n",
        "    cur_feats = feats[:i] + feats[(i + 1):]  # выбросили i-й признак\n",
        "    model = pipeline.fit(X_train[:, cur_feats], y_train)\n",
        "    y_pred = model.decision_function(X_val[:, cur_feats])\n",
        "    cv[i] = average_precision_score(y_val, y_pred)\n",
        "  cv_best_ind = cv.argmax()  # выкинули i-й признак и получили максимальный AUC-PR => надо его выкинуть\n",
        "  feats.remove(cv_best_ind)\n",
        "\n",
        "end_time = time.time() - start_time"
      ],
      "execution_count": 177,
      "outputs": []
    },
    {
      "cell_type": "code",
      "metadata": {
        "colab": {
          "base_uri": "https://localhost:8080/"
        },
        "id": "FOUQtdIt3RGk",
        "outputId": "b90b2185-c4c6-4cec-82b0-fabac7858600"
      },
      "source": [
        "model = pipeline.fit(X_train[:, feats], y_train)\n",
        "y_pred = model.decision_function(X_test[:, cv_best])\n",
        "print(\"AUC-PR:\", average_precision_score(y_test, y_pred))"
      ],
      "execution_count": 179,
      "outputs": [
        {
          "output_type": "stream",
          "name": "stdout",
          "text": [
            "Время отбора признаков: 859.0256550312042\n",
            "AUC-PR: 0.45264\n"
          ]
        }
      ]
    },
    {
      "cell_type": "markdown",
      "metadata": {
        "id": "hHrZSzjFzwyy"
      },
      "source": [
        "Стоит отметить, что с помощью такого метода можно пойти и в обратную сторону. Попробуйте _добавлять_ по одному самому полезному признаку в выборку до тех пор, пока не наберется 40 штук. Найдется ли порог, при котором добавление следующих признаков будет только ухудшать качество модели?"
      ]
    },
    {
      "cell_type": "code",
      "metadata": {
        "id": "064BQzGM1Kvj"
      },
      "source": [
        "X_train, X_val, y_train, y_val = train_test_split(X_train, y_train, test_size=0.5, random_state=777, stratify=y_train)\n",
        "\n",
        "column_transformer = ColumnTransformer([\n",
        "    ('ohe', OneHotEncoder(handle_unknown=\"ignore\"), cat),\n",
        "    ('scaling', StandardScaler(), num)\n",
        "])\n",
        "\n",
        "X_train = column_transformer.fit_transform(X_train)\n",
        "X_val = column_transformer.transform(X_val)\n",
        "\n",
        "X_test = column_transformer.transform(X_test)\n",
        "feats = []\n",
        "all_feats = [i for i in range(X_train.shape[1])]\n",
        "pipeline = Pipeline(steps=[\n",
        "            ('regression', LogisticRegression(max_iter=200000))\n",
        "        ])\n",
        "last_PR = 0\n",
        "start_time = time.time()\n",
        "\n",
        "# остановимся, когда будет уже 40 признаков\n",
        "while len(feats) != 40:\n",
        "  cur_feat = feats[:]\n",
        "  cv = np.zeros(X_train.shape[1])\n",
        "  for feat in all_feats:\n",
        "    cur_feat.append(feat)\n",
        "    model = pipeline.fit(X_train[:, cur_feats], y_train)\n",
        "    y_pred = model.decision_function(X_val[:, cur_feats])\n",
        "    cv[feat] = average_precision_score(y_val, y_pred)\n",
        "  best_cv_ind = cv.argmax()\n",
        "  all_feats.remove(best_cv_ind)  # чтобы больше не выбирать среди этих признаков\n",
        "  feats.append(best_cv_ind)\n",
        "  if cv[best_cv_ind] < last_PR:\n",
        "    break\n",
        "  last_PR = cv[best_cv_ind]\n",
        "end_time = time.time() - start_time"
      ],
      "execution_count": 190,
      "outputs": []
    },
    {
      "cell_type": "code",
      "metadata": {
        "colab": {
          "base_uri": "https://localhost:8080/"
        },
        "id": "4bTD0Asy_IFJ",
        "outputId": "431372ed-6f9e-4a1e-ec5b-d0052c852820"
      },
      "source": [
        "print(\"Время отбора признаков:\", end_time)\n",
        "model = pipeline.fit(X_train[:, feats], y_train)\n",
        "y_pred = model.decision_function(X_test[:, cv_best])\n",
        "print(\"AUC-PR:\", average_precision_score(y_test, y_pred))"
      ],
      "execution_count": 193,
      "outputs": [
        {
          "output_type": "stream",
          "name": "stdout",
          "text": [
            "Время отбора признаков: 770.2013561725616\n",
            "AUC-PR: 0.44958\n"
          ]
        }
      ]
    },
    {
      "cell_type": "code",
      "metadata": {
        "colab": {
          "base_uri": "https://localhost:8080/"
        },
        "id": "4c9JGLTm-w8_",
        "outputId": "e0e13cf1-d393-4882-9d19-71439e867f49"
      },
      "source": [
        "print(len(feats))  # получается, что может найтись при дальнейшем добавлении признаков"
      ],
      "execution_count": 192,
      "outputs": [
        {
          "output_type": "stream",
          "name": "stdout",
          "text": [
            "40\n"
          ]
        }
      ]
    },
    {
      "cell_type": "markdown",
      "metadata": {
        "id": "4ta6ReXfzwyy"
      },
      "source": [
        "Давайте подведём итоги по отбору признаков. Назовите преимущества и недостатки каждого из методов. Какой метод привёл к наилучшему качеству?\n",
        "\n",
        "**Ответ:** Методы-обертки --- очень долгий отбор признаков, хотя улучшение и есть (но не такое, что хочется его так долго ждать). Отбор сорока признаков по отнормированному --- повышает качество, не так долго ждать отбор. Фильтрация с t-статистикой: высокое качество, не слишком долгое ожидание отбора признаков.\n",
        "\n",
        "В первой вариации метода-обертки получили лучшее качество (незначительно лучшее фильтрации с t-статистикой, работающей значительно быстрее)."
      ]
    },
    {
      "cell_type": "markdown",
      "metadata": {
        "id": "QaTGvtcEzwyz"
      },
      "source": [
        "# Часть 3. Оценка экономического эффекта модели\n",
        "\n",
        "В данной части мы займемся тем, что от вас скорее всего потребуется на реальной работе (помимо перекладки `json`, разумеется). А именно: мы соберем несколько специализированных метрик качества, попытаемся настроить модель на максимизацию _прибыли_ и оценим, сколько вообще получится заработать на этом. Разумеется, здесь будет сделано множество упрощающих жизнь допущений, но обо всем по порядку. \n",
        "\n",
        "__Задание 11 (1 балл).__ Допустим, работники вашего колл-центра получают за один звонок клиенту 1 доллар. При согласии клиента на предлагаемые условия он принесет в банк 10 долларов.\n",
        "\n",
        "Если вы всё прослушали на экономике, то напомним, что выручка — это сколько денег нам принесли клиенты, а прибыль — выручка за вычетом расходов на зарплату и прочее.\n",
        "\n",
        "Загрузите данные о телемаркетинге из предыдущего блока заданий. В этой части не нужно делить выборку - мы будем использовать кросс-валидацию. Используйте 5 фолдов, сделайте `shuffle=True, random_state=500`. По кросс-валидации у вас получится 5 вариантов обучающей и тестовой выборки. Обучите логистическую регрессию на каждой обучающей выборке (воспользуйтесь one-hot для категориальных признаков, гиперпараметры оставьте со значениями по умолчанию) и сделайте предсказания для соответствующих тестовых выборок. Допустим, всем положительным прогнозам ваши сотрудники решили позвонить. Посчитайте на всех тестовых выборках выручку и усредните. Сколько денег вы в среднем заработаете? Также вычислите стандартное отклонение.\n",
        "\n",
        "Сколько из заработанных денег придётся отдать операторам вашего колл-центра?"
      ]
    },
    {
      "cell_type": "code",
      "metadata": {
        "id": "kcrHJRvjzwyz",
        "colab": {
          "base_uri": "https://localhost:8080/"
        },
        "outputId": "d59008cd-6743-45f9-e01e-3b111347fedb"
      },
      "source": [
        "from sklearn.model_selection import cross_val_score\n",
        "from sklearn.model_selection import KFold\n",
        "\n",
        "# df не успели испортить, так что заново загружать не будем\n",
        "target = df[\"y\"].apply(lambda y: 0 if y == \"no\" else 1)\n",
        "X_feat = df.drop(columns=[\"y\", \"duration\"])\n",
        "cat = [\"job\", \"marital\", \"education\", \"default\", \"housing\", \"loan\", \"contact\", \"month\", \"day_of_week\", \"poutcome\"]\n",
        "num = X_feat.columns[~X_feat.columns.isin(cat)]\n",
        "\n",
        "column_transformer = ColumnTransformer([\n",
        "    ('ohe', OneHotEncoder(handle_unknown=\"ignore\"), cat),\n",
        "    ('scaler', StandardScaler(), num)\n",
        "])\n",
        "pipeline = Pipeline(steps=[\n",
        "            ('ohe + scaler', column_transformer),\n",
        "            ('regression', LogisticRegression(max_iter=200000))\n",
        "])\n",
        "\n",
        "income = []\n",
        "profit = []\n",
        "kf = KFold(n_splits=5, shuffle=True, random_state=500)\n",
        "\n",
        "for train_index, test_index in kf.split(X_feat):\n",
        "    X_train, X_test = X_feat.loc[train_index, :], X_feat.loc[test_index, :]\n",
        "    y_train, y_test = target[train_index], target[test_index]\n",
        "\n",
        "    model = pipeline.fit(X_train, y_train)\n",
        "    y_pred = model.predict(X_test)\n",
        "\n",
        "    # получим 10$ от тех, кому мы позвоним и кто правда согласится, \n",
        "    # т.е. для кого одновременно и в тесте, и в предсказании true\n",
        "    inc = 10 * (y_pred & y_test).sum()\n",
        "    income.append(inc)\n",
        "    # отдаем с каждого, кому позвонили, по 1$, т.е. всего сколько true в y_pred\n",
        "    profit.append(inc - y_pred.sum())\n",
        "    print(\"Выручка на валидации:\", inc)\n",
        "\n",
        "print(\"Выручка (среднее по валидации):\", np.mean(income))\n",
        "print(\"Прибыль (среднее по валидации):\", np.mean(profit))\n",
        "print(\"В среднем заработаем:\", np.mean(income) - np.mean(profit))\n",
        "print(\"Стандартное отклонение прибыли:\", np.std(profit))"
      ],
      "execution_count": 195,
      "outputs": [
        {
          "output_type": "stream",
          "name": "stdout",
          "text": [
            "Выручка на валидации 2240\n",
            "Выручка на валидации 2110\n",
            "Выручка на валидации 2090\n",
            "Выручка на валидации 2250\n",
            "Выручка на валидации 1960\n",
            "Выручка (среднее по валидации): 2130.0\n",
            "Прибыль (среднее по валидации): 1805.8\n",
            "В среднем заработаем: 324.20000000000005\n",
            "Стандартное отклонение прибыли 108.67640038205167\n"
          ]
        }
      ]
    },
    {
      "cell_type": "markdown",
      "metadata": {
        "id": "KnwZXJV-zwyz"
      },
      "source": [
        "Внесем некоторую долю случайности. Пусть теперь согласный на условия клиент будет приносить не 10 долларов, а случайную величину, равномерно распределенную в интервале $[0;20)$. Проделайте все те же самые действия. Для имитации реальной ситуации **НЕ** фиксируйте `random_seed` при подсчете выручки с клиента. Что получилось?"
      ]
    },
    {
      "cell_type": "code",
      "metadata": {
        "id": "bEFcw_bozwyz",
        "colab": {
          "base_uri": "https://localhost:8080/"
        },
        "outputId": "c228aa8a-992a-4b78-806a-220c08114c69"
      },
      "source": [
        "income = []\n",
        "profit = []\n",
        "kf = KFold(n_splits=5, shuffle=True, random_state=500)\n",
        "\n",
        "for train_index, test_index in kf.split(X_feat):\n",
        "    X_train, X_test = X_feat.loc[train_index, :], X_feat.loc[test_index, :]\n",
        "    y_train, y_test = target[train_index], target[test_index]\n",
        "    model = pipeline.fit(X_train, y_train)\n",
        "    y_pred = model.predict(X_test)\n",
        "    inc = (np.random.uniform(0, 20, len(y_pred)) * (y_pred & y_test)).sum()\n",
        "    income.append(inc)\n",
        "    profit.append(inc - y_pred.sum())\n",
        "    print(\"Выручка на валидации:\", inc)\n",
        "\n",
        "print(\"Выручка (среднее по валидации):\", np.mean(income))\n",
        "print(\"Прибыль (среднее по валидации):\", np.mean(profit))\n",
        "print(\"В среднем заработаем:\", np.mean(income) - np.mean(profit))\n",
        "print(\"Стандартное отклонение прибыли\", np.std(profit))"
      ],
      "execution_count": 204,
      "outputs": [
        {
          "output_type": "stream",
          "name": "stdout",
          "text": [
            "Выручка на валидации: 2340.3711220983178\n",
            "Выручка на валидации: 2012.366389696797\n",
            "Выручка на валидации: 2091.1148901220076\n",
            "Выручка на валидации: 2304.9188449078943\n",
            "Выручка на валидации: 2024.1462414995424\n",
            "Выручка (среднее по валидации): 2154.5834976649116\n",
            "Прибыль (среднее по валидации): 1830.3834976649116\n",
            "В среднем заработаем: 324.20000000000005\n",
            "Стандартное отклонение прибыли 144.07084377335744\n"
          ]
        }
      ]
    },
    {
      "cell_type": "markdown",
      "metadata": {
        "id": "DL-T8dH0Djjx"
      },
      "source": [
        "На этом запуске получили выручки и прибыли чуть больше. Стандартное отклонение прибыли увеличилось. А вот средний заработок остался таким же!"
      ]
    },
    {
      "cell_type": "markdown",
      "metadata": {
        "id": "jaU-HoURzwyz"
      },
      "source": [
        "Настройте по кросс-валидации коэффициент регуляризации модели для максимизации прибыли (считайте как случайную величину выше). Удалось ли получить какой-то выигрыш? При каком коэффициенте регуляризациии прибыль максимальна? Постройте график зависимости ожидаемой прибыли от коэффициента, также укажите стандартные отклонения (вам поможет `plt.errorbar`)."
      ]
    },
    {
      "cell_type": "code",
      "metadata": {
        "id": "J4ozC_ebFPzQ"
      },
      "source": [
        "# создадим функцию, которую будем максимизировать\n",
        "\n",
        "def profit(y_test, y_pred):\n",
        "  inc = (np.random.uniform(0, 20, len(y_pred)) * (y_pred & y_test)).sum()\n",
        "  return inc - y_pred.sum()"
      ],
      "execution_count": 206,
      "outputs": []
    },
    {
      "cell_type": "code",
      "metadata": {
        "colab": {
          "base_uri": "https://localhost:8080/"
        },
        "id": "IUM-VqrnE75n",
        "outputId": "42d76ba3-c2d3-4656-a295-257376f9516f"
      },
      "source": [
        "from sklearn.linear_model import LogisticRegression\n",
        "from sklearn.metrics import make_scorer\n",
        "\n",
        "С = np.logspace(-3, 2, 20)\n",
        "searcher = GridSearchCV(LogisticRegression(max_iter=200000), param_grid={'C': С}, cv=kf, \n",
        "                        scoring=make_scorer(profit), n_jobs=-1)\n",
        "\n",
        "column_transformer = ColumnTransformer([\n",
        "    ('ohe', OneHotEncoder(handle_unknown=\"ignore\"), cat),\n",
        "    ('scaling', StandardScaler(), num)\n",
        "])\n",
        "\n",
        "pipeline = Pipeline(steps=[\n",
        "            ('ohe + scaling', column_transformer),\n",
        "            ('regression', searcher)\n",
        "        ])\n",
        "\n",
        "model = pipeline.fit(X_feat, target)\n",
        "best_С = searcher.best_params_['C']\n",
        "print(\"Best С = %.4f\" % best_С)\n",
        "print(\"Лучшая выручка (среднее по валидации):\", searcher.best_score_)"
      ],
      "execution_count": 208,
      "outputs": [
        {
          "output_type": "stream",
          "name": "stdout",
          "text": [
            "Best С = 0.2336\n",
            "Лучшая выручка (среднее по валидации) 1848.7971453667335\n"
          ]
        }
      ]
    },
    {
      "cell_type": "code",
      "metadata": {
        "colab": {
          "base_uri": "https://localhost:8080/",
          "height": 299
        },
        "id": "Zr9N4DgzE_xa",
        "outputId": "d93f87f5-e558-4338-b273-ab845edae25f"
      },
      "source": [
        "STD = searcher.cv_results_['std_test_score']\n",
        "profit = searcher.cv_results_['mean_test_score']\n",
        "\n",
        "plt.errorbar(np.logspace(-3, 2, 20), profit, yerr=STD)\n",
        "plt.title(\"Зависимость ожидаемой прибыли от коэффициента\")\n",
        "plt.xscale(\"log\")\n",
        "plt.xlabel(\"Коэффициент\")\n",
        "plt.ylabel(\"Прибыль\")\n",
        "plt.show()"
      ],
      "execution_count": 218,
      "outputs": [
        {
          "output_type": "display_data",
          "data": {
            "image/png": "[encoded data removed]",
            "text/plain": [
              "<Figure size 432x288 with 1 Axes>"
            ]
          },
          "metadata": {
            "needs_background": "light"
          }
        }
      ]
    },
    {
      "cell_type": "markdown",
      "metadata": {
        "id": "u6II4g_Kzwyz"
      },
      "source": [
        "Попробуйте запустить перебор несколько раз. Находится ли каждый раз один и тот же \"лучший\" коэффициент? Присутствует ли какая-то закономерность? Какие вы можете сделать из этого выводы?"
      ]
    },
    {
      "cell_type": "code",
      "metadata": {
        "id": "SGdYiLVEzwyz",
        "colab": {
          "base_uri": "https://localhost:8080/"
        },
        "outputId": "5babcadb-3221-4bc4-c5f5-a1676bd262d0"
      },
      "source": [
        "for i in range(5):\n",
        "    model = pipeline.fit(X_feat, target)\n",
        "    best_C = searcher.best_params_['C']\n",
        "    print(\"Best C = %.4f\" % best_C)\n",
        "    print(\"Лучшая выручка (среднее по валидации):\", searcher.best_score_)"
      ],
      "execution_count": 220,
      "outputs": [
        {
          "output_type": "stream",
          "name": "stdout",
          "text": [
            "Best C = 8.8587\n",
            "Лучшая выручка (среднее по валидации): 1884.706816896313\n",
            "Best C = 1.4384\n",
            "Лучшая выручка (среднее по валидации): 1854.7209052638427\n",
            "Best C = 1.4384\n",
            "Лучшая выручка (среднее по валидации): 1859.0550115019462\n",
            "Best C = 1.4384\n",
            "Лучшая выручка (среднее по валидации): 1901.690286053501\n",
            "Best C = 0.2336\n",
            "Лучшая выручка (среднее по валидации): 1870.3400399172647\n"
          ]
        }
      ]
    },
    {
      "cell_type": "markdown",
      "metadata": {
        "id": "MTED72k8Gg1m"
      },
      "source": [
        "Закономерность неуловима, поэтому С можно не подбирать, а оставлять по умолчанию."
      ]
    },
    {
      "cell_type": "markdown",
      "metadata": {
        "id": "8buoziGfzwyz"
      },
      "source": [
        "__Задание 12 (1 балл).__ Выше мы уже описали примерную экономическую модель вашей задачи. Как вы считаете, что для вашего бизнеса важнее — хороший precision или recall модели? Почему?\n",
        "\n",
        "__Ответ:__ Клиенты, которые соглашаются на условия, приносят в десять раз больше прибыли, чем стоит звонок. Поэтому, если мы позвоним одному нужному клиенту и даже девяти ненужным, то мы ничего не потеряем (уйдем в нуль). Поэтому нам выгодно позвонить как можно большему числу клиентов, которые согласятся, хоть и совершить ошибки (в меру разумного), чем позвонить только тем, кто согласится, но в маленьком количестве. Звонки тем, кто откажется от наших условий, нам не так дорого обходятся. Поэтому важнее хороший recall."
      ]
    },
    {
      "cell_type": "markdown",
      "metadata": {
        "id": "R0D5L4tFzwy0"
      },
      "source": [
        "Вспомним, что на самом деле логистическая регрессия предсказывает нам вероятности положительного класса для объекта. Возможно, путем настройки порога бинаризации этих вероятностей мы сможем получить какой-то выигрыш? Проверьте ваши рассуждения выше с помощью настройки порога бинаризации на кросс-валидации для максимизации прибыли. Воспользуйтесь сеткой от 0 до 1 с шагом 0.01. Напомним, что снижение порога дает нам более высокий recall и более низкий precision, и наоборот."
      ]
    },
    {
      "cell_type": "code",
      "metadata": {
        "id": "5AP1zPEGzwy0"
      },
      "source": [
        "column_transformer = ColumnTransformer([\n",
        "    ('ohe', OneHotEncoder(handle_unknown=\"ignore\"), cat),\n",
        "    ('scaler', StandardScaler(), num)\n",
        "])\n",
        "pipeline = Pipeline(steps=[\n",
        "            ('ohe + scaler', column_transformer),\n",
        "            ('regression', LogisticRegression(max_iter=1000))\n",
        "])\n",
        "\n",
        "# для валидации\n",
        "income = [[]] * 5\n",
        "profit = [[]] * 5\n",
        "thresholds = [i / 100 for i in range(100)]\n",
        "\n",
        "# для порогов\n",
        "for i in range(5):\n",
        "    income[i] = [0] * 100\n",
        "    profit[i] = [0] * 100\n",
        "\n",
        "kf = KFold(n_splits=5, shuffle=True, random_state=500)\n",
        "k = 0  # счетчик для разбиений\n",
        "\n",
        "for train_index, test_index in kf.split(X_feat):\n",
        "    # разбиваем на трейн и тест в валидаци\n",
        "    X_train, X_test = X_feat.loc[train_index, :], X_feat.loc[test_index, :]\n",
        "    y_train, y_test = target[train_index], target[test_index]\n",
        "    model = pipeline.fit(X_train, y_train)\n",
        "\n",
        "    t = 0  # для номера порога\n",
        "    # перебираем пороги\n",
        "    for threshold in thresholds:\n",
        "        y_pred = np.where(model.predict_proba(X_test)[:, 1] > threshold, 1, 0)\n",
        "        income[k][t] = (np.random.uniform(0, 20, len(y_pred)) * (y_pred & y_test)).sum()\n",
        "        profit[k][t] = (income[k][t] - y_pred.sum())\n",
        "        t += 1\n",
        "    k += 1"
      ],
      "execution_count": 221,
      "outputs": []
    },
    {
      "cell_type": "markdown",
      "metadata": {
        "id": "layKcH9fzwy0"
      },
      "source": [
        "Постройте график зависимости прибыли от порога бинаризации, также отметьте на нем стандартные отклонения. Выделите наилучший порог. \n",
        "\n",
        "\n",
        "__Вопрос:__ Замечаете ли вы какую-то закономерность? Для правильного ответа на этот вопрос попробуйте запустить несколько раз и задумайтесь, почему порог получается в какой-то конкретной области?\n",
        "\n",
        "__Ответ__: До порога 0.2 прибыль растет, а после --- уменьшается. Это соответствует нашему утверждению, что нам важнее высокий recall (как сказано в напоминании, для этого нам нужны меньшие пороги)."
      ]
    },
    {
      "cell_type": "code",
      "metadata": {
        "colab": {
          "base_uri": "https://localhost:8080/"
        },
        "id": "l57woP95OD5o",
        "outputId": "8dde16e0-c40b-4f84-a039-5cc3332cc2d5"
      },
      "source": [
        "best_threshold = thresholds[profit.index(max(profit))]\n",
        "print(\"Лучший порог:\", best_threshold)"
      ],
      "execution_count": 231,
      "outputs": [
        {
          "output_type": "stream",
          "name": "stdout",
          "text": [
            "Лучший порог: 0.04\n"
          ]
        }
      ]
    },
    {
      "cell_type": "code",
      "metadata": {
        "id": "_JTJJnv9zwy0",
        "colab": {
          "base_uri": "https://localhost:8080/",
          "height": 295
        },
        "outputId": "3735d3d9-a593-4fb9-ad68-131451efa1fa"
      },
      "source": [
        "mean_profit = np.mean(profit, axis=0)\n",
        "std = np.std(profit, axis=0)\n",
        "\n",
        "plt.errorbar(thresholds, mean_profit, yerr=std)\n",
        "plt.axvline(x=best_threshold, color='r')\n",
        "plt.legend(['Лучший порог'])\n",
        "plt.title(\"Зависимость прибыли от порога бинаризации\")\n",
        "plt.xlabel(\"Порог\")\n",
        "plt.ylabel(\"Средняя прибыль\")\n",
        "plt.show()"
      ],
      "execution_count": 235,
      "outputs": [
        {
          "output_type": "display_data",
          "data": {
            "image/png": "[encoded data removed]",
            "text/plain": [
              "<Figure size 432x288 with 1 Axes>"
            ]
          },
          "metadata": {
            "needs_background": "light"
          }
        }
      ]
    },
    {
      "cell_type": "markdown",
      "metadata": {
        "id": "lomfsT4vzwy0"
      },
      "source": [
        "Каковы значения precision и recall на выбранном пороге? Оцените по кросс-валидации. Также вычислите стандартное отклонение."
      ]
    },
    {
      "cell_type": "code",
      "metadata": {
        "id": "d1XpSRoGzwy0",
        "colab": {
          "base_uri": "https://localhost:8080/"
        },
        "outputId": "eb38308a-9d1d-4ab5-efd9-7c7e18504dd2"
      },
      "source": [
        "from sklearn.metrics import precision_score\n",
        "from sklearn.metrics import recall_score\n",
        "\n",
        "precision = []\n",
        "recall = []\n",
        "\n",
        "for train_index, test_index in kf.split(X_feat):\n",
        "    X_train, X_test = X_feat.loc[train_index, :], X_feat.loc[test_index, :]\n",
        "    y_train, y_test = target[train_index], target[test_index]\n",
        "\n",
        "    model = pipeline.fit(X_train, y_train)\n",
        "    y_pred = np.where(model.predict_proba(X_test)[:, 1] > best_threshold, 1, 0)\n",
        "    precision.append(precision_score(y_test, y_pred))\n",
        "    recall.append(recall_score(y_test, y_pred))\n",
        "\n",
        "print(\"Precision:\", np.mean(precision))\n",
        "print(\"Стандартное отклонение precision:\", np.std(precision))\n",
        "print(\"Recall:\", np.mean(recall))\n",
        "print(\"Стандартное отклонение recall:\", np.std(recall))"
      ],
      "execution_count": 236,
      "outputs": [
        {
          "output_type": "stream",
          "name": "stdout",
          "text": [
            "Precision: 0.13904306186073337\n",
            "Стандартное отклонение precision: 0.004925954777496425\n",
            "Recall: 0.9203482219201238\n",
            "Стандартное отклонение recall: 0.012265441221981555\n"
          ]
        }
      ]
    },
    {
      "cell_type": "markdown",
      "metadata": {
        "id": "hKe63gj1zwy0"
      },
      "source": [
        "Как вы, вероятно, уже поняли, ваша модель склоняется к более высокому recall. Попробуйте оценить качество модели с помощью `PR-AUC` в зоне recall $\\geq$ 0.5. Сделайте это следующим образом - выберите только те пороги, на которых достигается необходимый recall, затем интерпретируйте отсеченный в единичном квадрате прямоугольник как новый единичный квадрат и посчитайте площадь под отсеченной кривой. "
      ]
    },
    {
      "cell_type": "code",
      "metadata": {
        "id": "E2DK_dg1zwy0",
        "colab": {
          "base_uri": "https://localhost:8080/"
        },
        "outputId": "7f17bb7a-7271-48ac-d926-b23e183a0846"
      },
      "source": [
        "import warnings\n",
        "warnings.filterwarnings(\"ignore\")\n",
        "\n",
        "precision = [[]] * 5\n",
        "recall = [[]] * 5\n",
        "thresholds = [i / 100 for i in range(100)]\n",
        "\n",
        "for cv in range(5):\n",
        "    precision[cv] = [0] * 100\n",
        "    recall[cv] = [0] * 100\n",
        "\n",
        "kf = KFold(n_splits=5, shuffle=True, random_state=500)\n",
        "k = 0\n",
        "\n",
        "for train_index, test_index in kf.split(X_feat):\n",
        "    # трейн и тест на кросс-валидации\n",
        "    X_train, X_test = X_feat.loc[train_index, :], X_feat.loc[test_index, :]\n",
        "    y_train, y_test = target[train_index], target[test_index]\n",
        "    model = pipeline.fit(X_train, y_train)\n",
        "\n",
        "    # перебираем пороги\n",
        "    t = 0\n",
        "    for threshold in thresholds:\n",
        "        y_pred = np.where(model.predict_proba(X_test)[:, 1] > threshold, 1, 0)\n",
        "        precision[k][t] = precision_score(y_test, y_pred)\n",
        "        recall[k][t] = recall_score(y_test, y_pred)\n",
        "        t += 1\n",
        "    k += 1\n",
        "\n",
        "precision_mean = np.mean(precision, axis=0)\n",
        "recall_mean = np.mean(recall, axis=0)\n",
        "\n",
        "# теперь в зоне precision >= 0.5\n",
        "precision_5 = []\n",
        "recall_5 = []\n",
        "\n",
        "for i in range(100):\n",
        "    if recall_mean[i] >= 0.5:\n",
        "      precision_5.append(precision_mean[i])\n",
        "      recall_5.append(recall_mean[i])\n",
        "\n",
        "diff_precision = np.max(precision_5) - np.min(precision_5)\n",
        "diff_recall = np.max(recall_5) - np.min(recall_5)\n",
        "\n",
        "precision_ = (precision_5 - np.min(precision_5)) / diff_precision\n",
        "recall_ = (recall_5 - np.min(recall_5)) / diff_recall\n",
        "print(\"PR-AUC:\", auc(recall_, precision_))"
      ],
      "execution_count": 238,
      "outputs": [
        {
          "output_type": "stream",
          "name": "stdout",
          "text": [
            "PR-AUC: 0.39986240078872226\n"
          ]
        }
      ]
    }
  ]
}