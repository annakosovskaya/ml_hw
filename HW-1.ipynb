{
 "cells": [
  {
   "cell_type": "markdown",
   "metadata": {
    "id": "HcF9My_FhLuk"
   },
   "source": [
    "## Машинное обучение 1, ПМИ ФКН ВШЭ\n",
    "\n",
    "## Практическое домашнее задание 1\n",
    "\n",
    "### Общая информация\n",
    "\n",
    "Дата выдачи: 11.09.2021\n",
    "\n",
    "Мягкий дедлайн: 23:59MSK 25.09.2021\n",
    "\n",
    "Жесткий дедлайн: 23:59MSK 28.09.2021"
   ]
  },
  {
   "cell_type": "markdown",
   "metadata": {
    "id": "G64TptyJhLuo"
   },
   "source": [
    "### О задании\n",
    "\n",
    "Задание состоит из двух разделов, посвященных работе с табличными данными с помощью библиотеки pandas и визуализации с помощью matplotlib. В первом разделе вам предстоит выполнить базовые задания с помощью вышеуказанных библиотек, а во втором распределить студентов по курсам. Баллы даются за выполнение отдельных пунктов. Задачи в рамках одного раздела рекомендуется решать в том порядке, в котором они даны в задании.\n",
    "\n",
    "Задание направлено на освоение jupyter notebook (будет использоваться в дальнейших заданиях), библиотек pandas и matplotlib.\n",
    "\n",
    "### Оценивание и штрафы\n",
    "Каждая из задач имеет определенную «стоимость» (указана в скобках около задачи). Максимально допустимая оценка за работу — 10 баллов.\n",
    "\n",
    "Сдавать задание после жёсткого дедлайна нельзя. При выставлении неполного балла за задание в связи с наличием ошибок на усмотрение проверяющего предусмотрена возможность исправить работу на указанных в ответном письме условиях.\n",
    "\n",
    "Задание выполняется самостоятельно. «Похожие» решения считаются плагиатом и все задействованные студенты (в том числе те, у кого списали) не могут получить за него больше 0 баллов (подробнее о плагиате см. на странице курса). Если вы нашли решение какого-то из заданий (или его часть) в открытом источнике, необходимо указать ссылку на этот источник (скорее всего вы будете не единственным, кто это нашел, поэтому чтобы исключить подозрение в плагиате, необходима ссылка на источник).\n",
    "\n",
    "### Формат сдачи\n",
    "Задания сдаются через систему Anytask. Инвайт можно получить у семинариста или ассистента. Присылать необходимо ноутбук с выполненным заданием. Сам ноутбук называйте в формате homework-practice-01-pandas-Username.ipynb, где Username — ваша фамилия.\n",
    "\n",
    "Для удобства проверки самостоятельно посчитайте свою максимальную оценку (исходя из набора решенных задач) и укажите ниже.\n",
    "\n",
    "Оценка: 10."
   ]
  },
  {
   "cell_type": "markdown",
   "metadata": {
    "id": "BaXlfHE_hLup"
   },
   "source": [
    "## 0. Введение"
   ]
  },
  {
   "cell_type": "markdown",
   "metadata": {
    "id": "wirAvJNxhLup"
   },
   "source": [
    "Сейчас мы находимся в jupyter-ноутбуке (или ipython-ноутбуке). Это удобная среда для написания кода, проведения экспериментов, изучения данных, построения визуализаций и других нужд, не связанных с написанием production-кода. \n",
    "\n",
    "Ноутбук состоит из ячеек, каждая из которых может быть либо ячейкой с кодом, либо ячейкой с текстом размеченным и неразмеченным. Текст поддерживает markdown-разметку и формулы в Latex.\n",
    "\n",
    "Для работы с содержимым ячейки используется *режим редактирования* (*Edit mode*, включается нажатием клавиши **Enter** после выбора ячейки), а для навигации между ячейками искользуется *командный режим* (*Command mode*, включается нажатием клавиши **Esc**). Тип ячейки можно задать в командном режиме либо с помощью горячих клавиш (**y** to code, **m** to markdown, **r** to edit raw text), либо в меню *Cell -> Cell type*. \n",
    "\n",
    "После заполнения ячейки нужно нажать *Shift + Enter*, эта команда обработает содержимое ячейки: проинтерпретирует код или сверстает размеченный текст."
   ]
  },
  {
   "cell_type": "code",
   "execution_count": 1,
   "metadata": {
    "id": "aQ2_j3nkhLuq"
   },
   "outputs": [
    {
     "data": {
      "text/plain": [
       "4"
      ]
     },
     "execution_count": 1,
     "metadata": {},
     "output_type": "execute_result"
    }
   ],
   "source": [
    "# ячейка с кодом, при выполнении которой появится output\n",
    "2 + 2"
   ]
  },
  {
   "cell_type": "markdown",
   "metadata": {
    "id": "ZlulCwVKhLur"
   },
   "source": [
    "Ячейка с неразмеченыным текстом."
   ]
  },
  {
   "cell_type": "markdown",
   "metadata": {
    "id": "A4wkVlIehLur"
   },
   "source": [
    "Попробуйте создать свои ячейки, написать какой-нибудь код и текст какой-нибудь формулой."
   ]
  },
  {
   "cell_type": "code",
   "execution_count": 2,
   "metadata": {
    "id": "BIuaYSvqhLus"
   },
   "outputs": [
    {
     "name": "stdout",
     "output_type": "stream",
     "text": [
      "my code\n"
     ]
    }
   ],
   "source": [
    "print(\"my code\")"
   ]
  },
  {
   "cell_type": "markdown",
   "metadata": {
    "id": "iWs6ljrIhLus"
   },
   "source": [
    "[Здесь](https://athena.brynmawr.edu/jupyter/hub/dblank/public/Jupyter%20Notebook%20Users%20Manual.ipynb) находится <s>не</s>большая заметка о используемом языке разметки Markdown. Он позволяет:\n",
    "\n",
    "0. Составлять упорядоченные списки\n",
    "1. Выделять *текст* <s>при</s> **необходимости**\n",
    "2. Добавлять [ссылки](http://imgs.xkcd.com/comics/the_universal_label.png)\n",
    "\n",
    "\n",
    "* Составлять неупорядоченные списки\n",
    "\n",
    "Делать вставки с помощью LaTex:\n",
    "    \n",
    "$\n",
    "\\left\\{\n",
    "\\begin{array}{ll}\n",
    "x = 16 \\sin^3 (t) \\\\ \n",
    "y = 13 \\cos (t) - 5 \\cos (2t) - 2 \\cos (3t) - \\cos (4t) \\\\\n",
    "t \\in [0, 2 \\pi]\n",
    "\\end{array}\n",
    "\\right.$"
   ]
  },
  {
   "cell_type": "markdown",
   "metadata": {
    "id": "6fmTGcXOhLus"
   },
   "source": [
    "А ещё можно вставлять картинки, или гифки, или что захотите:\n",
    "\n",
    "<img src=\"https://media1.tenor.com/images/9b8fbe9214504bcf6c60fe4e4f7e114e/tenor.gif?itemid=5416416\" style=\"width: 400px\">"
   ]
  },
  {
   "cell_type": "markdown",
   "metadata": {
    "id": "J_toGw7DhLut"
   },
   "source": [
    "### Google Colab"
   ]
  },
  {
   "cell_type": "markdown",
   "metadata": {
    "id": "jpkbCVjGhLut"
   },
   "source": [
    "Что за колаб? \n",
    "\n",
    "**Google Colab (Colaboratory)** это **Jupyter Notebook + Cloud + Google Drive.**\n",
    "\n",
    "Компания Google предоставляет возможность бесплатно запускать ноутбуки (предварительно загрузив их на свой гугл-диск) прямо в облаке. При этом вам не требуется установка никаких пакетов на свою машину, а работать можно прямиком из браузера. Вот ссылка:"
   ]
  },
  {
   "cell_type": "markdown",
   "metadata": {
    "id": "06MQog3yhLut"
   },
   "source": [
    "https://colab.research.google.com"
   ]
  },
  {
   "cell_type": "markdown",
   "metadata": {
    "id": "5_hfWXKPhLut"
   },
   "source": [
    "При использовании вы увидете много сходств с jupyter ноутбуком. Одним из преимуществ является доступность GPU, соответствующую опцию можно активировать в настройках сервиса. При желании вы сможете найти в интернете много туториалов по использованию или разобраться самостоятельно =)"
   ]
  },
  {
   "cell_type": "markdown",
   "metadata": {
    "id": "sUe2vnFGhLuu"
   },
   "source": [
    "## 1. Табличные данные и Pandas"
   ]
  },
  {
   "cell_type": "markdown",
   "metadata": {
    "id": "DJQzjjqJhLuu"
   },
   "source": [
    "Pandas — удобная библиотека для работы с табличными данными в Python, если данных не слишком много и они помещаются в оперативную память вашего компьютера. Несмотря на неэффективность реализации и некоторые проблемы, библиотека стала стандартом в анализе данных.\n",
    "\n",
    "Основной объект в pandas — это DataFrame, представляющий собой таблицу с именованными колонками различных типов, индексом (может быть многоуровневым). DataFrame можно создавать, считывая таблицу из файла или задавая вручную из других объектов.\n",
    "\n",
    "В этой части потребуется выполнить несколько небольших заданий. Можно пойти двумя путями: сначала изучить материалы, а потом приступить к заданиям, или же разбираться \"по ходу\". Выбирайте сами.\n",
    "\n",
    "Материалы:\n",
    "1. [Pandas за 10 минут из официального руководства](http://pandas.pydata.org/pandas-docs/stable/10min.html)\n",
    "2. [Документация](http://pandas.pydata.org/pandas-docs/stable/index.html) (стоит обращаться, если не понятно, как вызывать конкретный метод)\n",
    "3. [Примеры использования функционала](http://nbviewer.jupyter.org/github/justmarkham/pandas-videos/blob/master/pandas.ipynb)\n",
    "\n",
    "Многие из заданий можно выполнить несколькими способами. Не существуют единственно верного, но попробуйте максимально задействовать арсенал pandas и ориентируйтесь на простоту и понятность вашего кода. Мы не будем подсказывать, что нужно использовать для решения конкретной задачи, попробуйте находить необходимый функционал сами (название метода чаще всего очевидно). В помощь вам документация, поиск и stackoverflow."
   ]
  },
  {
   "cell_type": "code",
   "execution_count": 3,
   "metadata": {
    "id": "26zbFY25hLuv",
    "outputId": "404c22c6-2696-48ab-c71e-7a3ffbc36b18"
   },
   "outputs": [
    {
     "name": "stdout",
     "output_type": "stream",
     "text": [
      "Populating the interactive namespace from numpy and matplotlib\n"
     ]
    }
   ],
   "source": [
    "%pylab inline\n",
    "import pandas as pd"
   ]
  },
  {
   "cell_type": "markdown",
   "metadata": {
    "id": "dneJl9TyhLuv"
   },
   "source": [
    "Скачаем данные:"
   ]
  },
  {
   "cell_type": "markdown",
   "metadata": {
    "id": "5hp7bn_ThLuw"
   },
   "source": [
    "Для пользователей Windows: скачайте файл самостоятельно и поместите его в папку с тетрадкой. Или попробуйте один из следующих вариантов:"
   ]
  },
  {
   "cell_type": "code",
   "execution_count": 6,
   "metadata": {
    "id": "7bHroLGChLuw"
   },
   "outputs": [
    {
     "name": "stdout",
     "output_type": "stream",
     "text": [
      "Collecting wget\n",
      "  Downloading https://files.pythonhosted.org/packages/47/6a/62e288da7bcda82b935ff0c6cfe542970f04e29c756b0e147251b2fb251f/wget-3.2.zip\n",
      "Building wheels for collected packages: wget\n",
      "  Building wheel for wget (setup.py): started\n",
      "  Building wheel for wget (setup.py): finished with status 'done'\n",
      "  Created wheel for wget: filename=wget-3.2-cp37-none-any.whl size=9687 sha256=045a1aa2d740449457b1b1a409a5684330f9f45d4c61ee9df79213b32ee21030\n",
      "  Stored in directory: C:\\Users\\KOTIK\\AppData\\Local\\pip\\Cache\\wheels\\40\\15\\30\\7d8f7cea2902b4db79e3fea550d7d7b85ecb27ef992b618f3f\n",
      "Successfully built wget\n",
      "Installing collected packages: wget\n",
      "Successfully installed wget-3.2\n",
      "100% [..............................................................................] 50735 / 50735"
     ]
    },
    {
     "data": {
      "text/plain": [
       "'end_seminar.xlsx'"
      ]
     },
     "execution_count": 6,
     "metadata": {},
     "output_type": "execute_result"
    }
   ],
   "source": [
    "!pip install wget\n",
    "import wget \n",
    "wget.download('https://dropbox.com/s/f4rm8sjc3v99p0m/_end_seminar.xlsx?dl=1', 'end_seminar.xlsx')"
   ]
  },
  {
   "cell_type": "markdown",
   "metadata": {
    "id": "VFs_6IythLux"
   },
   "source": [
    "##### В первой части задания (до раздела \"Распределение студентов по курсам\") использование циклов запрещается и повлечет за собой снижение оценки. Использование <code>vectorize</code> и  <code>apply</code>, <code>apply_along_axis</code> крайне нежелательно."
   ]
  },
  {
   "cell_type": "markdown",
   "metadata": {
    "id": "shFkfJkohLux"
   },
   "source": [
    "Для каждой задачи из этого раздела вы должны написать код для получения ответа, а также дать текстовый ответ, если он предполагается.\n",
    "\n",
    "На некоторые вопросы вы можете получить путём пристального взгляда на таблицу, но это не будет засчитываться. Вы в любом случае должны получить ответ с помощью кода."
   ]
  },
  {
   "cell_type": "markdown",
   "metadata": {
    "id": "gDD85M7bhLux"
   },
   "source": [
    "#### 1. [0 баллов] Откройте файл с таблицей (не забудьте про её формат). Выведите последние 10 строк.\n",
    "\n",
    "Посмотрите на данные и скажите, что они из себя представляют, сколько в таблице строк, какие столбцы? (на это не надо отвечать, просто подумайте об этом)"
   ]
  },
  {
   "cell_type": "code",
   "execution_count": 1877,
   "metadata": {
    "id": "PKulur3LhLuy"
   },
   "outputs": [],
   "source": [
    "df = pd.read_excel('end_seminar.xlsx')"
   ]
  },
  {
   "cell_type": "code",
   "execution_count": 1233,
   "metadata": {
    "scrolled": true
   },
   "outputs": [
    {
     "data": {
      "text/html": [
       "<div>\n",
       "<style scoped>\n",
       "    .dataframe tbody tr th:only-of-type {\n",
       "        vertical-align: middle;\n",
       "    }\n",
       "\n",
       "    .dataframe tbody tr th {\n",
       "        vertical-align: top;\n",
       "    }\n",
       "\n",
       "    .dataframe thead th {\n",
       "        text-align: right;\n",
       "    }\n",
       "</style>\n",
       "<table border=\"1\" class=\"dataframe\">\n",
       "  <thead>\n",
       "    <tr style=\"text-align: right;\">\n",
       "      <th></th>\n",
       "      <th>timestamp</th>\n",
       "      <th>id</th>\n",
       "      <th>rating</th>\n",
       "      <th>18_group</th>\n",
       "      <th>is_mi</th>\n",
       "      <th>fall_1</th>\n",
       "      <th>fall_2</th>\n",
       "      <th>fall_3</th>\n",
       "      <th>spring_1</th>\n",
       "      <th>spring_2</th>\n",
       "      <th>spring_3</th>\n",
       "      <th>is_first_time</th>\n",
       "      <th>percentile</th>\n",
       "      <th>17_group</th>\n",
       "      <th>blended</th>\n",
       "      <th>is_ml_student</th>\n",
       "    </tr>\n",
       "  </thead>\n",
       "  <tbody>\n",
       "    <tr>\n",
       "      <td>0</td>\n",
       "      <td>2020-05-15 01:12:50.543</td>\n",
       "      <td>93ff79a51cd602f1dd3028ba2c129503</td>\n",
       "      <td>698</td>\n",
       "      <td>181.0</td>\n",
       "      <td>NaN</td>\n",
       "      <td>Язык SQL</td>\n",
       "      <td>Высокопроизводительные вычисления</td>\n",
       "      <td>Матричные вычисления</td>\n",
       "      <td>Дискретная оптимизация</td>\n",
       "      <td>Численные методы</td>\n",
       "      <td>Машинное обучение 2</td>\n",
       "      <td>Да</td>\n",
       "      <td>0.183857</td>\n",
       "      <td>NaN</td>\n",
       "      <td>NaN</td>\n",
       "      <td>NaN</td>\n",
       "    </tr>\n",
       "    <tr>\n",
       "      <td>1</td>\n",
       "      <td>2020-05-15 02:46:48.066</td>\n",
       "      <td>26b01b1c4cd5656bab18d24c548834fb</td>\n",
       "      <td>647</td>\n",
       "      <td>181.0</td>\n",
       "      <td>NaN</td>\n",
       "      <td>Высокопроизводительные вычисления</td>\n",
       "      <td>Безопасность компьютерных систем</td>\n",
       "      <td>Язык SQL</td>\n",
       "      <td>Дискретная оптимизация</td>\n",
       "      <td>Численные методы</td>\n",
       "      <td>Машинное обучение 2</td>\n",
       "      <td>Нет</td>\n",
       "      <td>0.426009</td>\n",
       "      <td>NaN</td>\n",
       "      <td>NaN</td>\n",
       "      <td>NaN</td>\n",
       "    </tr>\n",
       "    <tr>\n",
       "      <td>2</td>\n",
       "      <td>2020-05-15 03:12:41.480</td>\n",
       "      <td>30f3653fc176d54e89ac3179c455c6dd</td>\n",
       "      <td>624</td>\n",
       "      <td>185.0</td>\n",
       "      <td>NaN</td>\n",
       "      <td>Безопасность компьютерных систем</td>\n",
       "      <td>Матричные вычисления</td>\n",
       "      <td>Моделирование временных рядов</td>\n",
       "      <td>Дискретная оптимизация</td>\n",
       "      <td>Машинное обучение 2</td>\n",
       "      <td>Численные методы</td>\n",
       "      <td>Да</td>\n",
       "      <td>0.538117</td>\n",
       "      <td>NaN</td>\n",
       "      <td>NaN</td>\n",
       "      <td>NaN</td>\n",
       "    </tr>\n",
       "    <tr>\n",
       "      <td>3</td>\n",
       "      <td>2020-05-15 04:43:08.994</td>\n",
       "      <td>1528f0eaa027580820ccf0d92a53ad68</td>\n",
       "      <td>579</td>\n",
       "      <td>182.0</td>\n",
       "      <td>NaN</td>\n",
       "      <td>Statistical Learning Theory</td>\n",
       "      <td>Высокопроизводительные вычисления</td>\n",
       "      <td>Матричные вычисления</td>\n",
       "      <td>Дискретная оптимизация</td>\n",
       "      <td>Численные методы</td>\n",
       "      <td>Машинное обучение 2</td>\n",
       "      <td>Да</td>\n",
       "      <td>0.744395</td>\n",
       "      <td>NaN</td>\n",
       "      <td>NaN</td>\n",
       "      <td>NaN</td>\n",
       "    </tr>\n",
       "    <tr>\n",
       "      <td>4</td>\n",
       "      <td>2020-05-15 07:47:17.197</td>\n",
       "      <td>496ea4f0d4abe264b1bb1b80eb3830c5</td>\n",
       "      <td>572</td>\n",
       "      <td>183.0</td>\n",
       "      <td>NaN</td>\n",
       "      <td>Высокопроизводительные вычисления</td>\n",
       "      <td>Безопасность компьютерных систем</td>\n",
       "      <td>Теория баз данных</td>\n",
       "      <td>Компьютерные сети</td>\n",
       "      <td>Дискретная оптимизация</td>\n",
       "      <td>Численные методы</td>\n",
       "      <td>Да</td>\n",
       "      <td>0.780269</td>\n",
       "      <td>NaN</td>\n",
       "      <td>NaN</td>\n",
       "      <td>NaN</td>\n",
       "    </tr>\n",
       "    <tr>\n",
       "      <td>...</td>\n",
       "      <td>...</td>\n",
       "      <td>...</td>\n",
       "      <td>...</td>\n",
       "      <td>...</td>\n",
       "      <td>...</td>\n",
       "      <td>...</td>\n",
       "      <td>...</td>\n",
       "      <td>...</td>\n",
       "      <td>...</td>\n",
       "      <td>...</td>\n",
       "      <td>...</td>\n",
       "      <td>...</td>\n",
       "      <td>...</td>\n",
       "      <td>...</td>\n",
       "      <td>...</td>\n",
       "      <td>...</td>\n",
       "    </tr>\n",
       "    <tr>\n",
       "      <td>356</td>\n",
       "      <td>2020-05-19 19:04:17.873</td>\n",
       "      <td>c5870b37ee3f672e4259dfb2fc02ed8f</td>\n",
       "      <td>1029</td>\n",
       "      <td>NaN</td>\n",
       "      <td>NaN</td>\n",
       "      <td>Statistical Learning Theory</td>\n",
       "      <td>Анализ неструктурированных данных</td>\n",
       "      <td>Сбор и обработка данных с помощью краудсорсинга</td>\n",
       "      <td>Обучение с подкреплением</td>\n",
       "      <td>Конфликты и кооперация</td>\n",
       "      <td>Компьютерное зрение</td>\n",
       "      <td>Да</td>\n",
       "      <td>0.920290</td>\n",
       "      <td>174.0</td>\n",
       "      <td>DevOps</td>\n",
       "      <td>NaN</td>\n",
       "    </tr>\n",
       "    <tr>\n",
       "      <td>357</td>\n",
       "      <td>2020-05-19 20:19:25.815</td>\n",
       "      <td>f44aea1095f9f5b8e2f5f0ed2b17891b</td>\n",
       "      <td>1060</td>\n",
       "      <td>NaN</td>\n",
       "      <td>NaN</td>\n",
       "      <td>Анализ неструктурированных данных</td>\n",
       "      <td>Высокопроизводительные вычисления</td>\n",
       "      <td>Моделирование временных рядов</td>\n",
       "      <td>Конфликты и кооперация</td>\n",
       "      <td>Обучение с подкреплением</td>\n",
       "      <td>Численные методы</td>\n",
       "      <td>Да</td>\n",
       "      <td>0.840580</td>\n",
       "      <td>174.0</td>\n",
       "      <td>DevOps</td>\n",
       "      <td>NaN</td>\n",
       "    </tr>\n",
       "    <tr>\n",
       "      <td>358</td>\n",
       "      <td>2020-05-20 11:54:38.318</td>\n",
       "      <td>d7118b44c7e8fdbbaaca226d2da6fef1</td>\n",
       "      <td>1111</td>\n",
       "      <td>NaN</td>\n",
       "      <td>NaN</td>\n",
       "      <td>Сбор и обработка данных с помощью краудсорсинга</td>\n",
       "      <td>Statistical Learning Theory</td>\n",
       "      <td>Анализ неструктурированных данных</td>\n",
       "      <td>Проектирование и разработка высоконагруженных ...</td>\n",
       "      <td>Методы сжатия и передачи медиаданных</td>\n",
       "      <td>Численные методы</td>\n",
       "      <td>Да</td>\n",
       "      <td>0.652174</td>\n",
       "      <td>173.0</td>\n",
       "      <td>Соревновательный анализ данных</td>\n",
       "      <td>NaN</td>\n",
       "    </tr>\n",
       "    <tr>\n",
       "      <td>359</td>\n",
       "      <td>2020-05-23 21:16:40.916</td>\n",
       "      <td>79d14db48e4737af731960ae212d5134</td>\n",
       "      <td>966</td>\n",
       "      <td>NaN</td>\n",
       "      <td>NaN</td>\n",
       "      <td>Безопасность компьютерных систем</td>\n",
       "      <td>Принятие решений в условиях риска и неопределё...</td>\n",
       "      <td>Анализ неструктурированных данных</td>\n",
       "      <td>Проектирование и разработка высоконагруженных ...</td>\n",
       "      <td>Методы сжатия и передачи медиаданных</td>\n",
       "      <td>Компьютерное зрение</td>\n",
       "      <td>Да</td>\n",
       "      <td>0.985507</td>\n",
       "      <td>172.0</td>\n",
       "      <td>DevOps</td>\n",
       "      <td>NaN</td>\n",
       "    </tr>\n",
       "    <tr>\n",
       "      <td>360</td>\n",
       "      <td>2020-05-23 21:16:40.916</td>\n",
       "      <td>f2d210ace25a841e1e58036b257d5d47</td>\n",
       "      <td>1195</td>\n",
       "      <td>NaN</td>\n",
       "      <td>NaN</td>\n",
       "      <td>Анализ неструктурированных данных</td>\n",
       "      <td>Моделирование временных рядов</td>\n",
       "      <td>Высокопроизводительные вычисления</td>\n",
       "      <td>Обучение с подкреплением</td>\n",
       "      <td>Компьютерное зрение</td>\n",
       "      <td>Методы сжатия и передачи медиаданных</td>\n",
       "      <td>NaN</td>\n",
       "      <td>0.369565</td>\n",
       "      <td>176.0</td>\n",
       "      <td>Соревновательный анализ данных</td>\n",
       "      <td>NaN</td>\n",
       "    </tr>\n",
       "  </tbody>\n",
       "</table>\n",
       "<p>361 rows × 16 columns</p>\n",
       "</div>"
      ],
      "text/plain": [
       "                  timestamp                                id  rating  \\\n",
       "0   2020-05-15 01:12:50.543  93ff79a51cd602f1dd3028ba2c129503     698   \n",
       "1   2020-05-15 02:46:48.066  26b01b1c4cd5656bab18d24c548834fb     647   \n",
       "2   2020-05-15 03:12:41.480  30f3653fc176d54e89ac3179c455c6dd     624   \n",
       "3   2020-05-15 04:43:08.994  1528f0eaa027580820ccf0d92a53ad68     579   \n",
       "4   2020-05-15 07:47:17.197  496ea4f0d4abe264b1bb1b80eb3830c5     572   \n",
       "..                      ...                               ...     ...   \n",
       "356 2020-05-19 19:04:17.873  c5870b37ee3f672e4259dfb2fc02ed8f    1029   \n",
       "357 2020-05-19 20:19:25.815  f44aea1095f9f5b8e2f5f0ed2b17891b    1060   \n",
       "358 2020-05-20 11:54:38.318  d7118b44c7e8fdbbaaca226d2da6fef1    1111   \n",
       "359 2020-05-23 21:16:40.916  79d14db48e4737af731960ae212d5134     966   \n",
       "360 2020-05-23 21:16:40.916  f2d210ace25a841e1e58036b257d5d47    1195   \n",
       "\n",
       "     18_group  is_mi                                           fall_1  \\\n",
       "0       181.0    NaN                                         Язык SQL   \n",
       "1       181.0    NaN                Высокопроизводительные вычисления   \n",
       "2       185.0    NaN                 Безопасность компьютерных систем   \n",
       "3       182.0    NaN                      Statistical Learning Theory   \n",
       "4       183.0    NaN                Высокопроизводительные вычисления   \n",
       "..        ...    ...                                              ...   \n",
       "356       NaN    NaN                      Statistical Learning Theory   \n",
       "357       NaN    NaN                Анализ неструктурированных данных   \n",
       "358       NaN    NaN  Сбор и обработка данных с помощью краудсорсинга   \n",
       "359       NaN    NaN                 Безопасность компьютерных систем   \n",
       "360       NaN    NaN                Анализ неструктурированных данных   \n",
       "\n",
       "                                                fall_2  \\\n",
       "0                    Высокопроизводительные вычисления   \n",
       "1                     Безопасность компьютерных систем   \n",
       "2                                 Матричные вычисления   \n",
       "3                    Высокопроизводительные вычисления   \n",
       "4                     Безопасность компьютерных систем   \n",
       "..                                                 ...   \n",
       "356                  Анализ неструктурированных данных   \n",
       "357                  Высокопроизводительные вычисления   \n",
       "358                        Statistical Learning Theory   \n",
       "359  Принятие решений в условиях риска и неопределё...   \n",
       "360                      Моделирование временных рядов   \n",
       "\n",
       "                                              fall_3  \\\n",
       "0                               Матричные вычисления   \n",
       "1                                           Язык SQL   \n",
       "2                      Моделирование временных рядов   \n",
       "3                               Матричные вычисления   \n",
       "4                                  Теория баз данных   \n",
       "..                                               ...   \n",
       "356  Сбор и обработка данных с помощью краудсорсинга   \n",
       "357                    Моделирование временных рядов   \n",
       "358                Анализ неструктурированных данных   \n",
       "359                Анализ неструктурированных данных   \n",
       "360                Высокопроизводительные вычисления   \n",
       "\n",
       "                                              spring_1  \\\n",
       "0                               Дискретная оптимизация   \n",
       "1                               Дискретная оптимизация   \n",
       "2                               Дискретная оптимизация   \n",
       "3                               Дискретная оптимизация   \n",
       "4                                    Компьютерные сети   \n",
       "..                                                 ...   \n",
       "356                           Обучение с подкреплением   \n",
       "357                             Конфликты и кооперация   \n",
       "358  Проектирование и разработка высоконагруженных ...   \n",
       "359  Проектирование и разработка высоконагруженных ...   \n",
       "360                           Обучение с подкреплением   \n",
       "\n",
       "                                 spring_2  \\\n",
       "0                        Численные методы   \n",
       "1                        Численные методы   \n",
       "2                     Машинное обучение 2   \n",
       "3                        Численные методы   \n",
       "4                  Дискретная оптимизация   \n",
       "..                                    ...   \n",
       "356                Конфликты и кооперация   \n",
       "357              Обучение с подкреплением   \n",
       "358  Методы сжатия и передачи медиаданных   \n",
       "359  Методы сжатия и передачи медиаданных   \n",
       "360                   Компьютерное зрение   \n",
       "\n",
       "                                 spring_3 is_first_time  percentile  17_group  \\\n",
       "0                     Машинное обучение 2            Да    0.183857       NaN   \n",
       "1                     Машинное обучение 2           Нет    0.426009       NaN   \n",
       "2                        Численные методы            Да    0.538117       NaN   \n",
       "3                     Машинное обучение 2            Да    0.744395       NaN   \n",
       "4                        Численные методы            Да    0.780269       NaN   \n",
       "..                                    ...           ...         ...       ...   \n",
       "356                   Компьютерное зрение            Да    0.920290     174.0   \n",
       "357                      Численные методы            Да    0.840580     174.0   \n",
       "358                      Численные методы            Да    0.652174     173.0   \n",
       "359                   Компьютерное зрение            Да    0.985507     172.0   \n",
       "360  Методы сжатия и передачи медиаданных           NaN    0.369565     176.0   \n",
       "\n",
       "                            blended  is_ml_student  \n",
       "0                               NaN            NaN  \n",
       "1                               NaN            NaN  \n",
       "2                               NaN            NaN  \n",
       "3                               NaN            NaN  \n",
       "4                               NaN            NaN  \n",
       "..                              ...            ...  \n",
       "356                          DevOps            NaN  \n",
       "357                          DevOps            NaN  \n",
       "358  Соревновательный анализ данных            NaN  \n",
       "359                          DevOps            NaN  \n",
       "360  Соревновательный анализ данных            NaN  \n",
       "\n",
       "[361 rows x 16 columns]"
      ]
     },
     "execution_count": 1233,
     "metadata": {},
     "output_type": "execute_result"
    }
   ],
   "source": [
    "df"
   ]
  },
  {
   "cell_type": "markdown",
   "metadata": {
    "id": "Jhk3tVpVhLuy"
   },
   "source": [
    "#### 2. [0.5 балла] Ответьте на вопросы:\n",
    "1. Сколько было заявок из групп 18-го года набора, а сколько из групп 17-го года?\n",
    "2. Есть ли студенты с равными перцентилями?"
   ]
  },
  {
   "cell_type": "code",
   "execution_count": 1234,
   "metadata": {},
   "outputs": [],
   "source": [
    "rows = df.shape[0]\n",
    "nans = df[\"17_group\"].isna().sum()\n",
    "res_17 = rows - nans\n",
    "\n",
    "# isna(): nan -> True, остальное -> False. значит, получим сумму nan. а нам наоборот нужно число заполненных. т.е. число всех\n",
    "# строк минус число nan"
   ]
  },
  {
   "cell_type": "code",
   "execution_count": 1235,
   "metadata": {
    "id": "bsn4vn8RhLuy"
   },
   "outputs": [],
   "source": [
    "nans = df[\"18_group\"].isna().sum()\n",
    "res_18 = rows - nans"
   ]
  },
  {
   "cell_type": "code",
   "execution_count": 1236,
   "metadata": {},
   "outputs": [
    {
     "name": "stdout",
     "output_type": "stream",
     "text": [
      "223 заявок из групп 18-го года набора и 138 заявок из групп 17-го года\n"
     ]
    }
   ],
   "source": [
    "print(res_18, \"заявок из групп 18-го года набора и\", res_17, \"заявок из групп 17-го года\")"
   ]
  },
  {
   "cell_type": "code",
   "execution_count": 1237,
   "metadata": {},
   "outputs": [
    {
     "data": {
      "text/plain": [
       "False"
      ]
     },
     "execution_count": 1237,
     "metadata": {},
     "output_type": "execute_result"
    }
   ],
   "source": [
    "df.shape[0] == len(set(df.percentile))\n",
    "\n",
    "# ЭТО НАДО ЗАПУСКАТЬ ПОСЛЕ ВЫПОЛНЕНИЯ ЗАДАНИЯ-4, ГДЕ Я УДАЛИЛА ВСЕ ДУБЛИКАТЫ"
   ]
  },
  {
   "cell_type": "markdown",
   "metadata": {},
   "source": [
    "Значит, есть студенты с равными перцентилями."
   ]
  },
  {
   "cell_type": "markdown",
   "metadata": {
    "id": "jPiMwyqHhLuy"
   },
   "source": [
    "#### 3. [0.5 балла] Есть ли в данных пропуски? В каких колонках? Сколько их в каждой из этих колонок?"
   ]
  },
  {
   "cell_type": "code",
   "execution_count": 1238,
   "metadata": {
    "id": "edY1RrSOhLuy"
   },
   "outputs": [],
   "source": [
    "res = df.isna().sum()"
   ]
  },
  {
   "cell_type": "markdown",
   "metadata": {},
   "source": [
    "isna(): nan -> True, заполненное -> False. Значит, в столбиках, где сумма 0, все заполнено. Где не 0 -- там есть пропуски. "
   ]
  },
  {
   "cell_type": "code",
   "execution_count": 1239,
   "metadata": {},
   "outputs": [
    {
     "data": {
      "text/plain": [
       "18_group         138\n",
       "is_mi            343\n",
       "is_first_time      2\n",
       "17_group         223\n",
       "blended          223\n",
       "is_ml_student    304\n",
       "dtype: int64"
      ]
     },
     "execution_count": 1239,
     "metadata": {},
     "output_type": "execute_result"
    }
   ],
   "source": [
    "res[res != 0]"
   ]
  },
  {
   "cell_type": "markdown",
   "metadata": {},
   "source": [
    "Получается, есть пропуски. Колонки, в которых они есть, перечислены выше. Число пропусков тоже."
   ]
  },
  {
   "cell_type": "markdown",
   "metadata": {
    "id": "B5ORhP2uhLuz"
   },
   "source": [
    "Заполните пропуски пустой строкой для строковых колонок и нулём для числовых."
   ]
  },
  {
   "cell_type": "code",
   "execution_count": 1240,
   "metadata": {},
   "outputs": [
    {
     "data": {
      "text/plain": [
       "{dtype('int64'), dtype('float64'), dtype('<M8[ns]'), dtype('O')}"
      ]
     },
     "execution_count": 1240,
     "metadata": {},
     "output_type": "execute_result"
    }
   ],
   "source": [
    "set(df.dtypes)"
   ]
  },
  {
   "cell_type": "code",
   "execution_count": 1478,
   "metadata": {},
   "outputs": [],
   "source": [
    "cat_mask = (df.dtypes == 'object').values\n",
    "cat = df[df.columns[cat_mask]]\n",
    "num = df[df.columns[~cat_mask]]\n",
    "\n",
    "# отделили категориальные от числовых"
   ]
  },
  {
   "cell_type": "code",
   "execution_count": 1878,
   "metadata": {},
   "outputs": [],
   "source": [
    "cat = cat.fillna('')\n",
    "num = num.fillna(0)\n",
    "\n",
    "# заполнили пропуски"
   ]
  },
  {
   "cell_type": "code",
   "execution_count": 1879,
   "metadata": {},
   "outputs": [
    {
     "data": {
      "text/plain": [
       "id               0\n",
       "fall_1           0\n",
       "fall_2           0\n",
       "fall_3           0\n",
       "spring_1         0\n",
       "spring_2         0\n",
       "spring_3         0\n",
       "is_first_time    0\n",
       "blended          0\n",
       "timestamp        0\n",
       "rating           0\n",
       "18_group         0\n",
       "is_mi            0\n",
       "percentile       0\n",
       "17_group         0\n",
       "is_ml_student    0\n",
       "dtype: int64"
      ]
     },
     "execution_count": 1879,
     "metadata": {},
     "output_type": "execute_result"
    }
   ],
   "source": [
    "df = pd.concat([cat, num], axis=1)\n",
    "df.isna().sum() # проверим, что все ок"
   ]
  },
  {
   "cell_type": "markdown",
   "metadata": {
    "id": "w5ELhkT1hLuz"
   },
   "source": [
    "#### 4. [0.5 балла] Посмотрите повнимательнее на колонку 'is_first_time'. \n",
    "\n",
    "Есть ли в ней ответы \"Нет\"? Сколько их?\n",
    "\n",
    "Если вы найдете повторные обращения студентов, оставьте только самую позднюю версию. <i>Обращения со значением \"Нет\" в <code>is_first_time</code> могут быть как повторными, так и первичными, поскольку поле заполняли сами студенты.</i>"
   ]
  },
  {
   "cell_type": "code",
   "execution_count": 1244,
   "metadata": {
    "id": "VEfiNsyQhLuz"
   },
   "outputs": [
    {
     "name": "stdout",
     "output_type": "stream",
     "text": [
      "51 ответов \"Нет\"\n"
     ]
    }
   ],
   "source": [
    "print((df[\"is_first_time\"] == 'Нет').sum(), 'ответов \"Нет\"')"
   ]
  },
  {
   "cell_type": "code",
   "execution_count": 1245,
   "metadata": {},
   "outputs": [
    {
     "data": {
      "text/plain": [
       "False"
      ]
     },
     "execution_count": 1245,
     "metadata": {},
     "output_type": "execute_result"
    }
   ],
   "source": [
    "rows == len(set(df.id))\n",
    "\n",
    "# значит, действительно есть повторные"
   ]
  },
  {
   "cell_type": "code",
   "execution_count": 1481,
   "metadata": {},
   "outputs": [],
   "source": [
    "max_stamps = df.groupby('id').idxmax()['timestamp'].values  \n",
    "\n",
    "# сгруппировали по id, взяли в каждой группе максимальное время, запомнили индексы строк с такими id и временем"
   ]
  },
  {
   "cell_type": "code",
   "execution_count": 1880,
   "metadata": {},
   "outputs": [],
   "source": [
    "df = df.loc[max_stamps]"
   ]
  },
  {
   "cell_type": "code",
   "execution_count": 1881,
   "metadata": {},
   "outputs": [
    {
     "data": {
      "text/html": [
       "<div>\n",
       "<style scoped>\n",
       "    .dataframe tbody tr th:only-of-type {\n",
       "        vertical-align: middle;\n",
       "    }\n",
       "\n",
       "    .dataframe tbody tr th {\n",
       "        vertical-align: top;\n",
       "    }\n",
       "\n",
       "    .dataframe thead th {\n",
       "        text-align: right;\n",
       "    }\n",
       "</style>\n",
       "<table border=\"1\" class=\"dataframe\">\n",
       "  <thead>\n",
       "    <tr style=\"text-align: right;\">\n",
       "      <th></th>\n",
       "      <th>id</th>\n",
       "      <th>fall_1</th>\n",
       "      <th>fall_2</th>\n",
       "      <th>fall_3</th>\n",
       "      <th>spring_1</th>\n",
       "      <th>spring_2</th>\n",
       "      <th>spring_3</th>\n",
       "      <th>is_first_time</th>\n",
       "      <th>blended</th>\n",
       "      <th>timestamp</th>\n",
       "      <th>rating</th>\n",
       "      <th>18_group</th>\n",
       "      <th>is_mi</th>\n",
       "      <th>percentile</th>\n",
       "      <th>17_group</th>\n",
       "      <th>is_ml_student</th>\n",
       "    </tr>\n",
       "  </thead>\n",
       "  <tbody>\n",
       "    <tr>\n",
       "      <td>161</td>\n",
       "      <td>00b40fe7dbfd23e5daba765244509415</td>\n",
       "      <td>Безопасность компьютерных систем</td>\n",
       "      <td>Язык SQL</td>\n",
       "      <td>Матричные вычисления</td>\n",
       "      <td>Промышленное программирование на языке Java</td>\n",
       "      <td>Компьютерные сети</td>\n",
       "      <td>Анализ данных в бизнесе</td>\n",
       "      <td>Да</td>\n",
       "      <td></td>\n",
       "      <td>2020-05-18 22:08:11.668</td>\n",
       "      <td>542</td>\n",
       "      <td>187.0</td>\n",
       "      <td>0.0</td>\n",
       "      <td>0.896861</td>\n",
       "      <td>0.0</td>\n",
       "      <td>0.0</td>\n",
       "    </tr>\n",
       "    <tr>\n",
       "      <td>76</td>\n",
       "      <td>014b72217e20370dab7acc48b20c47be</td>\n",
       "      <td>Сбор и обработка данных с помощью краудсорсинга</td>\n",
       "      <td>Statistical Learning Theory</td>\n",
       "      <td>Матричные вычисления</td>\n",
       "      <td>Системы баз данных</td>\n",
       "      <td>Машинное обучение 2</td>\n",
       "      <td>Дискретная оптимизация</td>\n",
       "      <td>Да</td>\n",
       "      <td></td>\n",
       "      <td>2020-05-18 16:47:43.131</td>\n",
       "      <td>543</td>\n",
       "      <td>186.0</td>\n",
       "      <td>0.0</td>\n",
       "      <td>0.892377</td>\n",
       "      <td>0.0</td>\n",
       "      <td>0.0</td>\n",
       "    </tr>\n",
       "    <tr>\n",
       "      <td>335</td>\n",
       "      <td>01b072a0cdb45814fc4ab8ca3e621f0e</td>\n",
       "      <td>Анализ неструктурированных данных</td>\n",
       "      <td>Сбор и обработка данных с помощью краудсорсинга</td>\n",
       "      <td>Моделирование временных рядов</td>\n",
       "      <td>Обучение с подкреплением</td>\n",
       "      <td>Компьютерное зрение</td>\n",
       "      <td>Символьные вычисления</td>\n",
       "      <td>Да</td>\n",
       "      <td>Соревновательный анализ данных</td>\n",
       "      <td>2020-05-18 23:01:39.666</td>\n",
       "      <td>1058</td>\n",
       "      <td>0.0</td>\n",
       "      <td>0.0</td>\n",
       "      <td>0.847826</td>\n",
       "      <td>173.0</td>\n",
       "      <td>0.0</td>\n",
       "    </tr>\n",
       "    <tr>\n",
       "      <td>88</td>\n",
       "      <td>044e038535ae5d2ff037150b77fdc6d1</td>\n",
       "      <td>Безопасность компьютерных систем</td>\n",
       "      <td>Statistical Learning Theory</td>\n",
       "      <td>Матричные вычисления</td>\n",
       "      <td>Дискретная оптимизация</td>\n",
       "      <td>Промышленное программирование на языке Java</td>\n",
       "      <td>Дополнительные главы прикладной статистики</td>\n",
       "      <td>Да</td>\n",
       "      <td></td>\n",
       "      <td>2020-05-18 17:56:00.688</td>\n",
       "      <td>710</td>\n",
       "      <td>182.0</td>\n",
       "      <td>0.0</td>\n",
       "      <td>0.139013</td>\n",
       "      <td>0.0</td>\n",
       "      <td>1.0</td>\n",
       "    </tr>\n",
       "    <tr>\n",
       "      <td>78</td>\n",
       "      <td>04b88fcbe5ba58aa8369c7de5e574de0</td>\n",
       "      <td>Безопасность компьютерных систем</td>\n",
       "      <td>Моделирование временных рядов</td>\n",
       "      <td>Высокопроизводительные вычисления</td>\n",
       "      <td>Дискретная оптимизация</td>\n",
       "      <td>Компьютерные сети</td>\n",
       "      <td>Промышленное программирование на языке Java</td>\n",
       "      <td>Да</td>\n",
       "      <td></td>\n",
       "      <td>2020-05-18 17:00:34.890</td>\n",
       "      <td>719</td>\n",
       "      <td>181.0</td>\n",
       "      <td>0.0</td>\n",
       "      <td>0.121076</td>\n",
       "      <td>0.0</td>\n",
       "      <td>0.0</td>\n",
       "    </tr>\n",
       "    <tr>\n",
       "      <td>...</td>\n",
       "      <td>...</td>\n",
       "      <td>...</td>\n",
       "      <td>...</td>\n",
       "      <td>...</td>\n",
       "      <td>...</td>\n",
       "      <td>...</td>\n",
       "      <td>...</td>\n",
       "      <td>...</td>\n",
       "      <td>...</td>\n",
       "      <td>...</td>\n",
       "      <td>...</td>\n",
       "      <td>...</td>\n",
       "      <td>...</td>\n",
       "      <td>...</td>\n",
       "      <td>...</td>\n",
       "      <td>...</td>\n",
       "    </tr>\n",
       "    <tr>\n",
       "      <td>135</td>\n",
       "      <td>feb53dcdd28fff9dc4a981c3419fea6f</td>\n",
       "      <td>Безопасность компьютерных систем</td>\n",
       "      <td>Язык SQL</td>\n",
       "      <td>Сбор и обработка данных с помощью краудсорсинга</td>\n",
       "      <td>Промышленное программирование на языке Java</td>\n",
       "      <td>Анализ данных в бизнесе</td>\n",
       "      <td>Машинное обучение 2</td>\n",
       "      <td>Нет</td>\n",
       "      <td></td>\n",
       "      <td>2020-05-18 21:19:50.620</td>\n",
       "      <td>521</td>\n",
       "      <td>186.0</td>\n",
       "      <td>1.0</td>\n",
       "      <td>0.968610</td>\n",
       "      <td>0.0</td>\n",
       "      <td>0.0</td>\n",
       "    </tr>\n",
       "    <tr>\n",
       "      <td>281</td>\n",
       "      <td>fecff7bd30995d16b59fb392d47b3760</td>\n",
       "      <td>Анализ неструктурированных данных</td>\n",
       "      <td>Безопасность компьютерных систем</td>\n",
       "      <td>Байесовские методы машинного обучения</td>\n",
       "      <td>Обучение с подкреплением</td>\n",
       "      <td>Компьютерное зрение</td>\n",
       "      <td>Генеративные модели в машинном обучении</td>\n",
       "      <td>Да</td>\n",
       "      <td>DevOps</td>\n",
       "      <td>2020-05-18 14:29:51.415</td>\n",
       "      <td>1278</td>\n",
       "      <td>0.0</td>\n",
       "      <td>0.0</td>\n",
       "      <td>0.094203</td>\n",
       "      <td>171.0</td>\n",
       "      <td>0.0</td>\n",
       "    </tr>\n",
       "    <tr>\n",
       "      <td>103</td>\n",
       "      <td>ff549c331d45453052f28ad2614afda9</td>\n",
       "      <td>Моделирование временных рядов</td>\n",
       "      <td>Теория баз данных</td>\n",
       "      <td>Матричные вычисления</td>\n",
       "      <td>Численные методы</td>\n",
       "      <td>Анализ данных в бизнесе</td>\n",
       "      <td>Промышленное программирование на языке Java</td>\n",
       "      <td>Да</td>\n",
       "      <td></td>\n",
       "      <td>2020-05-18 19:23:23.735</td>\n",
       "      <td>723</td>\n",
       "      <td>182.0</td>\n",
       "      <td>0.0</td>\n",
       "      <td>0.107623</td>\n",
       "      <td>0.0</td>\n",
       "      <td>0.0</td>\n",
       "    </tr>\n",
       "    <tr>\n",
       "      <td>307</td>\n",
       "      <td>ffc04c64d068f8d85e4dc44e7f297ecc</td>\n",
       "      <td>Байесовские методы машинного обучения</td>\n",
       "      <td>Statistical Learning Theory</td>\n",
       "      <td>Глубинное обучение в обработке звука</td>\n",
       "      <td>Обучение с подкреплением</td>\n",
       "      <td>Генеративные модели в машинном обучении</td>\n",
       "      <td>Компьютерное зрение</td>\n",
       "      <td>Нет</td>\n",
       "      <td>Соревновательный анализ данных</td>\n",
       "      <td>2020-05-18 21:00:45.274</td>\n",
       "      <td>1163</td>\n",
       "      <td>0.0</td>\n",
       "      <td>0.0</td>\n",
       "      <td>0.471014</td>\n",
       "      <td>171.0</td>\n",
       "      <td>0.0</td>\n",
       "    </tr>\n",
       "    <tr>\n",
       "      <td>139</td>\n",
       "      <td>ffc58d371e2f52e1c7f45d49d3d629d0</td>\n",
       "      <td>Матричные вычисления</td>\n",
       "      <td>Сбор и обработка данных с помощью краудсорсинга</td>\n",
       "      <td>Моделирование временных рядов</td>\n",
       "      <td>Системы баз данных</td>\n",
       "      <td>Промышленное программирование на языке Java</td>\n",
       "      <td>Дополнительные главы прикладной статистики</td>\n",
       "      <td>Нет</td>\n",
       "      <td></td>\n",
       "      <td>2020-05-18 21:27:02.445</td>\n",
       "      <td>659</td>\n",
       "      <td>187.0</td>\n",
       "      <td>0.0</td>\n",
       "      <td>0.369955</td>\n",
       "      <td>0.0</td>\n",
       "      <td>1.0</td>\n",
       "    </tr>\n",
       "  </tbody>\n",
       "</table>\n",
       "<p>347 rows × 16 columns</p>\n",
       "</div>"
      ],
      "text/plain": [
       "                                   id  \\\n",
       "161  00b40fe7dbfd23e5daba765244509415   \n",
       "76   014b72217e20370dab7acc48b20c47be   \n",
       "335  01b072a0cdb45814fc4ab8ca3e621f0e   \n",
       "88   044e038535ae5d2ff037150b77fdc6d1   \n",
       "78   04b88fcbe5ba58aa8369c7de5e574de0   \n",
       "..                                ...   \n",
       "135  feb53dcdd28fff9dc4a981c3419fea6f   \n",
       "281  fecff7bd30995d16b59fb392d47b3760   \n",
       "103  ff549c331d45453052f28ad2614afda9   \n",
       "307  ffc04c64d068f8d85e4dc44e7f297ecc   \n",
       "139  ffc58d371e2f52e1c7f45d49d3d629d0   \n",
       "\n",
       "                                              fall_1  \\\n",
       "161                 Безопасность компьютерных систем   \n",
       "76   Сбор и обработка данных с помощью краудсорсинга   \n",
       "335                Анализ неструктурированных данных   \n",
       "88                  Безопасность компьютерных систем   \n",
       "78                  Безопасность компьютерных систем   \n",
       "..                                               ...   \n",
       "135                 Безопасность компьютерных систем   \n",
       "281                Анализ неструктурированных данных   \n",
       "103                    Моделирование временных рядов   \n",
       "307            Байесовские методы машинного обучения   \n",
       "139                             Матричные вычисления   \n",
       "\n",
       "                                              fall_2  \\\n",
       "161                                         Язык SQL   \n",
       "76                       Statistical Learning Theory   \n",
       "335  Сбор и обработка данных с помощью краудсорсинга   \n",
       "88                       Statistical Learning Theory   \n",
       "78                     Моделирование временных рядов   \n",
       "..                                               ...   \n",
       "135                                         Язык SQL   \n",
       "281                 Безопасность компьютерных систем   \n",
       "103                                Теория баз данных   \n",
       "307                      Statistical Learning Theory   \n",
       "139  Сбор и обработка данных с помощью краудсорсинга   \n",
       "\n",
       "                                              fall_3  \\\n",
       "161                             Матричные вычисления   \n",
       "76                              Матричные вычисления   \n",
       "335                    Моделирование временных рядов   \n",
       "88                              Матричные вычисления   \n",
       "78                 Высокопроизводительные вычисления   \n",
       "..                                               ...   \n",
       "135  Сбор и обработка данных с помощью краудсорсинга   \n",
       "281            Байесовские методы машинного обучения   \n",
       "103                             Матричные вычисления   \n",
       "307             Глубинное обучение в обработке звука   \n",
       "139                    Моделирование временных рядов   \n",
       "\n",
       "                                        spring_1  \\\n",
       "161  Промышленное программирование на языке Java   \n",
       "76                            Системы баз данных   \n",
       "335                     Обучение с подкреплением   \n",
       "88                        Дискретная оптимизация   \n",
       "78                        Дискретная оптимизация   \n",
       "..                                           ...   \n",
       "135  Промышленное программирование на языке Java   \n",
       "281                     Обучение с подкреплением   \n",
       "103                             Численные методы   \n",
       "307                     Обучение с подкреплением   \n",
       "139                           Системы баз данных   \n",
       "\n",
       "                                        spring_2  \\\n",
       "161                            Компьютерные сети   \n",
       "76                           Машинное обучение 2   \n",
       "335                          Компьютерное зрение   \n",
       "88   Промышленное программирование на языке Java   \n",
       "78                             Компьютерные сети   \n",
       "..                                           ...   \n",
       "135                      Анализ данных в бизнесе   \n",
       "281                          Компьютерное зрение   \n",
       "103                      Анализ данных в бизнесе   \n",
       "307      Генеративные модели в машинном обучении   \n",
       "139  Промышленное программирование на языке Java   \n",
       "\n",
       "                                        spring_3 is_first_time  \\\n",
       "161                      Анализ данных в бизнесе            Да   \n",
       "76                        Дискретная оптимизация            Да   \n",
       "335                        Символьные вычисления            Да   \n",
       "88    Дополнительные главы прикладной статистики            Да   \n",
       "78   Промышленное программирование на языке Java            Да   \n",
       "..                                           ...           ...   \n",
       "135                          Машинное обучение 2           Нет   \n",
       "281      Генеративные модели в машинном обучении            Да   \n",
       "103  Промышленное программирование на языке Java            Да   \n",
       "307                          Компьютерное зрение           Нет   \n",
       "139   Дополнительные главы прикладной статистики           Нет   \n",
       "\n",
       "                            blended               timestamp  rating  18_group  \\\n",
       "161                                 2020-05-18 22:08:11.668     542     187.0   \n",
       "76                                  2020-05-18 16:47:43.131     543     186.0   \n",
       "335  Соревновательный анализ данных 2020-05-18 23:01:39.666    1058       0.0   \n",
       "88                                  2020-05-18 17:56:00.688     710     182.0   \n",
       "78                                  2020-05-18 17:00:34.890     719     181.0   \n",
       "..                              ...                     ...     ...       ...   \n",
       "135                                 2020-05-18 21:19:50.620     521     186.0   \n",
       "281                          DevOps 2020-05-18 14:29:51.415    1278       0.0   \n",
       "103                                 2020-05-18 19:23:23.735     723     182.0   \n",
       "307  Соревновательный анализ данных 2020-05-18 21:00:45.274    1163       0.0   \n",
       "139                                 2020-05-18 21:27:02.445     659     187.0   \n",
       "\n",
       "     is_mi  percentile  17_group  is_ml_student  \n",
       "161    0.0    0.896861       0.0            0.0  \n",
       "76     0.0    0.892377       0.0            0.0  \n",
       "335    0.0    0.847826     173.0            0.0  \n",
       "88     0.0    0.139013       0.0            1.0  \n",
       "78     0.0    0.121076       0.0            0.0  \n",
       "..     ...         ...       ...            ...  \n",
       "135    1.0    0.968610       0.0            0.0  \n",
       "281    0.0    0.094203     171.0            0.0  \n",
       "103    0.0    0.107623       0.0            0.0  \n",
       "307    0.0    0.471014     171.0            0.0  \n",
       "139    0.0    0.369955       0.0            1.0  \n",
       "\n",
       "[347 rows x 16 columns]"
      ]
     },
     "execution_count": 1881,
     "metadata": {},
     "output_type": "execute_result"
    }
   ],
   "source": [
    "df"
   ]
  },
  {
   "cell_type": "markdown",
   "metadata": {
    "id": "IlzHp3HVhLuz"
   },
   "source": [
    "#### 5. [0.5 балла] Какие  blended-курсы для четверокурсников существуют? На какой blended-курс записалось наибольшее количество студентов? На каком из курсов собрались студенты с самым высоким средним рейтингом? "
   ]
  },
  {
   "cell_type": "code",
   "execution_count": 1249,
   "metadata": {
    "id": "j_BRWerHhLu0"
   },
   "outputs": [
    {
     "data": {
      "text/plain": [
       "{'DevOps',\n",
       " 'Введение в дифференциальную геометрию',\n",
       " 'Соревновательный анализ данных'}"
      ]
     },
     "execution_count": 1249,
     "metadata": {},
     "output_type": "execute_result"
    }
   ],
   "source": [
    "blended = set(df[df[\"17_group\"] != 0]['blended'])  # выделила отдельно четверокурсников, у них нашла все blended-курсы\n",
    "blended"
   ]
  },
  {
   "cell_type": "code",
   "execution_count": 1250,
   "metadata": {},
   "outputs": [
    {
     "data": {
      "text/plain": [
       "'DevOps'"
      ]
     },
     "execution_count": 1250,
     "metadata": {},
     "output_type": "execute_result"
    }
   ],
   "source": [
    "df.groupby(['blended']).count()[\"17_group\"].loc[blended].idxmax()  # на который больше всего записалось"
   ]
  },
  {
   "cell_type": "code",
   "execution_count": 1251,
   "metadata": {},
   "outputs": [
    {
     "data": {
      "text/plain": [
       "'Введение в дифференциальную геометрию'"
      ]
     },
     "execution_count": 1251,
     "metadata": {},
     "output_type": "execute_result"
    }
   ],
   "source": [
    "df.groupby(['blended']).mean()[\"rating\"].loc[blended].idxmax()  # с самым высоким средним рейтингом"
   ]
  },
  {
   "cell_type": "markdown",
   "metadata": {
    "id": "IU_FLt8HhLu0"
   },
   "source": [
    "#### 6. [1 балл] Выясните, есть ли в данных студенты с абсолютно одинаковыми предпочтениями по всем курсам (не забудьте учесть blended-курсы для четверокурсников). Сколько таких наборов, которые взяли несколько студентов? Выведите их все вместе с количеством выбравших их студентов.\n",
    "\n",
    "<i>Предпочтения двух студентов считаются абсолютно одинаковыми, если выбранные ими дисциплины имеют одинаковый приоритет.</i>"
   ]
  },
  {
   "cell_type": "code",
   "execution_count": 1252,
   "metadata": {
    "id": "BBDlR1mFhLu0"
   },
   "outputs": [
    {
     "name": "stdout",
     "output_type": "stream",
     "text": [
      "да, такие наборы есть, их 15\n"
     ]
    }
   ],
   "source": [
    "count = df.groupby(['fall_1', 'fall_2', 'fall_3', 'spring_1', 'spring_2', 'spring_3', 'blended']).count()\n",
    "count = count[count.id >= 2]\n",
    "print(\"да, такие наборы есть, их\", count.shape[0])"
   ]
  },
  {
   "cell_type": "code",
   "execution_count": 1253,
   "metadata": {},
   "outputs": [
    {
     "data": {
      "text/html": [
       "<div>\n",
       "<style scoped>\n",
       "    .dataframe tbody tr th:only-of-type {\n",
       "        vertical-align: middle;\n",
       "    }\n",
       "\n",
       "    .dataframe tbody tr th {\n",
       "        vertical-align: top;\n",
       "    }\n",
       "\n",
       "    .dataframe thead th {\n",
       "        text-align: right;\n",
       "    }\n",
       "</style>\n",
       "<table border=\"1\" class=\"dataframe\">\n",
       "  <thead>\n",
       "    <tr style=\"text-align: right;\">\n",
       "      <th></th>\n",
       "      <th></th>\n",
       "      <th></th>\n",
       "      <th></th>\n",
       "      <th></th>\n",
       "      <th></th>\n",
       "      <th></th>\n",
       "      <th>id</th>\n",
       "    </tr>\n",
       "    <tr>\n",
       "      <th>fall_1</th>\n",
       "      <th>fall_2</th>\n",
       "      <th>fall_3</th>\n",
       "      <th>spring_1</th>\n",
       "      <th>spring_2</th>\n",
       "      <th>spring_3</th>\n",
       "      <th>blended</th>\n",
       "      <th></th>\n",
       "    </tr>\n",
       "  </thead>\n",
       "  <tbody>\n",
       "    <tr>\n",
       "      <td>Statistical Learning Theory</td>\n",
       "      <td>Анализ неструктурированных данных</td>\n",
       "      <td>Сбор и обработка данных с помощью краудсорсинга</td>\n",
       "      <td>Обучение с подкреплением</td>\n",
       "      <td>Конфликты и кооперация</td>\n",
       "      <td>Компьютерное зрение</td>\n",
       "      <td>DevOps</td>\n",
       "      <td>2</td>\n",
       "    </tr>\n",
       "    <tr>\n",
       "      <td rowspan=\"2\" valign=\"top\">Байесовские методы машинного обучения</td>\n",
       "      <td rowspan=\"2\" valign=\"top\">Анализ неструктурированных данных</td>\n",
       "      <td>Глубинное обучение в обработке звука</td>\n",
       "      <td>Обучение с подкреплением</td>\n",
       "      <td>Генеративные модели в машинном обучении</td>\n",
       "      <td>Компьютерное зрение</td>\n",
       "      <td>DevOps</td>\n",
       "      <td>2</td>\n",
       "    </tr>\n",
       "    <tr>\n",
       "      <td>Сбор и обработка данных с помощью краудсорсинга</td>\n",
       "      <td>Обучение с подкреплением</td>\n",
       "      <td>Компьютерное зрение</td>\n",
       "      <td>Генеративные модели в машинном обучении</td>\n",
       "      <td>DevOps</td>\n",
       "      <td>2</td>\n",
       "    </tr>\n",
       "    <tr>\n",
       "      <td rowspan=\"7\" valign=\"top\">Безопасность компьютерных систем</td>\n",
       "      <td>Statistical Learning Theory</td>\n",
       "      <td>Матричные вычисления</td>\n",
       "      <td>Дискретная оптимизация</td>\n",
       "      <td>Промышленное программирование на языке Java</td>\n",
       "      <td>Дополнительные главы прикладной статистики</td>\n",
       "      <td></td>\n",
       "      <td>3</td>\n",
       "    </tr>\n",
       "    <tr>\n",
       "      <td rowspan=\"3\" valign=\"top\">Высокопроизводительные вычисления</td>\n",
       "      <td>Анализ неструктурированных данных</td>\n",
       "      <td>Проектирование и разработка высоконагруженных сервисов</td>\n",
       "      <td>Методы сжатия и передачи медиаданных</td>\n",
       "      <td>Конфликты и кооперация</td>\n",
       "      <td>DevOps</td>\n",
       "      <td>2</td>\n",
       "    </tr>\n",
       "    <tr>\n",
       "      <td rowspan=\"2\" valign=\"top\">Язык SQL</td>\n",
       "      <td>Компьютерные сети</td>\n",
       "      <td>Промышленное программирование на языке Java</td>\n",
       "      <td>Дискретная оптимизация</td>\n",
       "      <td></td>\n",
       "      <td>3</td>\n",
       "    </tr>\n",
       "    <tr>\n",
       "      <td>Промышленное программирование на языке Java</td>\n",
       "      <td>Компьютерные сети</td>\n",
       "      <td>Системы баз данных</td>\n",
       "      <td></td>\n",
       "      <td>2</td>\n",
       "    </tr>\n",
       "    <tr>\n",
       "      <td>Матричные вычисления</td>\n",
       "      <td>Моделирование временных рядов</td>\n",
       "      <td>Промышленное программирование на языке Java</td>\n",
       "      <td>Компьютерные сети</td>\n",
       "      <td>Дискретная оптимизация</td>\n",
       "      <td></td>\n",
       "      <td>2</td>\n",
       "    </tr>\n",
       "    <tr>\n",
       "      <td>Сбор и обработка данных с помощью краудсорсинга</td>\n",
       "      <td>Матричные вычисления</td>\n",
       "      <td>Компьютерные сети</td>\n",
       "      <td>Промышленное программирование на языке Java</td>\n",
       "      <td>Анализ данных в бизнесе</td>\n",
       "      <td></td>\n",
       "      <td>2</td>\n",
       "    </tr>\n",
       "    <tr>\n",
       "      <td>Теория баз данных</td>\n",
       "      <td>Язык SQL</td>\n",
       "      <td>Машинное обучение 2</td>\n",
       "      <td>Компьютерные сети</td>\n",
       "      <td>Промышленное программирование на языке Java</td>\n",
       "      <td></td>\n",
       "      <td>2</td>\n",
       "    </tr>\n",
       "    <tr>\n",
       "      <td rowspan=\"2\" valign=\"top\">Высокопроизводительные вычисления</td>\n",
       "      <td>Безопасность компьютерных систем</td>\n",
       "      <td>Сбор и обработка данных с помощью краудсорсинга</td>\n",
       "      <td>Проектирование и разработка высоконагруженных сервисов</td>\n",
       "      <td>Методы сжатия и передачи медиаданных</td>\n",
       "      <td>Компьютерное зрение</td>\n",
       "      <td>DevOps</td>\n",
       "      <td>2</td>\n",
       "    </tr>\n",
       "    <tr>\n",
       "      <td>Сбор и обработка данных с помощью краудсорсинга</td>\n",
       "      <td>Моделирование временных рядов</td>\n",
       "      <td>Проектирование и разработка высоконагруженных сервисов</td>\n",
       "      <td>Методы сжатия и передачи медиаданных</td>\n",
       "      <td>Методы сжатия и передачи медиаданных</td>\n",
       "      <td>DevOps</td>\n",
       "      <td>2</td>\n",
       "    </tr>\n",
       "    <tr>\n",
       "      <td>Моделирование временных рядов</td>\n",
       "      <td>Сбор и обработка данных с помощью краудсорсинга</td>\n",
       "      <td>Безопасность компьютерных систем</td>\n",
       "      <td>Компьютерные сети</td>\n",
       "      <td>Дополнительные главы прикладной статистики</td>\n",
       "      <td>Системы баз данных</td>\n",
       "      <td></td>\n",
       "      <td>2</td>\n",
       "    </tr>\n",
       "    <tr>\n",
       "      <td>Сбор и обработка данных с помощью краудсорсинга</td>\n",
       "      <td>Язык SQL</td>\n",
       "      <td>Теория баз данных</td>\n",
       "      <td>Промышленное программирование на языке Java</td>\n",
       "      <td>Машинное обучение 2</td>\n",
       "      <td>Компьютерные сети</td>\n",
       "      <td></td>\n",
       "      <td>2</td>\n",
       "    </tr>\n",
       "    <tr>\n",
       "      <td>Язык SQL</td>\n",
       "      <td>Высокопроизводительные вычисления</td>\n",
       "      <td>Теория баз данных</td>\n",
       "      <td>Компьютерные сети</td>\n",
       "      <td>Промышленное программирование на языке Java</td>\n",
       "      <td>Дискретная оптимизация</td>\n",
       "      <td></td>\n",
       "      <td>2</td>\n",
       "    </tr>\n",
       "  </tbody>\n",
       "</table>\n",
       "</div>"
      ],
      "text/plain": [
       "                                                                                                                                                                                                                                                                                                    id\n",
       "fall_1                                          fall_2                                          fall_3                                          spring_1                                           spring_2                                    spring_3                                    blended    \n",
       "Statistical Learning Theory                     Анализ неструктурированных данных               Сбор и обработка данных с помощью краудсорсинга Обучение с подкреплением                           Конфликты и кооперация                      Компьютерное зрение                         DevOps    2\n",
       "Байесовские методы машинного обучения           Анализ неструктурированных данных               Глубинное обучение в обработке звука            Обучение с подкреплением                           Генеративные модели в машинном обучении     Компьютерное зрение                         DevOps    2\n",
       "                                                                                                Сбор и обработка данных с помощью краудсорсинга Обучение с подкреплением                           Компьютерное зрение                         Генеративные модели в машинном обучении     DevOps    2\n",
       "Безопасность компьютерных систем                Statistical Learning Theory                     Матричные вычисления                            Дискретная оптимизация                             Промышленное программирование на языке Java Дополнительные главы прикладной статистики            3\n",
       "                                                Высокопроизводительные вычисления               Анализ неструктурированных данных               Проектирование и разработка высоконагруженных с... Методы сжатия и передачи медиаданных        Конфликты и кооперация                      DevOps    2\n",
       "                                                                                                Язык SQL                                        Компьютерные сети                                  Промышленное программирование на языке Java Дискретная оптимизация                                3\n",
       "                                                                                                                                                Промышленное программирование на языке Java        Компьютерные сети                           Системы баз данных                                    2\n",
       "                                                Матричные вычисления                            Моделирование временных рядов                   Промышленное программирование на языке Java        Компьютерные сети                           Дискретная оптимизация                                2\n",
       "                                                Сбор и обработка данных с помощью краудсорсинга Матричные вычисления                            Компьютерные сети                                  Промышленное программирование на языке Java Анализ данных в бизнесе                               2\n",
       "                                                Теория баз данных                               Язык SQL                                        Машинное обучение 2                                Компьютерные сети                           Промышленное программирование на языке Java           2\n",
       "Высокопроизводительные вычисления               Безопасность компьютерных систем                Сбор и обработка данных с помощью краудсорсинга Проектирование и разработка высоконагруженных с... Методы сжатия и передачи медиаданных        Компьютерное зрение                         DevOps    2\n",
       "                                                Сбор и обработка данных с помощью краудсорсинга Моделирование временных рядов                   Проектирование и разработка высоконагруженных с... Методы сжатия и передачи медиаданных        Методы сжатия и передачи медиаданных        DevOps    2\n",
       "Моделирование временных рядов                   Сбор и обработка данных с помощью краудсорсинга Безопасность компьютерных систем                Компьютерные сети                                  Дополнительные главы прикладной статистики  Системы баз данных                                    2\n",
       "Сбор и обработка данных с помощью краудсорсинга Язык SQL                                        Теория баз данных                               Промышленное программирование на языке Java        Машинное обучение 2                         Компьютерные сети                                     2\n",
       "Язык SQL                                        Высокопроизводительные вычисления               Теория баз данных                               Компьютерные сети                                  Промышленное программирование на языке Java Дискретная оптимизация                                2"
      ]
     },
     "execution_count": 1253,
     "metadata": {},
     "output_type": "execute_result"
    }
   ],
   "source": [
    "pd.DataFrame(count.id)  # вот все наборы с числом выбравших их студентов (число в столбике id)"
   ]
  },
  {
   "cell_type": "markdown",
   "metadata": {
    "id": "spu3r3vchLu0"
   },
   "source": [
    "#### 7. [0.5 балла] Найдите курсы по выбору, на которые записывались как студенты 18-го года набора, так и студенты 17-го года."
   ]
  },
  {
   "cell_type": "code",
   "execution_count": 1254,
   "metadata": {
    "id": "t21fWi8ShLu0"
   },
   "outputs": [
    {
     "data": {
      "text/plain": [
       "{'Statistical Learning Theory',\n",
       " 'Безопасность компьютерных систем',\n",
       " 'Высокопроизводительные вычисления',\n",
       " 'Моделирование временных рядов',\n",
       " 'Принятие решений в условиях риска и неопределённости',\n",
       " 'Сбор и обработка данных с помощью краудсорсинга',\n",
       " 'Численные методы'}"
      ]
     },
     "execution_count": 1254,
     "metadata": {},
     "output_type": "execute_result"
    }
   ],
   "source": [
    "df_18 = df[df[\"18_group\"] != 0].iloc[:, 1:7]\n",
    "df_17 = df[df[\"17_group\"] != 0].iloc[:, 1:7]\n",
    "df_1718 = df.iloc[:, 1:7]\n",
    "all_courses = set(df_1718.values.reshape(1, -1)[0])\n",
    "courses_18 = set(df_18.values.reshape(1, -1)[0])\n",
    "courses_17 = set(df_17.values.reshape(1, -1)[0])\n",
    "courses_both = courses_17 & courses_18\n",
    "courses_both"
   ]
  },
  {
   "cell_type": "markdown",
   "metadata": {
    "id": "PYfX-Dr5hLu0"
   },
   "source": [
    "Методом исключения найдите курсы, которые предлагались только студентам 18-го года и только студентам 17-го года."
   ]
  },
  {
   "cell_type": "code",
   "execution_count": 1255,
   "metadata": {
    "id": "G9SWBOpehLu1"
   },
   "outputs": [
    {
     "data": {
      "text/plain": [
       "{'Анализ данных в бизнесе',\n",
       " 'Анализ неструктурированных данных',\n",
       " 'Байесовские методы машинного обучения',\n",
       " 'Генеративные модели в машинном обучении',\n",
       " 'Глубинное обучение в обработке звука',\n",
       " 'Дискретная оптимизация',\n",
       " 'Дополнительные главы прикладной статистики',\n",
       " 'Компьютерное зрение',\n",
       " 'Компьютерные сети',\n",
       " 'Конфликты и кооперация',\n",
       " 'Матричные вычисления',\n",
       " 'Машинное обучение 2',\n",
       " 'Методы сжатия и передачи медиаданных',\n",
       " 'Обучение с подкреплением',\n",
       " 'Проектирование и разработка высоконагруженных сервисов',\n",
       " 'Промышленное программирование на языке Java',\n",
       " 'Символьные вычисления',\n",
       " 'Системы баз данных',\n",
       " 'Теория баз данных',\n",
       " 'Язык SQL'}"
      ]
     },
     "execution_count": 1255,
     "metadata": {},
     "output_type": "execute_result"
    }
   ],
   "source": [
    "all_courses - courses_both"
   ]
  },
  {
   "cell_type": "markdown",
   "metadata": {
    "id": "uL45Tg5fhLu1"
   },
   "source": [
    "### Визуализации и matplotlib"
   ]
  },
  {
   "cell_type": "markdown",
   "metadata": {
    "id": "MY9lKmP2hLu1"
   },
   "source": [
    "При работе с данными часто неудобно делать какие-то выводы, если смотреть на таблицу и числа в частности, поэтому важно уметь визуализировать данные. Здесь будут описаны ключевые правила оформления графиков для **всех** домашних заданий.\n",
    "\n",
    "У matplotlib, конечно же, есть [документация](https://matplotlib.org/users/index.html) с большим количеством [примеров](https://matplotlib.org/examples/), но для начала достаточно знать про несколько основных типов графиков:\n",
    "- plot — обычный поточечный график, которым можно изображать кривые или отдельные точки;\n",
    "- hist — гистограмма, показывающая распределение некоторой величины;\n",
    "- scatter — график, показывающий взаимосвязь двух величин;\n",
    "- bar — столбцовый график, показывающий взаимосвязь количественной величины от категориальной.\n",
    "\n",
    "В этом задании вы попробуете построить один из них. Не забывайте про базовые принципы построения приличных графиков:\n",
    "- оси должны быть подписаны, причём не слишком мелко;\n",
    "- у графика должно быть название;\n",
    "- если изображено несколько графиков, то необходима поясняющая легенда;\n",
    "- все линии на графиках должны быть чётко видны (нет похожих цветов или цветов, сливающихся с фоном);\n",
    "- если отображена величина, имеющая очевидный диапазон значений (например, проценты могут быть от 0 до 100), то желательно масштабировать ось на весь диапазон значений (исключением является случай, когда вам необходимо показать малое отличие, которое незаметно в таких масштабах);\n",
    "- сетка на графике помогает оценить значения в точках на глаз, это обычно полезно, поэтому лучше ее отрисовывать;\n",
    "- если распределение на гистограмме имеет тяжёлые хвосты, лучше использовать логарифмическую шкалу.\n",
    "\n",
    "Полезные строчки:\n",
    "- для красивой картинки <code>%config InlineBackend.figure_format = 'retina'</code>\n",
    "- задаем размер (почти) всех графиков (можно выбрать другие значения) <code>plt.rcParams['figure.figsize'] = 8, 5</code>\n",
    "- размер шрифта подписей графиков <code>plt.rcParams['font.size'] = 12</code>\n",
    "- формат в котором сохраняется изображение <code>mpl.rcParams['savefig.format'] = 'pdf'</code>\n",
    "- sns – seaborn, добавляет решетку <code>sns.set_style('darkgrid')</code>"
   ]
  },
  {
   "cell_type": "code",
   "execution_count": 1256,
   "metadata": {
    "id": "na9doUOFhLu1"
   },
   "outputs": [],
   "source": [
    "%matplotlib inline\n",
    "import matplotlib.pyplot as plt"
   ]
  },
  {
   "cell_type": "markdown",
   "metadata": {
    "id": "kikwLpxfhLu1"
   },
   "source": [
    "#### 8. [0.5 балла] Постройте график средних рейтингов по дням получения ответов (bar plot)."
   ]
  },
  {
   "cell_type": "code",
   "execution_count": 1257,
   "metadata": {},
   "outputs": [
    {
     "data": {
      "text/plain": [
       "timestamp_days\n",
       "2020-05-14    1160.277778\n",
       "2020-05-15     719.866667\n",
       "2020-05-16     736.400000\n",
       "2020-05-17     915.027027\n",
       "2020-05-18     827.352679\n",
       "2020-05-19     761.142857\n",
       "2020-05-20     689.500000\n",
       "2020-05-21     584.000000\n",
       "2020-05-23    1080.500000\n",
       "2020-05-24     670.500000\n",
       "Name: rating, dtype: float64"
      ]
     },
     "execution_count": 1257,
     "metadata": {},
     "output_type": "execute_result"
    }
   ],
   "source": [
    "df[\"timestamp_days\"] = df.timestamp.dt.date  # создала столбец с днями ответов\n",
    "time_rating = df.groupby(['timestamp_days']).mean()['rating']  # тут как раз нужная информация хранится\n",
    "time_rating"
   ]
  },
  {
   "cell_type": "code",
   "execution_count": 1258,
   "metadata": {},
   "outputs": [],
   "source": [
    "ratings = time_rating.values\n",
    "time = time_rating.index"
   ]
  },
  {
   "cell_type": "code",
   "execution_count": 1259,
   "metadata": {},
   "outputs": [
    {
     "data": {
      "image/png": "[encoded data removed]",
      "text/plain": [
       "<Figure size 1440x720 with 1 Axes>"
      ]
     },
     "metadata": {
      "image/png": {
       "height": 610,
       "width": 1184
      },
      "needs_background": "light"
     },
     "output_type": "display_data"
    }
   ],
   "source": [
    "fig = plt.figure(figsize = (20, 10))\n",
    " \n",
    "plt.rcParams['font.size'] = 12\n",
    "mpl.rcParams['savefig.format'] = 'pdf'\n",
    "\n",
    "plt.bar(time, ratings, color = 'maroon',\n",
    "        width = 0.4)\n",
    "plt.grid(color='0.8', linewidth=1.7, alpha=0.2)\n",
    "plt.xticks(time)\n",
    "\n",
    "plt.xlabel(\"Дни\")\n",
    "plt.ylabel(\"Средние рейтинги\")\n",
    "plt.title(\"Зависимость средних рейтингов от дней\")\n",
    "\n",
    "plt.savefig(\"ratings_days.pdf\")\n",
    "plt.show()"
   ]
  },
  {
   "cell_type": "markdown",
   "metadata": {
    "id": "AmsQg9_xhLu2"
   },
   "source": [
    "Сохраните график в формате pdf (так он останется векторизованным).\n",
    "\n",
    "я сразу сохранила, когда строила!"
   ]
  },
  {
   "cell_type": "markdown",
   "metadata": {
    "id": "b7SBV6_GhLu2"
   },
   "source": [
    "Еще одна билиотека для визуализации: [seaborn](https://jakevdp.github.io/PythonDataScienceHandbook/04.14-visualization-with-seaborn.html). Это настройка над matplotlib, иногда удобнее и красивее делать визуализации через неё. "
   ]
  },
  {
   "cell_type": "markdown",
   "metadata": {
    "id": "sCgWwjl0hLu2"
   },
   "source": [
    "### 2. Распределение студентов по курсам."
   ]
  },
  {
   "cell_type": "markdown",
   "metadata": {
    "id": "VNqXUpr4hLu3"
   },
   "source": [
    "Теперь вам нужно распределить студентов по осенним курсам по выбору, учитывая их предпочтения."
   ]
  },
  {
   "cell_type": "markdown",
   "metadata": {
    "id": "5cAR2FgphLu3"
   },
   "source": [
    "Алгоритм распределения студентов по курсам:\n",
    "1. По умолчанию на каждой дисциплине по выбору у 3 и 4 курсов может учиться 1 группа (до 30 студентов). Исключения описаны ниже. На blended-дисциплинах для четверокурсников количество мест не ограничено.\n",
    "2. Проводится первая волна отбора. Для каждой дисциплины формируется список тех, кто указал её первым приоритетом (если студент должен выбрать два курса по выбору, то для него дисциплины, которые он указал первым и вторым приоритетом, рассматриваются как дисциплины первого приоритета). Если желающих больше, чем мест, то выбирается топ по перцентилю рейтинга.\n",
    "3. На дисциплинах, где остались места после первой волны, формируются списки тех, кто выбрал их вторым приоритетом, и места заполняются лучшими по перцентили рейтинга студентами. После этого проводится такая же процедура для дисциплин третьего приоритета.\n",
    "4. Если студент не попал на необходимое количество курсов по итогам трёх волн, с ним связывается учебный офис и решает вопрос в индивидуальном порядке."
   ]
  },
  {
   "cell_type": "markdown",
   "metadata": {
    "id": "BiNKVwS6hLu3"
   },
   "source": [
    "Обращаем ваше внимание на следующие детали:\n",
    "\n",
    "- По умолчанию студент выбирает один осенний и один весенний курс по выбору, а также четверокурсники выбирают один blended-курс. Студенты групп 17-го года специализации МОП и ТИ выбирают по 2 осенних и 2 весенних курса по выбору, также студенты групп 18' специализации МИ выбирают 2 осенних курса. <i>Для студентов, которые выбирают 2 курса (например, осенних) первый приоритет — <code>fall_1</code> и <code>fall_2</code>, второй приоритет — <code>fall_3</code>. Такие студенты участвуют только в двух волнах отбора</i>.\n",
    "\n",
    "- Студенты специализации МОП не могут выбрать весенним курсом по выбору Машинное обучение 2. <i>Если студент специализации МОП выбрал Машинное обучение 2, то его приоритеты сдвигаются. Из-за совпадений первого и второго курса по выбору двигать приоритеты не надо</i>.\n",
    "\n",
    "- Blended-курсы не трогайте, по ним не надо распределять, на другие курсы они никак не влияют.\n",
    "\n",
    "- Постарайтесь воздержаться от использования циклов там, где это возможно. <i>Допустимо итерироваться по <b>курсам</b>, на которые проводится отбор, и по <b>волнам</b> отбора. Если вы придумаете, как обойтись и без этих циклов, то на усмотрение проверяющего могут быть добавлены бонусные баллы. <b>Дублирование кода не признается успешным избавлением от циклов</b></i>\n",
    "\n",
    "- На выходе ожидается файл res_fall.csv с результатами распределения на осенние курсы по выбору. Файл должен быть следующего формата:\n",
    "\n",
    "    * три столбца: ID, course1, course2\n",
    "    \n",
    "    * Если студент не попал на курс, но должен был, то вместо названия курса в ячейке должна быть строка \"???\"\n",
    "    \n",
    "    * Если студент должен выбрать только один курс, то в колонке course2 для него должна стоять строка \"-\"\n",
    "    \n",
    "    * Если студент должен выбрать два курса по выбору, то порядок в колонках course1 и course2 не важен.\n",
    "    \n",
    "    * Формат csv: для сохранения воспользуйтесь df.to_csv('solution.csv', index=None)\n",
    "    \n",
    "\n",
    "Для работы вам могут понадобиться следующие данные:\n",
    "\n",
    "- Результаты опроса (вы уже использовали этот файл в первой части задания, но на всякий случай ссылка: https://www.dropbox.com/s/f4rm8sjc3v99p0m/_end_seminar.xlsx?dl=0)\n",
    "\n",
    "- Соответствие номеров групп специализациям:\n",
    "\n",
    "    * 171, 172 - МОП; 173 - ТИ; 174 — АДИС; 175, 176 — РС; 177 — АПР\n",
    "    \n",
    "    * У студентов 18-го года номера групп соответствуют номерам до распределения по специализациям.\n",
    "\n",
    "- Ограничения по количеству мест на курсах по выбору:\n",
    "\n",
    "    * Осенние: везде 30 мест, кроме Statistical Learning Theory (60 мест), Высокопроизводительных вычислений (60 мест), Анализа неструктурированных данных ($\\infty$ мест)\n",
    "\n",
    "    * Весенние: везде 30 мест, кроме Обучения с подкреплением (60 мест), Анализа данных в бизнесе (60 мест).\n",
    "\n",
    "\n",
    "Кстати, убедитесь, что в данных больше нет пропусков и повторных записей."
   ]
  },
  {
   "cell_type": "markdown",
   "metadata": {
    "id": "o5t55IcQhLu4"
   },
   "source": [
    "#### 0. Проверка\n",
    "\n",
    "Для начала давайте убедимся, что вы успешно выполнили задания первой части и проверим ваши данные на наличие пропусков и повторов:"
   ]
  },
  {
   "cell_type": "code",
   "execution_count": 1882,
   "metadata": {
    "id": "34HWEdVdhLu4"
   },
   "outputs": [],
   "source": [
    "assert df.shape[0] == 347, 'В таблице остались повторы или потеряны данные'\n",
    "\n",
    "assert df.isna().sum().sum() == 0, 'В таблице остались пропуски'"
   ]
  },
  {
   "cell_type": "markdown",
   "metadata": {
    "id": "_ImUFyG3hLu4"
   },
   "source": [
    "Если вы не получили AssertionError, то можете продолжать."
   ]
  },
  {
   "cell_type": "markdown",
   "metadata": {
    "id": "LTGSwwvAhLu4"
   },
   "source": [
    "#### 1. [1 балл] Создайте новый признак, обозначающий, сколько осенних курсов должен выбрать студент\n",
    "\n",
    "В этом вам может помочь информация о специализации и группе стундента."
   ]
  },
  {
   "cell_type": "code",
   "execution_count": 1261,
   "metadata": {},
   "outputs": [
    {
     "data": {
      "text/plain": [
       "0"
      ]
     },
     "execution_count": 1261,
     "metadata": {},
     "output_type": "execute_result"
    }
   ],
   "source": [
    "len(df[((df[\"17_group\"] == 171.0) | (df[\"17_group\"] == 172.0)) & (df[\"is_ml_student\"] == 1.0)])"
   ]
  },
  {
   "cell_type": "markdown",
   "metadata": {},
   "source": [
    "значит, для групп 17-го года столбец is_ml_student и is_mi смысла не имеют. эти столбцы только для 18."
   ]
  },
  {
   "cell_type": "code",
   "execution_count": 1883,
   "metadata": {},
   "outputs": [],
   "source": [
    "df[\"is_ml_ti_student_17\"] = ((df[\"17_group\"] == 171.0) | (df[\"17_group\"] == 172.0) | (df[\"17_group\"] == 173.0))"
   ]
  },
  {
   "cell_type": "code",
   "execution_count": 1884,
   "metadata": {
    "id": "ouxo0kHFhLu4"
   },
   "outputs": [],
   "source": [
    "df[\"is_ml_student\"] = (df[\"17_group\"] == 171.0) | (df[\"17_group\"] == 172.0) | (df[\"is_ml_student\"] == 1.0)"
   ]
  },
  {
   "cell_type": "code",
   "execution_count": 1486,
   "metadata": {},
   "outputs": [],
   "source": [
    "df[\"courses_num_fall\"] = ((df[\"is_ml_ti_student_17\"] == True) | (df[\"is_mi\"] == True)) + 1"
   ]
  },
  {
   "cell_type": "markdown",
   "metadata": {
    "id": "S47aq1sQhLu4"
   },
   "source": [
    "Проверка:"
   ]
  },
  {
   "cell_type": "code",
   "execution_count": 1726,
   "metadata": {
    "id": "OlOgzDKDhLu5"
   },
   "outputs": [],
   "source": [
    "col_name = \"courses_num_fall\"\n",
    "\n",
    "assert(df[df['id'] == '2662600c2c37e11e62f6ee0b88452f22'][col_name] == 2).all()\n",
    "assert(df[df['id'] == 'd555d2805e1d93d4f023e57dc4c8f403'][col_name] == 2).all()\n",
    "assert(df[df['id'] == '8fe79f84f36e3a5d2d6745621321302c'][col_name] == 1).all()\n",
    "assert(df[df['id'] == 'e4caca755ee0bdd711e18fb8084958b5'][col_name] == 1).all()"
   ]
  },
  {
   "cell_type": "markdown",
   "metadata": {
    "id": "VtQYhwuPhLu5"
   },
   "source": [
    "#### 2. [2 балла] Распределите студентов в соответствии с первым приоритетом"
   ]
  },
  {
   "cell_type": "code",
   "execution_count": 1727,
   "metadata": {},
   "outputs": [],
   "source": [
    "all_courses = list(all_courses)  # а то неудобно"
   ]
  },
  {
   "cell_type": "code",
   "execution_count": 1728,
   "metadata": {},
   "outputs": [],
   "source": [
    "df = df.sort_values(by=['percentile']).reset_index()\n",
    "df.index = df.index + 1\n",
    "\n",
    "# отсортировала по перцентилю, сбросила индексы и сделала, чтобы они были с единицы (я потом на индекс буду умножать)"
   ]
  },
  {
   "cell_type": "code",
   "execution_count": 1729,
   "metadata": {},
   "outputs": [],
   "source": [
    "df = df.drop(columns=['index'])"
   ]
  },
  {
   "cell_type": "code",
   "execution_count": 1730,
   "metadata": {},
   "outputs": [],
   "source": [
    "for course in all_courses:\n",
    "    df[course] = (df.index * ((((df[\"is_mi\"] != 0) | (df[\"is_ml_ti_student_17\"] != 0)) & \n",
    "                               (df[\"fall_2\"] == course)) | (df[\"fall_1\"] == course)))\n",
    "    \n",
    "# теперь в столбике каждого курса стоит или 0, если студент на этот курс в первую волну не хотел, или номер студента"
   ]
  },
  {
   "cell_type": "code",
   "execution_count": 1731,
   "metadata": {},
   "outputs": [],
   "source": [
    "# сразу сделаю столбики для задания чуть ниже\n",
    "\n",
    "df[\"is_first_place\"] = pd.Series(np.ones(df.shape[0]) * np.nan)\n",
    "df[\"is_last_place\"] = pd.Series(np.ones(df.shape[0]) * np.nan)"
   ]
  },
  {
   "cell_type": "code",
   "execution_count": 1732,
   "metadata": {},
   "outputs": [],
   "source": [
    "for course in all_courses:\n",
    "    course_want = df[course][df[course] != 0].values.astype(int)\n",
    "    course_num = len(course_want)\n",
    "    \n",
    "    # если курс а-ля МО-2, который осенью никто не взял, просто пропускаем. мне подходит, что в этом столбике останутся все 0\n",
    "    if course_num == 0:\n",
    "        continue\n",
    "    \n",
    "    # разбираюсь с числом мест на курс\n",
    "    if (course == 'Statistical Learning Theory') or (course == 'Высокопроизводительные вычисления'):\n",
    "        places = min(60, course_num)\n",
    "    elif course == 'Анализ неструктурированных данных':\n",
    "        places = course_num\n",
    "    else:\n",
    "        places = min(30, course_num)\n",
    "    \n",
    "    # определяю номер в df первого и последнего взятого (df отсортирована по перцентилю)\n",
    "    first_taken = course_want[0]\n",
    "    last_taken = course_want[places - 1]\n",
    "    \n",
    "    # чтобы были не индексы в столбиках, а 1 -- кого взяли, 0 -- кого нет или кто не хотел\n",
    "    taken = df[course][:last_taken]\n",
    "    taken[taken != 0] = 1\n",
    "    \n",
    "    # теперь в столбике курса будут 0 у тех, кто не пошел или кого не взяли, и номер в df у остальных\n",
    "    df[course] = np.append(taken, 0 * df[course][last_taken:])\n",
    "    \n",
    "    # делаю для следующего задания штуку: фиксирую первого и последнего взятого в нужных столбиках\n",
    "    df.loc[first_taken, \"is_first_place\"] = True\n",
    "    df.loc[last_taken, \"is_last_place\"] = True\n",
    "    \n",
    "# тут я посчитала число желающих на каждый курс, посчитала, сколько человек возьмут, нашла номер последнего попавшего\n",
    "# и в каждом столбике курса обнулила ячейки ниже его. получилось, что 0 стоят у тех, кто не попал, и у тех, кто и не хотел"
   ]
  },
  {
   "cell_type": "markdown",
   "metadata": {
    "id": "vc5zXP5hhLu5"
   },
   "source": [
    "Здесь для проверки приведена таблица, в которой есть 2 дополнительные колонки:\n",
    "    \n",
    "    1) is_first_place - является ли студент лучшим по перцентили хотя бы на одном из курсов, куда он был зачислен \n",
    "    (True / NaN)\n",
    "    \n",
    "    2) is_last_place  - является ли студент худшим по перцентили хотя бы на одном из курсов, куда он был зачислен (True / NaN)"
   ]
  },
  {
   "cell_type": "markdown",
   "metadata": {
    "id": "E_fbyB9qhLu5"
   },
   "source": [
    "После распределения студентов в соответствии с первым приоритетом добавьте в свой датафрейм аналогичные признаки и запустите проверку:"
   ]
  },
  {
   "cell_type": "code",
   "execution_count": 1733,
   "metadata": {
    "id": "GOAzQeYehLu6"
   },
   "outputs": [],
   "source": [
    "fir_col_name = \"is_first_place\"\n",
    "last_col_name = \"is_last_place\"\n",
    "\n",
    "\n",
    "assert((df[df[fir_col_name].isna() == False][['id']].sort_values('id').reset_index(drop=True)\n",
    "        ==\n",
    "        check_df[check_df['is_first_place'].isna() == False][['id']].sort_values('id').reset_index(drop=True)\n",
    "       ).id.values).all()\n",
    "\n",
    "\n",
    "assert((df[df[last_col_name].isna() == False][['id']].sort_values('id').reset_index(drop=True)\n",
    "       == \n",
    "       check_df[check_df['is_last_place'].isna() == False][['id']].sort_values('id').reset_index(drop=True)\n",
    "      ).id.values).all()"
   ]
  },
  {
   "cell_type": "code",
   "execution_count": 1734,
   "metadata": {},
   "outputs": [],
   "source": [
    "df[\"course1\"] = pd.Series(np.ones(df.shape[0] + 1) * (-1))\n",
    "df[\"course2\"] = pd.Series(np.ones(df.shape[0] + 1) * (-1))"
   ]
  },
  {
   "cell_type": "code",
   "execution_count": 1735,
   "metadata": {},
   "outputs": [],
   "source": [
    "for course in all_courses:\n",
    "    df.loc[(df[course] != 0) & (df[\"course1\"] != -1), \"course2\"] = course\n",
    "    df.loc[(df[course] != 0) & (df[\"course1\"] == -1), \"course1\"] = course"
   ]
  },
  {
   "cell_type": "code",
   "execution_count": 1832,
   "metadata": {},
   "outputs": [],
   "source": [
    "df.loc[(df[\"course1\"] == df[\"course2\"]) & (df[\"course1\"] != -1), \"course2\"] = -1"
   ]
  },
  {
   "cell_type": "markdown",
   "metadata": {
    "id": "RO6DwNNFhLu6"
   },
   "source": [
    "#### 3. [3 балла] Проведите все три волны отбора студентов на курсы по выбору"
   ]
  },
  {
   "cell_type": "code",
   "execution_count": 1833,
   "metadata": {},
   "outputs": [],
   "source": [
    "df[\"is_1_wave\"] = (df[\"courses_num_fall\"] == df.iloc[:, 18:45].sum(axis=1))"
   ]
  },
  {
   "cell_type": "markdown",
   "metadata": {},
   "source": [
    "**2 волна**"
   ]
  },
  {
   "cell_type": "code",
   "execution_count": 1834,
   "metadata": {},
   "outputs": [],
   "source": [
    "# тут будет количество оставшихся мест\n",
    "\n",
    "course_places = dict()\n",
    "for course in all_courses:\n",
    "    reserved = (df[course])[df[course] != 0]\n",
    "    \n",
    "    if (course == 'Statistical Learning Theory') or (course == 'Высокопроизводительные вычисления'):\n",
    "        places = 60\n",
    "    elif course == 'Анализ неструктурированных данных':\n",
    "        places = df.shape[0] + 100\n",
    "    else:\n",
    "        places = 30\n",
    "    \n",
    "    course_places[course] = places - reserved.shape[0]"
   ]
  },
  {
   "cell_type": "code",
   "execution_count": 1835,
   "metadata": {},
   "outputs": [],
   "source": [
    "# сюда сохраним тех, кто в первую волну управился. для тех, кому нужно выбрать только один курс, вторым курсом поставим -\n",
    "\n",
    "first = df[df[\"is_1_wave\"] == True]\n",
    "first.loc[first[\"courses_num_fall\"] == 1, \"course2\"] = '-'"
   ]
  },
  {
   "cell_type": "code",
   "execution_count": 1836,
   "metadata": {
    "id": "jn2OOrLjhLu6"
   },
   "outputs": [],
   "source": [
    "# это кто остался на вторую волну\n",
    "\n",
    "second = df[df[\"is_1_wave\"] == False]"
   ]
  },
  {
   "cell_type": "code",
   "execution_count": 1837,
   "metadata": {},
   "outputs": [],
   "source": [
    "second = second.sort_values(by=['percentile']).reset_index()\n",
    "second = second.drop(columns=['index'])"
   ]
  },
  {
   "cell_type": "code",
   "execution_count": 1838,
   "metadata": {},
   "outputs": [],
   "source": [
    "second.index = second.index + 1"
   ]
  },
  {
   "cell_type": "code",
   "execution_count": 1839,
   "metadata": {},
   "outputs": [],
   "source": [
    "for course in all_courses:\n",
    "    second[course] = np.zeros(second.shape[0])\n",
    "    \n",
    "# вдруг на какой-то курс никто не захотел вторым или третьим приоритетом. останется старая инфа, тут она будет неверная"
   ]
  },
  {
   "cell_type": "code",
   "execution_count": 1840,
   "metadata": {},
   "outputs": [],
   "source": [
    "for course in all_courses:\n",
    "    second[course] = (second.index * ((((second[\"is_mi\"] != 0) | (second[\"is_ml_ti_student_17\"] != 0)) & \n",
    "                               (second[\"fall_3\"] == course)) | \n",
    "                                      ((second[\"is_mi\"] == 0) & (second[\"is_ml_ti_student_17\"] == 0)) &\n",
    "                                      (second[\"fall_2\"] == course)))\n",
    "    \n",
    "# теперь в столбике каждого курса стоит или 0, если студент на этот курс в первую волну не хотел, или номер студента\n",
    "# отсортировала по перцентилю, сбросила индексы и сделала, чтобы они были с единицы (я потом на индекс буду умножать)"
   ]
  },
  {
   "cell_type": "code",
   "execution_count": 1841,
   "metadata": {},
   "outputs": [],
   "source": [
    "for course in all_courses:\n",
    "    course_want = second[course][second[course] != 0].values.astype(int)\n",
    "    course_num = len(course_want)\n",
    "    \n",
    "    # если курс а-ля МО-2, который осенью никто не взял, просто пропускаем. мне подходит, что в этом столбике останутся все 0\n",
    "    if course_num == 0:\n",
    "        continue\n",
    "    \n",
    "    places = min(course_num, course_places[course])\n",
    "    last_taken = course_want[places - 1]\n",
    "    \n",
    "    # чтобы были не индексы в столбиках, а 1 -- кого взяли, 0 -- кого нет или кто не хотел\n",
    "    taken = second[course][:last_taken]\n",
    "    taken[taken != 0] = 1\n",
    "    \n",
    "    # теперь в столбике курса будут 0 у тех, кто не пошел или кого не взяли, и номер в df у остальных\n",
    "    second[course] = np.append(taken, 0 * second[course][last_taken:])\n",
    "    \n",
    "    course_places[course] -= places\n",
    "# тут я посчитала число желающих на каждый курс, посчитала, сколько человек возьмут, нашла номер последнего попавшего\n",
    "# и в каждом столбике курса обнулила ячейки ниже его. получилось, что 0 стоят у тех, кто не попал, и у тех, кто и не хотел"
   ]
  },
  {
   "cell_type": "code",
   "execution_count": 1842,
   "metadata": {},
   "outputs": [],
   "source": [
    "for course in all_courses:\n",
    "    second.loc[(second[course] != 0) & (second[\"course1\"] != -1), \"course2\"] = course\n",
    "    second.loc[(second[course] != 0) & (second[\"course1\"] == -1), \"course1\"] = course"
   ]
  },
  {
   "cell_type": "code",
   "execution_count": 1845,
   "metadata": {},
   "outputs": [],
   "source": [
    "second.loc[(second[\"course1\"] == second[\"course2\"]) & (second[\"course1\"] != -1), \"course2\"] = -1"
   ]
  },
  {
   "cell_type": "code",
   "execution_count": 1847,
   "metadata": {},
   "outputs": [],
   "source": [
    "second[\"is_2_wave\"] = (pd.Series(np.ones(second.shape[0] + 1)) == 4.0)"
   ]
  },
  {
   "cell_type": "code",
   "execution_count": 1848,
   "metadata": {},
   "outputs": [],
   "source": [
    "second.loc[((second[\"courses_num_fall\"] == 2) & (second[\"course1\"] != -1) & (second[\"course2\"] != -1)), \"is_2_wave\"] = True"
   ]
  },
  {
   "cell_type": "code",
   "execution_count": 1849,
   "metadata": {},
   "outputs": [],
   "source": [
    "second.loc[((second[\"course1\"] != -1) & (second[\"courses_num_fall\"] == 1)), \"is_2_wave\"] = True"
   ]
  },
  {
   "cell_type": "code",
   "execution_count": 1850,
   "metadata": {},
   "outputs": [],
   "source": [
    "third = second[second[\"is_2_wave\"] == False]\n",
    "\n",
    "# список для третьей волны"
   ]
  },
  {
   "cell_type": "code",
   "execution_count": 1851,
   "metadata": {},
   "outputs": [],
   "source": [
    "# оставим только вторую\n",
    "\n",
    "second = second[second[\"is_2_wave\"] == True]\n",
    "second.loc[second[\"courses_num_fall\"] == 1, \"course2\"] = '-'"
   ]
  },
  {
   "cell_type": "markdown",
   "metadata": {},
   "source": [
    "**3 волна** (извиняюсь, что не сделала как-нибудь красиво функцией...)"
   ]
  },
  {
   "cell_type": "code",
   "execution_count": 1852,
   "metadata": {},
   "outputs": [],
   "source": [
    "third = third.sort_values(by=['percentile']).reset_index()\n",
    "third = third.drop(columns=['index'])"
   ]
  },
  {
   "cell_type": "code",
   "execution_count": 1853,
   "metadata": {},
   "outputs": [],
   "source": [
    "third.index = third.index + 1"
   ]
  },
  {
   "cell_type": "code",
   "execution_count": 1854,
   "metadata": {},
   "outputs": [],
   "source": [
    "for course in all_courses:\n",
    "    third[course] = np.zeros(third.shape[0])\n",
    "    \n",
    "# вдруг на какой-то курс никто не захотел вторым или третьим приоритетом. останется старая инфа, тут она будет неверная"
   ]
  },
  {
   "cell_type": "code",
   "execution_count": 1855,
   "metadata": {},
   "outputs": [],
   "source": [
    "for course in all_courses:\n",
    "    third[course] = (third.index * (((third[\"is_mi\"] == 0) & (third[\"is_ml_ti_student_17\"] == 0)) &\n",
    "                                      (third[\"fall_3\"] == course)))\n",
    "    \n",
    "# теперь в столбике каждого курса стоит или 0, если студент на этот курс в первую волну не хотел, или номер студента\n",
    "# отсортировала по перцентилю, сбросила индексы и сделала, чтобы они были с единицы (я потом на индекс буду умножать)"
   ]
  },
  {
   "cell_type": "code",
   "execution_count": 1856,
   "metadata": {},
   "outputs": [],
   "source": [
    "for course in all_courses:\n",
    "    course_want = third[course][third[course] != 0].values.astype(int)\n",
    "    course_num = len(course_want)\n",
    "    \n",
    "    # если курс а-ля МО-2, который осенью никто не взял, просто пропускаем. мне подходит, что в этом столбике останутся все 0\n",
    "    if course_num == 0:\n",
    "        continue\n",
    "    \n",
    "    places = min(course_num, course_places[course])\n",
    "    last_taken = course_want[places - 1]\n",
    "    \n",
    "    # чтобы были не индексы в столбиках, а 1 -- кого взяли, 0 -- кого нет или кто не хотел\n",
    "    taken = third[course][:last_taken]\n",
    "    taken[taken != 0] = 1\n",
    "    \n",
    "    # теперь в столбике курса будут 0 у тех, кто не пошел или кого не взяли, и номер в df у остальных\n",
    "    third[course] = np.append(taken, 0 * third[course][last_taken:])\n",
    "    \n",
    "# тут я посчитала число желающих на каждый курс, посчитала, сколько человек возьмут, нашла номер последнего попавшего\n",
    "# и в каждом столбике курса обнулила ячейки ниже его. получилось, что 0 стоят у тех, кто не попал, и у тех, кто и не хотел"
   ]
  },
  {
   "cell_type": "code",
   "execution_count": 1857,
   "metadata": {},
   "outputs": [],
   "source": [
    "for course in all_courses:\n",
    "    third.loc[(third[course] != 0) & (third[\"course1\"] != -1), \"course2\"] = course\n",
    "    third.loc[(third[course] != 0) & (third[\"course1\"] == -1), \"course1\"] = course"
   ]
  },
  {
   "cell_type": "code",
   "execution_count": 1863,
   "metadata": {},
   "outputs": [],
   "source": [
    "third.loc[(third[\"course1\"] == third[\"course2\"]) & (third[\"course1\"] != -1), \"course2\"] = -1"
   ]
  },
  {
   "cell_type": "code",
   "execution_count": 1864,
   "metadata": {},
   "outputs": [],
   "source": [
    "third[\"is_3_wave\"] = (pd.Series(np.ones(third.shape[0] + 1)) == 4.0)\n",
    "third.loc[((third[\"courses_num_fall\"] == 2) & (third[\"course1\"] != -1) & (third[\"course2\"] != -1)), \"is_3_wave\"] = True\n",
    "third.loc[((third[\"course1\"] != -1) & (third[\"courses_num_fall\"] == 1)), \"is_3_wave\"] = True"
   ]
  },
  {
   "cell_type": "code",
   "execution_count": 1865,
   "metadata": {},
   "outputs": [],
   "source": [
    "loosers = third[third[\"is_3_wave\"] == False]\n",
    "\n",
    "# кто не смог набрать нужное число курсов"
   ]
  },
  {
   "cell_type": "code",
   "execution_count": 1866,
   "metadata": {},
   "outputs": [],
   "source": [
    "loosers.loc[loosers[\"course1\"] == -1, \"course1\"] = '???'\n",
    "loosers.loc[loosers[\"course2\"] == -1, \"course2\"] = '???'"
   ]
  },
  {
   "cell_type": "code",
   "execution_count": 1867,
   "metadata": {},
   "outputs": [],
   "source": [
    "third = third[third[\"is_3_wave\"] == True]\n",
    "third.loc[third[\"courses_num_fall\"] == 1, \"course2\"] = '-'"
   ]
  },
  {
   "cell_type": "code",
   "execution_count": 1868,
   "metadata": {},
   "outputs": [],
   "source": [
    "# теперь надо объединить таблицы\n",
    "\n",
    "first_courses = first.loc[:, [\"id\", \"course1\", \"course2\"]]\n",
    "second_courses = second.loc[:, [\"id\", \"course1\", \"course2\"]]\n",
    "third_courses = third.loc[:, [\"id\", \"course1\", \"course2\"]]\n",
    "loosers_courses = loosers.loc[:, [\"id\", \"course1\", \"course2\"]]"
   ]
  },
  {
   "cell_type": "code",
   "execution_count": 1869,
   "metadata": {},
   "outputs": [],
   "source": [
    "result = pd.concat([first_courses,second_courses,third_courses,loosers_courses],axis=0).reset_index()\n",
    "result = result.drop(columns=['index'])"
   ]
  },
  {
   "cell_type": "code",
   "execution_count": 1870,
   "metadata": {},
   "outputs": [
    {
     "data": {
      "text/html": [
       "<div>\n",
       "<style scoped>\n",
       "    .dataframe tbody tr th:only-of-type {\n",
       "        vertical-align: middle;\n",
       "    }\n",
       "\n",
       "    .dataframe tbody tr th {\n",
       "        vertical-align: top;\n",
       "    }\n",
       "\n",
       "    .dataframe thead th {\n",
       "        text-align: right;\n",
       "    }\n",
       "</style>\n",
       "<table border=\"1\" class=\"dataframe\">\n",
       "  <thead>\n",
       "    <tr style=\"text-align: right;\">\n",
       "      <th></th>\n",
       "      <th>id</th>\n",
       "      <th>course1</th>\n",
       "      <th>course2</th>\n",
       "    </tr>\n",
       "  </thead>\n",
       "  <tbody>\n",
       "    <tr>\n",
       "      <td>0</td>\n",
       "      <td>3a7326c9e355a67d3805824ca34c4bc5</td>\n",
       "      <td>Высокопроизводительные вычисления</td>\n",
       "      <td>Statistical Learning Theory</td>\n",
       "    </tr>\n",
       "    <tr>\n",
       "      <td>1</td>\n",
       "      <td>3e106aaef8b24dbb01319c73e14c2936</td>\n",
       "      <td>Безопасность компьютерных систем</td>\n",
       "      <td>-</td>\n",
       "    </tr>\n",
       "    <tr>\n",
       "      <td>2</td>\n",
       "      <td>e0ca1a9548af9a3f98428c62420aa484</td>\n",
       "      <td>Матричные вычисления</td>\n",
       "      <td>-</td>\n",
       "    </tr>\n",
       "    <tr>\n",
       "      <td>3</td>\n",
       "      <td>7fe7df0d207babbf30249b3063ac1f26</td>\n",
       "      <td>Высокопроизводительные вычисления</td>\n",
       "      <td>-</td>\n",
       "    </tr>\n",
       "    <tr>\n",
       "      <td>4</td>\n",
       "      <td>86d929f6fd741e56e93cee5900298849</td>\n",
       "      <td>Сбор и обработка данных с помощью краудсорсинга</td>\n",
       "      <td>-</td>\n",
       "    </tr>\n",
       "    <tr>\n",
       "      <td>...</td>\n",
       "      <td>...</td>\n",
       "      <td>...</td>\n",
       "      <td>...</td>\n",
       "    </tr>\n",
       "    <tr>\n",
       "      <td>342</td>\n",
       "      <td>e0fceae1e285f737630bb6123a1bd85d</td>\n",
       "      <td>Высокопроизводительные вычисления</td>\n",
       "      <td>???</td>\n",
       "    </tr>\n",
       "    <tr>\n",
       "      <td>343</td>\n",
       "      <td>7fcf56aae6836855a689000a50e80360</td>\n",
       "      <td>Безопасность компьютерных систем</td>\n",
       "      <td>???</td>\n",
       "    </tr>\n",
       "    <tr>\n",
       "      <td>344</td>\n",
       "      <td>d40cbae8cfc9e6c5d05831ef7e122f3e</td>\n",
       "      <td>Анализ неструктурированных данных</td>\n",
       "      <td>???</td>\n",
       "    </tr>\n",
       "    <tr>\n",
       "      <td>345</td>\n",
       "      <td>0c0cbdd1a309c1d1fd8993c4dc907bb5</td>\n",
       "      <td>Моделирование временных рядов</td>\n",
       "      <td>???</td>\n",
       "    </tr>\n",
       "    <tr>\n",
       "      <td>346</td>\n",
       "      <td>be4fa2120de3397ae21eac38ff0060e3</td>\n",
       "      <td>???</td>\n",
       "      <td>???</td>\n",
       "    </tr>\n",
       "  </tbody>\n",
       "</table>\n",
       "<p>347 rows × 3 columns</p>\n",
       "</div>"
      ],
      "text/plain": [
       "                                   id  \\\n",
       "0    3a7326c9e355a67d3805824ca34c4bc5   \n",
       "1    3e106aaef8b24dbb01319c73e14c2936   \n",
       "2    e0ca1a9548af9a3f98428c62420aa484   \n",
       "3    7fe7df0d207babbf30249b3063ac1f26   \n",
       "4    86d929f6fd741e56e93cee5900298849   \n",
       "..                                ...   \n",
       "342  e0fceae1e285f737630bb6123a1bd85d   \n",
       "343  7fcf56aae6836855a689000a50e80360   \n",
       "344  d40cbae8cfc9e6c5d05831ef7e122f3e   \n",
       "345  0c0cbdd1a309c1d1fd8993c4dc907bb5   \n",
       "346  be4fa2120de3397ae21eac38ff0060e3   \n",
       "\n",
       "                                             course1  \\\n",
       "0                  Высокопроизводительные вычисления   \n",
       "1                   Безопасность компьютерных систем   \n",
       "2                               Матричные вычисления   \n",
       "3                  Высокопроизводительные вычисления   \n",
       "4    Сбор и обработка данных с помощью краудсорсинга   \n",
       "..                                               ...   \n",
       "342                Высокопроизводительные вычисления   \n",
       "343                 Безопасность компьютерных систем   \n",
       "344                Анализ неструктурированных данных   \n",
       "345                    Моделирование временных рядов   \n",
       "346                                              ???   \n",
       "\n",
       "                         course2  \n",
       "0    Statistical Learning Theory  \n",
       "1                              -  \n",
       "2                              -  \n",
       "3                              -  \n",
       "4                              -  \n",
       "..                           ...  \n",
       "342                          ???  \n",
       "343                          ???  \n",
       "344                          ???  \n",
       "345                          ???  \n",
       "346                          ???  \n",
       "\n",
       "[347 rows x 3 columns]"
      ]
     },
     "execution_count": 1870,
     "metadata": {},
     "output_type": "execute_result"
    }
   ],
   "source": [
    "result"
   ]
  },
  {
   "cell_type": "code",
   "execution_count": 1873,
   "metadata": {},
   "outputs": [],
   "source": [
    "result.rename(columns = {'id':'ID'}, inplace = True)"
   ]
  },
  {
   "cell_type": "code",
   "execution_count": 1875,
   "metadata": {},
   "outputs": [],
   "source": [
    "result.to_csv('res_fall.csv', index=None)"
   ]
  },
  {
   "cell_type": "markdown",
   "metadata": {
    "id": "1xQjV9BuhLu6"
   },
   "source": [
    "**Отправьте свой файл res_fall.csv в контест (https://contest.yandex.ru/contest/29176/problems/A/) и прикрепите/укажите ниже ваш никнейм и ссылку на успешную посылку.**"
   ]
  },
  {
   "cell_type": "markdown",
   "metadata": {},
   "source": [
    "никнейм: a.dtc\n",
    "посылка: https://contest.yandex.ru/contest/29176/run-report/53498438/"
   ]
  },
  {
   "cell_type": "markdown",
   "metadata": {
    "id": "QRTbPrgbhLu6"
   },
   "source": [
    "*Дисклеймер:*\n",
    "\n",
    "Контест выдаётся для самопроверки. Если ваша посылка получила ОК, то код, скорее всего, правильный. Но при этом оценка всё равно может быть снижена в случае обнаружения неэффективностей или ошибок в коде. Если вы сдадите в AnyTask очевидно неработающий код или ноутбук без кода, но при этом в контест будет сдан корректный файл, то это будет расцениваться как плагиат."
   ]
  },
  {
   "cell_type": "markdown",
   "metadata": {
    "id": "1IkQa_gdhLu6"
   },
   "source": [
    "На всякий случай просим вас сдать вместе с ноутбуком файл res_fall.csv в anytask"
   ]
  },
  {
   "cell_type": "markdown",
   "metadata": {
    "id": "k8d711qGhLu7"
   },
   "source": [
    "**Дополнительное задание. [2 бонусных балла] Распределите таким же образом студентов еще и на весенние курсы по выбору.**\n",
    "\n",
    "Если ваш код был хорошо структурирован, то это не составит проблем. \n",
    "\n",
    "Если вы выполнили это задание, сдайте среди прочего файл res_spring.csv в таком же формате, как и res_fall.csv."
   ]
  },
  {
   "cell_type": "code",
   "execution_count": 1888,
   "metadata": {},
   "outputs": [],
   "source": [
    "# я df заново запустила\n",
    "\n",
    "df[\"ml_17\"] = ((df[\"17_group\"] == 171.0) | (df[\"17_group\"] == 172.0))\n",
    "df[\"ml_student\"] = ((df[\"is_ml_student\"] == 1) | (df[\"ml_17\"] == True))"
   ]
  },
  {
   "cell_type": "code",
   "execution_count": 1889,
   "metadata": {},
   "outputs": [
    {
     "data": {
      "text/html": [
       "<div>\n",
       "<style scoped>\n",
       "    .dataframe tbody tr th:only-of-type {\n",
       "        vertical-align: middle;\n",
       "    }\n",
       "\n",
       "    .dataframe tbody tr th {\n",
       "        vertical-align: top;\n",
       "    }\n",
       "\n",
       "    .dataframe thead th {\n",
       "        text-align: right;\n",
       "    }\n",
       "</style>\n",
       "<table border=\"1\" class=\"dataframe\">\n",
       "  <thead>\n",
       "    <tr style=\"text-align: right;\">\n",
       "      <th></th>\n",
       "      <th>id</th>\n",
       "      <th>fall_1</th>\n",
       "      <th>fall_2</th>\n",
       "      <th>fall_3</th>\n",
       "      <th>spring_1</th>\n",
       "      <th>spring_2</th>\n",
       "      <th>spring_3</th>\n",
       "      <th>is_first_time</th>\n",
       "      <th>blended</th>\n",
       "      <th>timestamp</th>\n",
       "      <th>rating</th>\n",
       "      <th>18_group</th>\n",
       "      <th>is_mi</th>\n",
       "      <th>percentile</th>\n",
       "      <th>17_group</th>\n",
       "      <th>is_ml_student</th>\n",
       "      <th>is_ml_ti_student_17</th>\n",
       "      <th>ml_17</th>\n",
       "      <th>ml_student</th>\n",
       "    </tr>\n",
       "  </thead>\n",
       "  <tbody>\n",
       "    <tr>\n",
       "      <td>27</td>\n",
       "      <td>5daee1bd98559bb2c52373e416942225</td>\n",
       "      <td>Сбор и обработка данных с помощью краудсорсинга</td>\n",
       "      <td>Statistical Learning Theory</td>\n",
       "      <td>Моделирование временных рядов</td>\n",
       "      <td>Машинное обучение 2</td>\n",
       "      <td>Промышленное программирование на языке Java</td>\n",
       "      <td>Анализ данных в бизнесе</td>\n",
       "      <td>Нет</td>\n",
       "      <td></td>\n",
       "      <td>2020-05-16 13:02:24.706</td>\n",
       "      <td>593</td>\n",
       "      <td>182.0</td>\n",
       "      <td>0.0</td>\n",
       "      <td>0.681614</td>\n",
       "      <td>0.0</td>\n",
       "      <td>True</td>\n",
       "      <td>False</td>\n",
       "      <td>False</td>\n",
       "      <td>True</td>\n",
       "    </tr>\n",
       "    <tr>\n",
       "      <td>179</td>\n",
       "      <td>abceddfa2fc4eae8cff4a4e712abb3fb</td>\n",
       "      <td>Моделирование временных рядов</td>\n",
       "      <td>Принятие решений в условиях риска и неопределё...</td>\n",
       "      <td>Statistical Learning Theory</td>\n",
       "      <td>Машинное обучение 2</td>\n",
       "      <td>Промышленное программирование на языке Java</td>\n",
       "      <td>Дополнительные главы прикладной статистики</td>\n",
       "      <td>Да</td>\n",
       "      <td></td>\n",
       "      <td>2020-05-18 23:01:03.214</td>\n",
       "      <td>664</td>\n",
       "      <td>183.0</td>\n",
       "      <td>0.0</td>\n",
       "      <td>0.345291</td>\n",
       "      <td>0.0</td>\n",
       "      <td>True</td>\n",
       "      <td>False</td>\n",
       "      <td>False</td>\n",
       "      <td>True</td>\n",
       "    </tr>\n",
       "    <tr>\n",
       "      <td>20</td>\n",
       "      <td>f0f6f3881894172a0f04e79b554b49e6</td>\n",
       "      <td>Безопасность компьютерных систем</td>\n",
       "      <td>Сбор и обработка данных с помощью краудсорсинга</td>\n",
       "      <td>Принятие решений в условиях риска и неопределё...</td>\n",
       "      <td>Машинное обучение 2</td>\n",
       "      <td>Численные методы</td>\n",
       "      <td>Дополнительные главы прикладной статистики</td>\n",
       "      <td>Да</td>\n",
       "      <td></td>\n",
       "      <td>2020-05-15 21:55:16.699</td>\n",
       "      <td>673</td>\n",
       "      <td>181.0</td>\n",
       "      <td>0.0</td>\n",
       "      <td>0.300448</td>\n",
       "      <td>0.0</td>\n",
       "      <td>True</td>\n",
       "      <td>False</td>\n",
       "      <td>False</td>\n",
       "      <td>True</td>\n",
       "    </tr>\n",
       "  </tbody>\n",
       "</table>\n",
       "</div>"
      ],
      "text/plain": [
       "                                   id  \\\n",
       "27   5daee1bd98559bb2c52373e416942225   \n",
       "179  abceddfa2fc4eae8cff4a4e712abb3fb   \n",
       "20   f0f6f3881894172a0f04e79b554b49e6   \n",
       "\n",
       "                                              fall_1  \\\n",
       "27   Сбор и обработка данных с помощью краудсорсинга   \n",
       "179                    Моделирование временных рядов   \n",
       "20                  Безопасность компьютерных систем   \n",
       "\n",
       "                                                fall_2  \\\n",
       "27                         Statistical Learning Theory   \n",
       "179  Принятие решений в условиях риска и неопределё...   \n",
       "20     Сбор и обработка данных с помощью краудсорсинга   \n",
       "\n",
       "                                                fall_3             spring_1  \\\n",
       "27                       Моделирование временных рядов  Машинное обучение 2   \n",
       "179                        Statistical Learning Theory  Машинное обучение 2   \n",
       "20   Принятие решений в условиях риска и неопределё...  Машинное обучение 2   \n",
       "\n",
       "                                        spring_2  \\\n",
       "27   Промышленное программирование на языке Java   \n",
       "179  Промышленное программирование на языке Java   \n",
       "20                              Численные методы   \n",
       "\n",
       "                                       spring_3 is_first_time blended  \\\n",
       "27                      Анализ данных в бизнесе           Нет           \n",
       "179  Дополнительные главы прикладной статистики            Да           \n",
       "20   Дополнительные главы прикладной статистики            Да           \n",
       "\n",
       "                  timestamp  rating  18_group  is_mi  percentile  17_group  \\\n",
       "27  2020-05-16 13:02:24.706     593     182.0    0.0    0.681614       0.0   \n",
       "179 2020-05-18 23:01:03.214     664     183.0    0.0    0.345291       0.0   \n",
       "20  2020-05-15 21:55:16.699     673     181.0    0.0    0.300448       0.0   \n",
       "\n",
       "     is_ml_student  is_ml_ti_student_17  ml_17  ml_student  \n",
       "27            True                False  False        True  \n",
       "179           True                False  False        True  \n",
       "20            True                False  False        True  "
      ]
     },
     "execution_count": 1889,
     "metadata": {},
     "output_type": "execute_result"
    }
   ],
   "source": [
    "df[(df[\"ml_student\"] == True) & (df[\"spring_1\"] == 'Машинное обучение 2')]"
   ]
  },
  {
   "cell_type": "code",
   "execution_count": 1890,
   "metadata": {},
   "outputs": [],
   "source": [
    "df.loc[((df[\"ml_student\"] == True) & (df[\"spring_1\"] == 'Машинное обучение 2')), \"spring_1\"] = df[\"spring_2\"]"
   ]
  },
  {
   "cell_type": "code",
   "execution_count": 1891,
   "metadata": {},
   "outputs": [
    {
     "data": {
      "text/html": [
       "<div>\n",
       "<style scoped>\n",
       "    .dataframe tbody tr th:only-of-type {\n",
       "        vertical-align: middle;\n",
       "    }\n",
       "\n",
       "    .dataframe tbody tr th {\n",
       "        vertical-align: top;\n",
       "    }\n",
       "\n",
       "    .dataframe thead th {\n",
       "        text-align: right;\n",
       "    }\n",
       "</style>\n",
       "<table border=\"1\" class=\"dataframe\">\n",
       "  <thead>\n",
       "    <tr style=\"text-align: right;\">\n",
       "      <th></th>\n",
       "      <th>id</th>\n",
       "      <th>fall_1</th>\n",
       "      <th>fall_2</th>\n",
       "      <th>fall_3</th>\n",
       "      <th>spring_1</th>\n",
       "      <th>spring_2</th>\n",
       "      <th>spring_3</th>\n",
       "      <th>is_first_time</th>\n",
       "      <th>blended</th>\n",
       "      <th>timestamp</th>\n",
       "      <th>rating</th>\n",
       "      <th>18_group</th>\n",
       "      <th>is_mi</th>\n",
       "      <th>percentile</th>\n",
       "      <th>17_group</th>\n",
       "      <th>is_ml_student</th>\n",
       "      <th>is_ml_ti_student_17</th>\n",
       "      <th>ml_17</th>\n",
       "      <th>ml_student</th>\n",
       "    </tr>\n",
       "  </thead>\n",
       "  <tbody>\n",
       "    <tr>\n",
       "      <td>119</td>\n",
       "      <td>fc2c60b8004aa91bc272df84628621ff</td>\n",
       "      <td>Язык SQL</td>\n",
       "      <td>Сбор и обработка данных с помощью краудсорсинга</td>\n",
       "      <td>Statistical Learning Theory</td>\n",
       "      <td>Системы баз данных</td>\n",
       "      <td>Машинное обучение 2</td>\n",
       "      <td>Анализ данных в бизнесе</td>\n",
       "      <td>Нет</td>\n",
       "      <td></td>\n",
       "      <td>2020-05-18 20:34:07.220</td>\n",
       "      <td>639</td>\n",
       "      <td>183.0</td>\n",
       "      <td>0.0</td>\n",
       "      <td>0.461883</td>\n",
       "      <td>0.0</td>\n",
       "      <td>True</td>\n",
       "      <td>False</td>\n",
       "      <td>False</td>\n",
       "      <td>True</td>\n",
       "    </tr>\n",
       "  </tbody>\n",
       "</table>\n",
       "</div>"
      ],
      "text/plain": [
       "                                   id    fall_1  \\\n",
       "119  fc2c60b8004aa91bc272df84628621ff  Язык SQL   \n",
       "\n",
       "                                              fall_2  \\\n",
       "119  Сбор и обработка данных с помощью краудсорсинга   \n",
       "\n",
       "                          fall_3            spring_1             spring_2  \\\n",
       "119  Statistical Learning Theory  Системы баз данных  Машинное обучение 2   \n",
       "\n",
       "                    spring_3 is_first_time blended               timestamp  \\\n",
       "119  Анализ данных в бизнесе           Нет         2020-05-18 20:34:07.220   \n",
       "\n",
       "     rating  18_group  is_mi  percentile  17_group  is_ml_student  \\\n",
       "119     639     183.0    0.0    0.461883       0.0           True   \n",
       "\n",
       "     is_ml_ti_student_17  ml_17  ml_student  \n",
       "119                False  False        True  "
      ]
     },
     "execution_count": 1891,
     "metadata": {},
     "output_type": "execute_result"
    }
   ],
   "source": [
    "df[(df[\"ml_student\"] == True) & (df[\"spring_2\"] == 'Машинное обучение 2')]"
   ]
  },
  {
   "cell_type": "code",
   "execution_count": 1892,
   "metadata": {},
   "outputs": [],
   "source": [
    "df.loc[((df[\"ml_student\"] == True) & (df[\"spring_2\"] == 'Машинное обучение 2')), \"spring_2\"] = df[\"spring_3\"]"
   ]
  },
  {
   "cell_type": "code",
   "execution_count": 1893,
   "metadata": {},
   "outputs": [
    {
     "data": {
      "text/html": [
       "<div>\n",
       "<style scoped>\n",
       "    .dataframe tbody tr th:only-of-type {\n",
       "        vertical-align: middle;\n",
       "    }\n",
       "\n",
       "    .dataframe tbody tr th {\n",
       "        vertical-align: top;\n",
       "    }\n",
       "\n",
       "    .dataframe thead th {\n",
       "        text-align: right;\n",
       "    }\n",
       "</style>\n",
       "<table border=\"1\" class=\"dataframe\">\n",
       "  <thead>\n",
       "    <tr style=\"text-align: right;\">\n",
       "      <th></th>\n",
       "      <th>id</th>\n",
       "      <th>fall_1</th>\n",
       "      <th>fall_2</th>\n",
       "      <th>fall_3</th>\n",
       "      <th>spring_1</th>\n",
       "      <th>spring_2</th>\n",
       "      <th>spring_3</th>\n",
       "      <th>is_first_time</th>\n",
       "      <th>blended</th>\n",
       "      <th>timestamp</th>\n",
       "      <th>rating</th>\n",
       "      <th>18_group</th>\n",
       "      <th>is_mi</th>\n",
       "      <th>percentile</th>\n",
       "      <th>17_group</th>\n",
       "      <th>is_ml_student</th>\n",
       "      <th>is_ml_ti_student_17</th>\n",
       "      <th>ml_17</th>\n",
       "      <th>ml_student</th>\n",
       "    </tr>\n",
       "  </thead>\n",
       "  <tbody>\n",
       "    <tr>\n",
       "      <td>137</td>\n",
       "      <td>6ed89e424179b0510e3f7c0cb7369ad6</td>\n",
       "      <td>Моделирование временных рядов</td>\n",
       "      <td>Матричные вычисления</td>\n",
       "      <td>Язык SQL</td>\n",
       "      <td>Анализ данных в бизнесе</td>\n",
       "      <td>Промышленное программирование на языке Java</td>\n",
       "      <td>Машинное обучение 2</td>\n",
       "      <td>Да</td>\n",
       "      <td></td>\n",
       "      <td>2020-05-18 21:24:23.667</td>\n",
       "      <td>558</td>\n",
       "      <td>187.0</td>\n",
       "      <td>0.0</td>\n",
       "      <td>0.838565</td>\n",
       "      <td>0.0</td>\n",
       "      <td>True</td>\n",
       "      <td>False</td>\n",
       "      <td>False</td>\n",
       "      <td>True</td>\n",
       "    </tr>\n",
       "  </tbody>\n",
       "</table>\n",
       "</div>"
      ],
      "text/plain": [
       "                                   id                         fall_1  \\\n",
       "137  6ed89e424179b0510e3f7c0cb7369ad6  Моделирование временных рядов   \n",
       "\n",
       "                   fall_2    fall_3                 spring_1  \\\n",
       "137  Матричные вычисления  Язык SQL  Анализ данных в бизнесе   \n",
       "\n",
       "                                        spring_2             spring_3  \\\n",
       "137  Промышленное программирование на языке Java  Машинное обучение 2   \n",
       "\n",
       "    is_first_time blended               timestamp  rating  18_group  is_mi  \\\n",
       "137            Да         2020-05-18 21:24:23.667     558     187.0    0.0   \n",
       "\n",
       "     percentile  17_group  is_ml_student  is_ml_ti_student_17  ml_17  \\\n",
       "137    0.838565       0.0           True                False  False   \n",
       "\n",
       "     ml_student  \n",
       "137        True  "
      ]
     },
     "execution_count": 1893,
     "metadata": {},
     "output_type": "execute_result"
    }
   ],
   "source": [
    "df[(df[\"ml_student\"] == True) & (df[\"spring_3\"] == 'Машинное обучение 2')]"
   ]
  },
  {
   "cell_type": "code",
   "execution_count": 1894,
   "metadata": {},
   "outputs": [],
   "source": [
    "# скопирую просто spring_2, я все равно потом, если проходит в волну на одинаковые курсы, удаляю\n",
    "\n",
    "df.loc[((df[\"ml_student\"] == True) & (df[\"spring_3\"] == 'Машинное обучение 2')), \"spring_3\"] = df[\"spring_2\"]"
   ]
  },
  {
   "cell_type": "code",
   "execution_count": 1895,
   "metadata": {},
   "outputs": [],
   "source": [
    "df[\"courses_num_spring\"] = (df[\"ml_17\"] == True) + 1"
   ]
  },
  {
   "cell_type": "markdown",
   "metadata": {},
   "source": [
    "извините за красоту дальше..."
   ]
  },
  {
   "cell_type": "code",
   "execution_count": 1896,
   "metadata": {
    "id": "hwmusOGThLu7"
   },
   "outputs": [],
   "source": [
    "df = df.sort_values(by=['percentile']).reset_index()\n",
    "df.index = df.index + 1\n",
    "df = df.drop(columns=['index'])\n",
    "for course in all_courses:\n",
    "    df[course] = (df.index * (((df[\"ml_17\"] != 0) & (df[\"spring_2\"] == course)) | (df[\"spring_1\"] == course)))\n",
    "# теперь в столбике каждого курса стоит или 0, если студент на этот курс в первую волну не хотел, или номер студента\n",
    "for course in all_courses:\n",
    "    course_want = df[course][df[course] != 0].values.astype(int)\n",
    "    course_num = len(course_want)\n",
    "    \n",
    "    if course_num == 0:\n",
    "        continue\n",
    "    \n",
    "    # разбираюсь с числом мест на курс\n",
    "    if (course == 'Анализ данных в бизнесе') or (course == 'Обучение с подкреплением'):\n",
    "        places = min(60, course_num)\n",
    "    else:\n",
    "        places = min(30, course_num)\n",
    "    \n",
    "    # определяю номер в df первого и последнего взятого (df отсортирована по перцентилю)\n",
    "    first_taken = course_want[0]\n",
    "    last_taken = course_want[places - 1]\n",
    "    \n",
    "    # чтобы были не индексы в столбиках, а 1 -- кого взяли, 0 -- кого нет или кто не хотел\n",
    "    taken = df[course][:last_taken]\n",
    "    taken[taken != 0] = 1\n",
    "    \n",
    "    # теперь в столбике курса будут 0 у тех, кто не пошел или кого не взяли, и номер в df у остальных\n",
    "    df[course] = np.append(taken, 0 * df[course][last_taken:])\n",
    "    \n",
    "    # делаю для следующего задания штуку: фиксирую первого и последнего взятого в нужных столбиках\n",
    "    df.loc[first_taken, \"is_first_place\"] = True\n",
    "    df.loc[last_taken, \"is_last_place\"] = True\n",
    "    \n",
    "# тут я посчитала число желающих на каждый курс, посчитала, сколько человек возьмут, нашла номер последнего попавшего\n",
    "# и в каждом столбике курса обнулила ячейки ниже его. получилось, что 0 стоят у тех, кто не попал, и у тех, кто и не хотел\n",
    "df[\"course1\"] = pd.Series(np.ones(df.shape[0] + 1) * (-1))\n",
    "df[\"course2\"] = pd.Series(np.ones(df.shape[0] + 1) * (-1))\n",
    "for course in all_courses:\n",
    "    df.loc[(df[course] != 0) & (df[\"course1\"] != -1), \"course2\"] = course\n",
    "    df.loc[(df[course] != 0) & (df[\"course1\"] == -1), \"course1\"] = course\n",
    "df.loc[(df[\"course1\"] == df[\"course2\"]) & (df[\"course1\"] != -1), \"course2\"] = -1"
   ]
  },
  {
   "cell_type": "code",
   "execution_count": 1901,
   "metadata": {},
   "outputs": [],
   "source": [
    "df[\"is_1_wave\"] = (df[\"courses_num_spring\"] == df.iloc[:, 18:45].sum(axis=1))\n",
    "# тут будет количество оставшихся мест\n",
    "\n",
    "course_places = dict()\n",
    "for course in all_courses:\n",
    "    reserved = (df[course])[df[course] != 0]\n",
    "    \n",
    "    if (course == 'Анализ данных в бизнесе') or (course == 'Обучение с подкреплением'):\n",
    "        places = 60\n",
    "    else:\n",
    "        places = 30\n",
    "    \n",
    "    course_places[course] = places - reserved.shape[0]\n",
    "# сюда сохраним тех, кто в первую волну управился. для тех, кому нужно выбрать только один курс, вторым курсом поставим -\n",
    "\n",
    "first = df[df[\"is_1_wave\"] == True]\n",
    "first.loc[first[\"courses_num_spring\"] == 1, \"course2\"] = '-'\n",
    "# это кто остался на вторую волну\n",
    "\n",
    "second = df[df[\"is_1_wave\"] == False]\n",
    "second = second.sort_values(by=['percentile']).reset_index()\n",
    "second = second.drop(columns=['index'])\n",
    "second.index = second.index + 1\n",
    "for course in all_courses:\n",
    "    second[course] = np.zeros(second.shape[0])\n",
    "    \n",
    "# вдруг на какой-то курс никто не захотел вторым или третьим приоритетом. останется старая инфа, тут она будет неверная\n",
    "for course in all_courses:\n",
    "    second[course] = (second.index * (((second[\"ml_17\"] != 0) & \n",
    "                               (second[\"spring_3\"] == course)) | \n",
    "                                      (second[\"ml_17\"] == 0) &\n",
    "                                      (second[\"spring_2\"] == course)))\n",
    "    \n",
    "# теперь в столбике каждого курса стоит или 0, если студент на этот курс в первую волну не хотел, или номер студента\n",
    "# отсортировала по перцентилю, сбросила индексы и сделала, чтобы они были с единицы (я потом на индекс буду умножать)\n",
    "for course in all_courses:\n",
    "    course_want = second[course][second[course] != 0].values.astype(int)\n",
    "    course_num = len(course_want)\n",
    "    \n",
    "    # если курс а-ля МО-2, который осенью никто не взял, просто пропускаем. мне подходит, что в этом столбике останутся все 0\n",
    "    if course_num == 0:\n",
    "        continue\n",
    "    \n",
    "    places = min(course_num, course_places[course])\n",
    "    last_taken = course_want[places - 1]\n",
    "    \n",
    "    # чтобы были не индексы в столбиках, а 1 -- кого взяли, 0 -- кого нет или кто не хотел\n",
    "    taken = second[course][:last_taken]\n",
    "    taken[taken != 0] = 1\n",
    "    \n",
    "    # теперь в столбике курса будут 0 у тех, кто не пошел или кого не взяли, и номер в df у остальных\n",
    "    second[course] = np.append(taken, 0 * second[course][last_taken:])\n",
    "    \n",
    "    course_places[course] -= places\n",
    "# тут я посчитала число желающих на каждый курс, посчитала, сколько человек возьмут, нашла номер последнего попавшего\n",
    "# и в каждом столбике курса обнулила ячейки ниже его. получилось, что 0 стоят у тех, кто не попал, и у тех, кто и не хотел\n",
    "for course in all_courses:\n",
    "    second.loc[(second[course] != 0) & (second[\"course1\"] != -1), \"course2\"] = course\n",
    "    second.loc[(second[course] != 0) & (second[\"course1\"] == -1), \"course1\"] = course\n",
    "second.loc[(second[\"course1\"] == second[\"course2\"]) & (second[\"course1\"] != -1), \"course2\"] = -1\n",
    "second[\"is_2_wave\"] = (pd.Series(np.ones(second.shape[0] + 1)) == 4.0)\n",
    "second.loc[((second[\"courses_num_spring\"] == 2) & (second[\"course1\"] != -1) & (second[\"course2\"] != -1)), \"is_2_wave\"] = True\n",
    "second.loc[((second[\"course1\"] != -1) & (second[\"courses_num_spring\"] == 1)), \"is_2_wave\"] = True\n",
    "third = second[second[\"is_2_wave\"] == False]\n",
    "\n",
    "# список для третьей волны\n",
    "# оставим только вторую\n",
    "\n",
    "second = second[second[\"is_2_wave\"] == True]\n",
    "second.loc[second[\"courses_num_spring\"] == 1, \"course2\"] = '-'\n",
    "third = third.sort_values(by=['percentile']).reset_index()\n",
    "third = third.drop(columns=['index'])\n",
    "third.index = third.index + 1\n",
    "for course in all_courses:\n",
    "    third[course] = np.zeros(third.shape[0])\n",
    "    \n",
    "# вдруг на какой-то курс никто не захотел вторым или третьим приоритетом. останется старая инфа, тут она будет неверная\n",
    "for course in all_courses:\n",
    "    third[course] = third.index * ((third[\"ml_17\"] == 0) & (third[\"spring_3\"] == course))\n",
    "    \n",
    "# теперь в столбике каждого курса стоит или 0, если студент на этот курс в первую волну не хотел, или номер студента\n",
    "# отсортировала по перцентилю, сбросила индексы и сделала, чтобы они были с единицы (я потом на индекс буду умножать)\n",
    "for course in all_courses:\n",
    "    course_want = third[course][third[course] != 0].values.astype(int)\n",
    "    course_num = len(course_want)\n",
    "    \n",
    "    if course_num == 0:\n",
    "        continue\n",
    "    \n",
    "    places = min(course_num, course_places[course])\n",
    "    last_taken = course_want[places - 1]\n",
    "    \n",
    "    # чтобы были не индексы в столбиках, а 1 -- кого взяли, 0 -- кого нет или кто не хотел\n",
    "    taken = third[course][:last_taken]\n",
    "    taken[taken != 0] = 1\n",
    "    \n",
    "    # теперь в столбике курса будут 0 у тех, кто не пошел или кого не взяли, и номер в df у остальных\n",
    "    third[course] = np.append(taken, 0 * third[course][last_taken:])\n",
    "    \n",
    "# тут я посчитала число желающих на каждый курс, посчитала, сколько человек возьмут, нашла номер последнего попавшего\n",
    "# и в каждом столбике курса обнулила ячейки ниже его. получилось, что 0 стоят у тех, кто не попал, и у тех, кто и не хотел\n",
    "for course in all_courses:\n",
    "    third.loc[(third[course] != 0) & (third[\"course1\"] != -1), \"course2\"] = course\n",
    "    third.loc[(third[course] != 0) & (third[\"course1\"] == -1), \"course1\"] = course\n",
    "third.loc[(third[\"course1\"] == third[\"course2\"]) & (third[\"course1\"] != -1), \"course2\"] = -1\n",
    "third[\"is_3_wave\"] = (pd.Series(np.ones(third.shape[0] + 1)) == 4.0)\n",
    "third.loc[((third[\"courses_num_spring\"] == 2) & (third[\"course1\"] != -1) & (third[\"course2\"] != -1)), \"is_3_wave\"] = True\n",
    "third.loc[((third[\"course1\"] != -1) & (third[\"courses_num_spring\"] == 1)), \"is_3_wave\"] = True\n",
    "loosers = third[third[\"is_3_wave\"] == False]\n",
    "\n",
    "# кто не смог набрать нужное число курсов\n",
    "loosers.loc[loosers[\"course1\"] == -1, \"course1\"] = '???'\n",
    "loosers.loc[loosers[\"course2\"] == -1, \"course2\"] = '???'\n",
    "third = third[third[\"is_3_wave\"] == True]\n",
    "third.loc[third[\"courses_num_spring\"] == 1, \"course2\"] = '-'\n",
    "# теперь надо объединить таблицы\n",
    "\n",
    "first_courses = first.loc[:, [\"id\", \"course1\", \"course2\"]]\n",
    "second_courses = second.loc[:, [\"id\", \"course1\", \"course2\"]]\n",
    "third_courses = third.loc[:, [\"id\", \"course1\", \"course2\"]]\n",
    "loosers_courses = loosers.loc[:, [\"id\", \"course1\", \"course2\"]]\n",
    "result = pd.concat([first_courses,second_courses,third_courses,loosers_courses],axis=0).reset_index()\n",
    "result = result.drop(columns=['index'])\n",
    "result.rename(columns = {'id':'ID'}, inplace = True)\n",
    "result.to_csv('res_spring.csv', index=None)"
   ]
  },
  {
   "cell_type": "markdown",
   "metadata": {
    "id": "It7QQZLYhLu7"
   },
   "source": [
    "**Отправьте свой файл res_spring.csv в контест (https://contest.yandex.ru/contest/29176/problems/B/) и прикрепите/укажите ниже ваш никнейм и ссылку на успешную посылку.**"
   ]
  },
  {
   "cell_type": "markdown",
   "metadata": {},
   "source": [
    "ник: a.dtc\n",
    "\n",
    "ссылка: https://contest.yandex.ru/contest/29176/run-report/53499549/"
   ]
  },
  {
   "cell_type": "markdown",
   "metadata": {
    "id": "1YcouVTihLu7"
   },
   "source": [
    "На всякий случай просим вас сдать вместе с ноутбуком файл res_spring.csv в anytask"
   ]
  },
  {
   "cell_type": "markdown",
   "metadata": {
    "id": "uY_OY6inhLu7"
   },
   "source": [
    "Вставьте картинку, описывающую ваш опыт выполнения этого задания:"
   ]
  },
  {
   "cell_type": "markdown",
   "metadata": {
    "id": "R9_7CnSFhLu7"
   },
   "source": [
    "воздержусь..."
   ]
  }
 ],
 "metadata": {
  "colab": {
   "name": "homework-practice-01-pandas.ipynb",
   "provenance": []
  },
  "kernelspec": {
   "display_name": "Python 3 (ipykernel)",
   "language": "python",
   "name": "python3"
  },
  "language_info": {
   "codemirror_mode": {
    "name": "ipython",
    "version": 3
   },
   "file_extension": ".py",
   "mimetype": "text/x-python",
   "name": "python",
   "nbconvert_exporter": "python",
   "pygments_lexer": "ipython3",
   "version": "3.8.10"
  },
  "varInspector": {
   "cols": {
    "lenName": 16,
    "lenType": 16,
    "lenVar": 40
   },
   "kernels_config": {
    "python": {
     "delete_cmd_postfix": "",
     "delete_cmd_prefix": "del ",
     "library": "var_list.py",
     "varRefreshCmd": "print(var_dic_list())"
    },
    "r": {
     "delete_cmd_postfix": ") ",
     "delete_cmd_prefix": "rm(",
     "library": "var_list.r",
     "varRefreshCmd": "cat(var_dic_list()) "
    }
   },
   "types_to_exclude": [
    "module",
    "function",
    "builtin_function_or_method",
    "instance",
    "_Feature"
   ],
   "window_display": false
  }
 },
 "nbformat": 4,
 "nbformat_minor": 1
}
